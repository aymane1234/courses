{
 "cells": [
  {
   "cell_type": "markdown",
   "id": "18da5614",
   "metadata": {},
   "source": [
    "build a model that predicts the breakdown of a machine before it breaks down. Aim of this:\n",
    "\n",
    "Get a practical idea on how to approach this problem from a technical as well as from a workflow perspective.\n",
    "\n",
    "See a completed solution\n",
    "\n",
    "Most importantly, understand  conclusions drawn at every stage and the proposed next steps."
   ]
  },
  {
   "cell_type": "markdown",
   "id": "e9c2366a",
   "metadata": {},
   "source": [
    "# EDA"
   ]
  },
  {
   "cell_type": "code",
   "execution_count": 1,
   "id": "a68d0876",
   "metadata": {},
   "outputs": [],
   "source": [
    "import pandas as pd\n",
    "import numpy as np\n",
    "import seaborn as sns                       #visualisation\n",
    "import matplotlib.pyplot as plt             #visualisation\n",
    "%matplotlib inline     \n",
    "sns.set(color_codes=True)"
   ]
  },
  {
   "cell_type": "code",
   "execution_count": 2,
   "id": "c81a239a",
   "metadata": {},
   "outputs": [
    {
     "data": {
      "text/html": [
       "<div>\n",
       "<style scoped>\n",
       "    .dataframe tbody tr th:only-of-type {\n",
       "        vertical-align: middle;\n",
       "    }\n",
       "\n",
       "    .dataframe tbody tr th {\n",
       "        vertical-align: top;\n",
       "    }\n",
       "\n",
       "    .dataframe thead th {\n",
       "        text-align: right;\n",
       "    }\n",
       "</style>\n",
       "<table border=\"1\" class=\"dataframe\">\n",
       "  <thead>\n",
       "    <tr style=\"text-align: right;\">\n",
       "      <th></th>\n",
       "      <th>Unnamed: 0</th>\n",
       "      <th>timestamp</th>\n",
       "      <th>sensor_00</th>\n",
       "      <th>sensor_01</th>\n",
       "      <th>sensor_02</th>\n",
       "      <th>sensor_03</th>\n",
       "      <th>sensor_04</th>\n",
       "      <th>sensor_05</th>\n",
       "      <th>sensor_06</th>\n",
       "      <th>sensor_07</th>\n",
       "      <th>...</th>\n",
       "      <th>sensor_43</th>\n",
       "      <th>sensor_44</th>\n",
       "      <th>sensor_45</th>\n",
       "      <th>sensor_46</th>\n",
       "      <th>sensor_47</th>\n",
       "      <th>sensor_48</th>\n",
       "      <th>sensor_49</th>\n",
       "      <th>sensor_50</th>\n",
       "      <th>sensor_51</th>\n",
       "      <th>machine_status</th>\n",
       "    </tr>\n",
       "  </thead>\n",
       "  <tbody>\n",
       "    <tr>\n",
       "      <th>0</th>\n",
       "      <td>0</td>\n",
       "      <td>2018-04-01 00:00:00</td>\n",
       "      <td>2.465394</td>\n",
       "      <td>47.09201</td>\n",
       "      <td>53.2118</td>\n",
       "      <td>46.310760</td>\n",
       "      <td>634.3750</td>\n",
       "      <td>76.45975</td>\n",
       "      <td>13.41146</td>\n",
       "      <td>16.13136</td>\n",
       "      <td>...</td>\n",
       "      <td>41.92708</td>\n",
       "      <td>39.641200</td>\n",
       "      <td>65.68287</td>\n",
       "      <td>50.92593</td>\n",
       "      <td>38.194440</td>\n",
       "      <td>157.9861</td>\n",
       "      <td>67.70834</td>\n",
       "      <td>243.0556</td>\n",
       "      <td>201.3889</td>\n",
       "      <td>NORMAL</td>\n",
       "    </tr>\n",
       "    <tr>\n",
       "      <th>1</th>\n",
       "      <td>1</td>\n",
       "      <td>2018-04-01 00:01:00</td>\n",
       "      <td>2.465394</td>\n",
       "      <td>47.09201</td>\n",
       "      <td>53.2118</td>\n",
       "      <td>46.310760</td>\n",
       "      <td>634.3750</td>\n",
       "      <td>76.45975</td>\n",
       "      <td>13.41146</td>\n",
       "      <td>16.13136</td>\n",
       "      <td>...</td>\n",
       "      <td>41.92708</td>\n",
       "      <td>39.641200</td>\n",
       "      <td>65.68287</td>\n",
       "      <td>50.92593</td>\n",
       "      <td>38.194440</td>\n",
       "      <td>157.9861</td>\n",
       "      <td>67.70834</td>\n",
       "      <td>243.0556</td>\n",
       "      <td>201.3889</td>\n",
       "      <td>NORMAL</td>\n",
       "    </tr>\n",
       "    <tr>\n",
       "      <th>2</th>\n",
       "      <td>2</td>\n",
       "      <td>2018-04-01 00:02:00</td>\n",
       "      <td>2.444734</td>\n",
       "      <td>47.35243</td>\n",
       "      <td>53.2118</td>\n",
       "      <td>46.397570</td>\n",
       "      <td>638.8889</td>\n",
       "      <td>73.54598</td>\n",
       "      <td>13.32465</td>\n",
       "      <td>16.03733</td>\n",
       "      <td>...</td>\n",
       "      <td>41.66666</td>\n",
       "      <td>39.351852</td>\n",
       "      <td>65.39352</td>\n",
       "      <td>51.21528</td>\n",
       "      <td>38.194443</td>\n",
       "      <td>155.9606</td>\n",
       "      <td>67.12963</td>\n",
       "      <td>241.3194</td>\n",
       "      <td>203.7037</td>\n",
       "      <td>NORMAL</td>\n",
       "    </tr>\n",
       "    <tr>\n",
       "      <th>3</th>\n",
       "      <td>3</td>\n",
       "      <td>2018-04-01 00:03:00</td>\n",
       "      <td>2.460474</td>\n",
       "      <td>47.09201</td>\n",
       "      <td>53.1684</td>\n",
       "      <td>46.397568</td>\n",
       "      <td>628.1250</td>\n",
       "      <td>76.98898</td>\n",
       "      <td>13.31742</td>\n",
       "      <td>16.24711</td>\n",
       "      <td>...</td>\n",
       "      <td>40.88541</td>\n",
       "      <td>39.062500</td>\n",
       "      <td>64.81481</td>\n",
       "      <td>51.21528</td>\n",
       "      <td>38.194440</td>\n",
       "      <td>155.9606</td>\n",
       "      <td>66.84028</td>\n",
       "      <td>240.4514</td>\n",
       "      <td>203.1250</td>\n",
       "      <td>NORMAL</td>\n",
       "    </tr>\n",
       "    <tr>\n",
       "      <th>4</th>\n",
       "      <td>4</td>\n",
       "      <td>2018-04-01 00:04:00</td>\n",
       "      <td>2.445718</td>\n",
       "      <td>47.13541</td>\n",
       "      <td>53.2118</td>\n",
       "      <td>46.397568</td>\n",
       "      <td>636.4583</td>\n",
       "      <td>76.58897</td>\n",
       "      <td>13.35359</td>\n",
       "      <td>16.21094</td>\n",
       "      <td>...</td>\n",
       "      <td>41.40625</td>\n",
       "      <td>38.773150</td>\n",
       "      <td>65.10416</td>\n",
       "      <td>51.79398</td>\n",
       "      <td>38.773150</td>\n",
       "      <td>158.2755</td>\n",
       "      <td>66.55093</td>\n",
       "      <td>242.1875</td>\n",
       "      <td>201.3889</td>\n",
       "      <td>NORMAL</td>\n",
       "    </tr>\n",
       "  </tbody>\n",
       "</table>\n",
       "<p>5 rows × 55 columns</p>\n",
       "</div>"
      ],
      "text/plain": [
       "   Unnamed: 0            timestamp  sensor_00  sensor_01  sensor_02  \\\n",
       "0           0  2018-04-01 00:00:00   2.465394   47.09201    53.2118   \n",
       "1           1  2018-04-01 00:01:00   2.465394   47.09201    53.2118   \n",
       "2           2  2018-04-01 00:02:00   2.444734   47.35243    53.2118   \n",
       "3           3  2018-04-01 00:03:00   2.460474   47.09201    53.1684   \n",
       "4           4  2018-04-01 00:04:00   2.445718   47.13541    53.2118   \n",
       "\n",
       "   sensor_03  sensor_04  sensor_05  sensor_06  sensor_07  ...  sensor_43  \\\n",
       "0  46.310760   634.3750   76.45975   13.41146   16.13136  ...   41.92708   \n",
       "1  46.310760   634.3750   76.45975   13.41146   16.13136  ...   41.92708   \n",
       "2  46.397570   638.8889   73.54598   13.32465   16.03733  ...   41.66666   \n",
       "3  46.397568   628.1250   76.98898   13.31742   16.24711  ...   40.88541   \n",
       "4  46.397568   636.4583   76.58897   13.35359   16.21094  ...   41.40625   \n",
       "\n",
       "   sensor_44  sensor_45  sensor_46  sensor_47  sensor_48  sensor_49  \\\n",
       "0  39.641200   65.68287   50.92593  38.194440   157.9861   67.70834   \n",
       "1  39.641200   65.68287   50.92593  38.194440   157.9861   67.70834   \n",
       "2  39.351852   65.39352   51.21528  38.194443   155.9606   67.12963   \n",
       "3  39.062500   64.81481   51.21528  38.194440   155.9606   66.84028   \n",
       "4  38.773150   65.10416   51.79398  38.773150   158.2755   66.55093   \n",
       "\n",
       "   sensor_50  sensor_51  machine_status  \n",
       "0   243.0556   201.3889          NORMAL  \n",
       "1   243.0556   201.3889          NORMAL  \n",
       "2   241.3194   203.7037          NORMAL  \n",
       "3   240.4514   203.1250          NORMAL  \n",
       "4   242.1875   201.3889          NORMAL  \n",
       "\n",
       "[5 rows x 55 columns]"
      ]
     },
     "execution_count": 2,
     "metadata": {},
     "output_type": "execute_result"
    }
   ],
   "source": [
    "data = pd.read_csv('./sensor.csv')\n",
    "data.head()"
   ]
  },
  {
   "cell_type": "code",
   "execution_count": 3,
   "id": "510aaf0d",
   "metadata": {},
   "outputs": [
    {
     "data": {
      "text/plain": [
       "Unnamed: 0          int64\n",
       "timestamp          object\n",
       "sensor_00         float64\n",
       "sensor_01         float64\n",
       "sensor_02         float64\n",
       "sensor_03         float64\n",
       "sensor_04         float64\n",
       "sensor_05         float64\n",
       "sensor_06         float64\n",
       "sensor_07         float64\n",
       "sensor_08         float64\n",
       "sensor_09         float64\n",
       "sensor_10         float64\n",
       "sensor_11         float64\n",
       "sensor_12         float64\n",
       "sensor_13         float64\n",
       "sensor_14         float64\n",
       "sensor_15         float64\n",
       "sensor_16         float64\n",
       "sensor_17         float64\n",
       "sensor_18         float64\n",
       "sensor_19         float64\n",
       "sensor_20         float64\n",
       "sensor_21         float64\n",
       "sensor_22         float64\n",
       "sensor_23         float64\n",
       "sensor_24         float64\n",
       "sensor_25         float64\n",
       "sensor_26         float64\n",
       "sensor_27         float64\n",
       "sensor_28         float64\n",
       "sensor_29         float64\n",
       "sensor_30         float64\n",
       "sensor_31         float64\n",
       "sensor_32         float64\n",
       "sensor_33         float64\n",
       "sensor_34         float64\n",
       "sensor_35         float64\n",
       "sensor_36         float64\n",
       "sensor_37         float64\n",
       "sensor_38         float64\n",
       "sensor_39         float64\n",
       "sensor_40         float64\n",
       "sensor_41         float64\n",
       "sensor_42         float64\n",
       "sensor_43         float64\n",
       "sensor_44         float64\n",
       "sensor_45         float64\n",
       "sensor_46         float64\n",
       "sensor_47         float64\n",
       "sensor_48         float64\n",
       "sensor_49         float64\n",
       "sensor_50         float64\n",
       "sensor_51         float64\n",
       "machine_status     object\n",
       "dtype: object"
      ]
     },
     "execution_count": 3,
     "metadata": {},
     "output_type": "execute_result"
    }
   ],
   "source": [
    "data.dtypes"
   ]
  },
  {
   "cell_type": "code",
   "execution_count": 4,
   "id": "8c24dbed",
   "metadata": {},
   "outputs": [
    {
     "data": {
      "text/plain": [
       "Index(['Unnamed: 0', 'timestamp', 'sensor_00', 'sensor_01', 'sensor_02',\n",
       "       'sensor_03', 'sensor_04', 'sensor_05', 'sensor_06', 'sensor_07',\n",
       "       'sensor_08', 'sensor_09', 'sensor_10', 'sensor_11', 'sensor_12',\n",
       "       'sensor_13', 'sensor_14', 'sensor_15', 'sensor_16', 'sensor_17',\n",
       "       'sensor_18', 'sensor_19', 'sensor_20', 'sensor_21', 'sensor_22',\n",
       "       'sensor_23', 'sensor_24', 'sensor_25', 'sensor_26', 'sensor_27',\n",
       "       'sensor_28', 'sensor_29', 'sensor_30', 'sensor_31', 'sensor_32',\n",
       "       'sensor_33', 'sensor_34', 'sensor_35', 'sensor_36', 'sensor_37',\n",
       "       'sensor_38', 'sensor_39', 'sensor_40', 'sensor_41', 'sensor_42',\n",
       "       'sensor_43', 'sensor_44', 'sensor_45', 'sensor_46', 'sensor_47',\n",
       "       'sensor_48', 'sensor_49', 'sensor_50', 'sensor_51', 'machine_status'],\n",
       "      dtype='object')"
      ]
     },
     "execution_count": 4,
     "metadata": {},
     "output_type": "execute_result"
    }
   ],
   "source": [
    "data.columns"
   ]
  },
  {
   "cell_type": "code",
   "execution_count": 5,
   "id": "3139aea0",
   "metadata": {},
   "outputs": [
    {
     "data": {
      "text/plain": [
       "0         False\n",
       "1         False\n",
       "2         False\n",
       "3         False\n",
       "4         False\n",
       "          ...  \n",
       "220315    False\n",
       "220316    False\n",
       "220317    False\n",
       "220318    False\n",
       "220319    False\n",
       "Length: 220320, dtype: bool"
      ]
     },
     "execution_count": 5,
     "metadata": {},
     "output_type": "execute_result"
    }
   ],
   "source": [
    "data.duplicated()"
   ]
  },
  {
   "cell_type": "code",
   "execution_count": 6,
   "id": "29f461c1",
   "metadata": {},
   "outputs": [
    {
     "data": {
      "text/plain": [
       "Unnamed: 0        220320\n",
       "timestamp         220320\n",
       "sensor_00         210112\n",
       "sensor_01         219951\n",
       "sensor_02         220301\n",
       "sensor_03         220301\n",
       "sensor_04         220301\n",
       "sensor_05         220301\n",
       "sensor_06         215522\n",
       "sensor_07         214869\n",
       "sensor_08         215213\n",
       "sensor_09         215725\n",
       "sensor_10         220301\n",
       "sensor_11         220301\n",
       "sensor_12         220301\n",
       "sensor_13         220301\n",
       "sensor_14         220299\n",
       "sensor_15              0\n",
       "sensor_16         220289\n",
       "sensor_17         220274\n",
       "sensor_18         220274\n",
       "sensor_19         220304\n",
       "sensor_20         220304\n",
       "sensor_21         220304\n",
       "sensor_22         220279\n",
       "sensor_23         220304\n",
       "sensor_24         220304\n",
       "sensor_25         220284\n",
       "sensor_26         220300\n",
       "sensor_27         220304\n",
       "sensor_28         220304\n",
       "sensor_29         220248\n",
       "sensor_30         220059\n",
       "sensor_31         220304\n",
       "sensor_32         220252\n",
       "sensor_33         220304\n",
       "sensor_34         220304\n",
       "sensor_35         220304\n",
       "sensor_36         220304\n",
       "sensor_37         220304\n",
       "sensor_38         220293\n",
       "sensor_39         220293\n",
       "sensor_40         220293\n",
       "sensor_41         220293\n",
       "sensor_42         220293\n",
       "sensor_43         220293\n",
       "sensor_44         220293\n",
       "sensor_45         220293\n",
       "sensor_46         220293\n",
       "sensor_47         220293\n",
       "sensor_48         220293\n",
       "sensor_49         220293\n",
       "sensor_50         143303\n",
       "sensor_51         204937\n",
       "machine_status    220320\n",
       "dtype: int64"
      ]
     },
     "execution_count": 6,
     "metadata": {},
     "output_type": "execute_result"
    }
   ],
   "source": [
    "data.count()"
   ]
  },
  {
   "cell_type": "code",
   "execution_count": 7,
   "id": "3affbdaa",
   "metadata": {},
   "outputs": [
    {
     "data": {
      "text/html": [
       "<div>\n",
       "<style scoped>\n",
       "    .dataframe tbody tr th:only-of-type {\n",
       "        vertical-align: middle;\n",
       "    }\n",
       "\n",
       "    .dataframe tbody tr th {\n",
       "        vertical-align: top;\n",
       "    }\n",
       "\n",
       "    .dataframe thead th {\n",
       "        text-align: right;\n",
       "    }\n",
       "</style>\n",
       "<table border=\"1\" class=\"dataframe\">\n",
       "  <thead>\n",
       "    <tr style=\"text-align: right;\">\n",
       "      <th></th>\n",
       "      <th>Unnamed: 0</th>\n",
       "      <th>timestamp</th>\n",
       "      <th>sensor_00</th>\n",
       "      <th>sensor_01</th>\n",
       "      <th>sensor_02</th>\n",
       "      <th>sensor_03</th>\n",
       "      <th>sensor_04</th>\n",
       "      <th>sensor_05</th>\n",
       "      <th>sensor_06</th>\n",
       "      <th>sensor_07</th>\n",
       "      <th>...</th>\n",
       "      <th>sensor_43</th>\n",
       "      <th>sensor_44</th>\n",
       "      <th>sensor_45</th>\n",
       "      <th>sensor_46</th>\n",
       "      <th>sensor_47</th>\n",
       "      <th>sensor_48</th>\n",
       "      <th>sensor_49</th>\n",
       "      <th>sensor_50</th>\n",
       "      <th>sensor_51</th>\n",
       "      <th>machine_status</th>\n",
       "    </tr>\n",
       "  </thead>\n",
       "  <tbody>\n",
       "    <tr>\n",
       "      <th>0</th>\n",
       "      <td>0</td>\n",
       "      <td>2018-04-01 00:00:00</td>\n",
       "      <td>2.465394</td>\n",
       "      <td>47.09201</td>\n",
       "      <td>53.211800</td>\n",
       "      <td>46.310760</td>\n",
       "      <td>634.375000</td>\n",
       "      <td>76.45975</td>\n",
       "      <td>13.41146</td>\n",
       "      <td>16.13136</td>\n",
       "      <td>...</td>\n",
       "      <td>41.92708</td>\n",
       "      <td>39.641200</td>\n",
       "      <td>65.68287</td>\n",
       "      <td>50.92593</td>\n",
       "      <td>38.194440</td>\n",
       "      <td>157.9861</td>\n",
       "      <td>67.70834</td>\n",
       "      <td>243.0556</td>\n",
       "      <td>201.3889</td>\n",
       "      <td>NORMAL</td>\n",
       "    </tr>\n",
       "    <tr>\n",
       "      <th>1</th>\n",
       "      <td>1</td>\n",
       "      <td>2018-04-01 00:01:00</td>\n",
       "      <td>2.465394</td>\n",
       "      <td>47.09201</td>\n",
       "      <td>53.211800</td>\n",
       "      <td>46.310760</td>\n",
       "      <td>634.375000</td>\n",
       "      <td>76.45975</td>\n",
       "      <td>13.41146</td>\n",
       "      <td>16.13136</td>\n",
       "      <td>...</td>\n",
       "      <td>41.92708</td>\n",
       "      <td>39.641200</td>\n",
       "      <td>65.68287</td>\n",
       "      <td>50.92593</td>\n",
       "      <td>38.194440</td>\n",
       "      <td>157.9861</td>\n",
       "      <td>67.70834</td>\n",
       "      <td>243.0556</td>\n",
       "      <td>201.3889</td>\n",
       "      <td>NORMAL</td>\n",
       "    </tr>\n",
       "    <tr>\n",
       "      <th>2</th>\n",
       "      <td>2</td>\n",
       "      <td>2018-04-01 00:02:00</td>\n",
       "      <td>2.444734</td>\n",
       "      <td>47.35243</td>\n",
       "      <td>53.211800</td>\n",
       "      <td>46.397570</td>\n",
       "      <td>638.888900</td>\n",
       "      <td>73.54598</td>\n",
       "      <td>13.32465</td>\n",
       "      <td>16.03733</td>\n",
       "      <td>...</td>\n",
       "      <td>41.66666</td>\n",
       "      <td>39.351852</td>\n",
       "      <td>65.39352</td>\n",
       "      <td>51.21528</td>\n",
       "      <td>38.194443</td>\n",
       "      <td>155.9606</td>\n",
       "      <td>67.12963</td>\n",
       "      <td>241.3194</td>\n",
       "      <td>203.7037</td>\n",
       "      <td>NORMAL</td>\n",
       "    </tr>\n",
       "    <tr>\n",
       "      <th>3</th>\n",
       "      <td>3</td>\n",
       "      <td>2018-04-01 00:03:00</td>\n",
       "      <td>2.460474</td>\n",
       "      <td>47.09201</td>\n",
       "      <td>53.168400</td>\n",
       "      <td>46.397568</td>\n",
       "      <td>628.125000</td>\n",
       "      <td>76.98898</td>\n",
       "      <td>13.31742</td>\n",
       "      <td>16.24711</td>\n",
       "      <td>...</td>\n",
       "      <td>40.88541</td>\n",
       "      <td>39.062500</td>\n",
       "      <td>64.81481</td>\n",
       "      <td>51.21528</td>\n",
       "      <td>38.194440</td>\n",
       "      <td>155.9606</td>\n",
       "      <td>66.84028</td>\n",
       "      <td>240.4514</td>\n",
       "      <td>203.1250</td>\n",
       "      <td>NORMAL</td>\n",
       "    </tr>\n",
       "    <tr>\n",
       "      <th>4</th>\n",
       "      <td>4</td>\n",
       "      <td>2018-04-01 00:04:00</td>\n",
       "      <td>2.445718</td>\n",
       "      <td>47.13541</td>\n",
       "      <td>53.211800</td>\n",
       "      <td>46.397568</td>\n",
       "      <td>636.458300</td>\n",
       "      <td>76.58897</td>\n",
       "      <td>13.35359</td>\n",
       "      <td>16.21094</td>\n",
       "      <td>...</td>\n",
       "      <td>41.40625</td>\n",
       "      <td>38.773150</td>\n",
       "      <td>65.10416</td>\n",
       "      <td>51.79398</td>\n",
       "      <td>38.773150</td>\n",
       "      <td>158.2755</td>\n",
       "      <td>66.55093</td>\n",
       "      <td>242.1875</td>\n",
       "      <td>201.3889</td>\n",
       "      <td>NORMAL</td>\n",
       "    </tr>\n",
       "    <tr>\n",
       "      <th>...</th>\n",
       "      <td>...</td>\n",
       "      <td>...</td>\n",
       "      <td>...</td>\n",
       "      <td>...</td>\n",
       "      <td>...</td>\n",
       "      <td>...</td>\n",
       "      <td>...</td>\n",
       "      <td>...</td>\n",
       "      <td>...</td>\n",
       "      <td>...</td>\n",
       "      <td>...</td>\n",
       "      <td>...</td>\n",
       "      <td>...</td>\n",
       "      <td>...</td>\n",
       "      <td>...</td>\n",
       "      <td>...</td>\n",
       "      <td>...</td>\n",
       "      <td>...</td>\n",
       "      <td>...</td>\n",
       "      <td>...</td>\n",
       "      <td>...</td>\n",
       "    </tr>\n",
       "    <tr>\n",
       "      <th>220315</th>\n",
       "      <td>220315</td>\n",
       "      <td>2018-08-31 23:55:00</td>\n",
       "      <td>2.407350</td>\n",
       "      <td>47.69965</td>\n",
       "      <td>50.520830</td>\n",
       "      <td>43.142361</td>\n",
       "      <td>634.722229</td>\n",
       "      <td>64.59095</td>\n",
       "      <td>15.11863</td>\n",
       "      <td>16.65220</td>\n",
       "      <td>...</td>\n",
       "      <td>38.28125</td>\n",
       "      <td>68.287030</td>\n",
       "      <td>52.37268</td>\n",
       "      <td>48.32176</td>\n",
       "      <td>41.087960</td>\n",
       "      <td>212.3843</td>\n",
       "      <td>153.64580</td>\n",
       "      <td>NaN</td>\n",
       "      <td>231.1921</td>\n",
       "      <td>NORMAL</td>\n",
       "    </tr>\n",
       "    <tr>\n",
       "      <th>220316</th>\n",
       "      <td>220316</td>\n",
       "      <td>2018-08-31 23:56:00</td>\n",
       "      <td>2.400463</td>\n",
       "      <td>47.69965</td>\n",
       "      <td>50.564240</td>\n",
       "      <td>43.142361</td>\n",
       "      <td>630.902771</td>\n",
       "      <td>65.83363</td>\n",
       "      <td>15.15480</td>\n",
       "      <td>16.70284</td>\n",
       "      <td>...</td>\n",
       "      <td>38.28125</td>\n",
       "      <td>66.840280</td>\n",
       "      <td>50.63657</td>\n",
       "      <td>48.03241</td>\n",
       "      <td>40.798610</td>\n",
       "      <td>213.8310</td>\n",
       "      <td>156.25000</td>\n",
       "      <td>NaN</td>\n",
       "      <td>231.1921</td>\n",
       "      <td>NORMAL</td>\n",
       "    </tr>\n",
       "    <tr>\n",
       "      <th>220317</th>\n",
       "      <td>220317</td>\n",
       "      <td>2018-08-31 23:57:00</td>\n",
       "      <td>2.396528</td>\n",
       "      <td>47.69965</td>\n",
       "      <td>50.520830</td>\n",
       "      <td>43.142361</td>\n",
       "      <td>625.925903</td>\n",
       "      <td>67.29445</td>\n",
       "      <td>15.08970</td>\n",
       "      <td>16.70284</td>\n",
       "      <td>...</td>\n",
       "      <td>39.06250</td>\n",
       "      <td>65.393520</td>\n",
       "      <td>48.90046</td>\n",
       "      <td>48.03241</td>\n",
       "      <td>40.798610</td>\n",
       "      <td>217.3032</td>\n",
       "      <td>155.38190</td>\n",
       "      <td>NaN</td>\n",
       "      <td>232.0602</td>\n",
       "      <td>NORMAL</td>\n",
       "    </tr>\n",
       "    <tr>\n",
       "      <th>220318</th>\n",
       "      <td>220318</td>\n",
       "      <td>2018-08-31 23:58:00</td>\n",
       "      <td>2.406366</td>\n",
       "      <td>47.69965</td>\n",
       "      <td>50.520832</td>\n",
       "      <td>43.142361</td>\n",
       "      <td>635.648100</td>\n",
       "      <td>65.09175</td>\n",
       "      <td>15.11863</td>\n",
       "      <td>16.56539</td>\n",
       "      <td>...</td>\n",
       "      <td>40.62500</td>\n",
       "      <td>64.236110</td>\n",
       "      <td>47.74306</td>\n",
       "      <td>48.32176</td>\n",
       "      <td>40.509258</td>\n",
       "      <td>222.5116</td>\n",
       "      <td>153.93520</td>\n",
       "      <td>NaN</td>\n",
       "      <td>234.0856</td>\n",
       "      <td>NORMAL</td>\n",
       "    </tr>\n",
       "    <tr>\n",
       "      <th>220319</th>\n",
       "      <td>220319</td>\n",
       "      <td>2018-08-31 23:59:00</td>\n",
       "      <td>2.396528</td>\n",
       "      <td>47.69965</td>\n",
       "      <td>50.520832</td>\n",
       "      <td>43.142361</td>\n",
       "      <td>639.814800</td>\n",
       "      <td>65.45634</td>\n",
       "      <td>15.11863</td>\n",
       "      <td>16.65220</td>\n",
       "      <td>...</td>\n",
       "      <td>41.40625</td>\n",
       "      <td>62.789350</td>\n",
       "      <td>46.29630</td>\n",
       "      <td>48.90046</td>\n",
       "      <td>40.219910</td>\n",
       "      <td>227.4306</td>\n",
       "      <td>150.46300</td>\n",
       "      <td>NaN</td>\n",
       "      <td>234.0856</td>\n",
       "      <td>NORMAL</td>\n",
       "    </tr>\n",
       "  </tbody>\n",
       "</table>\n",
       "<p>220320 rows × 55 columns</p>\n",
       "</div>"
      ],
      "text/plain": [
       "        Unnamed: 0            timestamp  sensor_00  sensor_01  sensor_02  \\\n",
       "0                0  2018-04-01 00:00:00   2.465394   47.09201  53.211800   \n",
       "1                1  2018-04-01 00:01:00   2.465394   47.09201  53.211800   \n",
       "2                2  2018-04-01 00:02:00   2.444734   47.35243  53.211800   \n",
       "3                3  2018-04-01 00:03:00   2.460474   47.09201  53.168400   \n",
       "4                4  2018-04-01 00:04:00   2.445718   47.13541  53.211800   \n",
       "...            ...                  ...        ...        ...        ...   \n",
       "220315      220315  2018-08-31 23:55:00   2.407350   47.69965  50.520830   \n",
       "220316      220316  2018-08-31 23:56:00   2.400463   47.69965  50.564240   \n",
       "220317      220317  2018-08-31 23:57:00   2.396528   47.69965  50.520830   \n",
       "220318      220318  2018-08-31 23:58:00   2.406366   47.69965  50.520832   \n",
       "220319      220319  2018-08-31 23:59:00   2.396528   47.69965  50.520832   \n",
       "\n",
       "        sensor_03   sensor_04  sensor_05  sensor_06  sensor_07  ...  \\\n",
       "0       46.310760  634.375000   76.45975   13.41146   16.13136  ...   \n",
       "1       46.310760  634.375000   76.45975   13.41146   16.13136  ...   \n",
       "2       46.397570  638.888900   73.54598   13.32465   16.03733  ...   \n",
       "3       46.397568  628.125000   76.98898   13.31742   16.24711  ...   \n",
       "4       46.397568  636.458300   76.58897   13.35359   16.21094  ...   \n",
       "...           ...         ...        ...        ...        ...  ...   \n",
       "220315  43.142361  634.722229   64.59095   15.11863   16.65220  ...   \n",
       "220316  43.142361  630.902771   65.83363   15.15480   16.70284  ...   \n",
       "220317  43.142361  625.925903   67.29445   15.08970   16.70284  ...   \n",
       "220318  43.142361  635.648100   65.09175   15.11863   16.56539  ...   \n",
       "220319  43.142361  639.814800   65.45634   15.11863   16.65220  ...   \n",
       "\n",
       "        sensor_43  sensor_44  sensor_45  sensor_46  sensor_47  sensor_48  \\\n",
       "0        41.92708  39.641200   65.68287   50.92593  38.194440   157.9861   \n",
       "1        41.92708  39.641200   65.68287   50.92593  38.194440   157.9861   \n",
       "2        41.66666  39.351852   65.39352   51.21528  38.194443   155.9606   \n",
       "3        40.88541  39.062500   64.81481   51.21528  38.194440   155.9606   \n",
       "4        41.40625  38.773150   65.10416   51.79398  38.773150   158.2755   \n",
       "...           ...        ...        ...        ...        ...        ...   \n",
       "220315   38.28125  68.287030   52.37268   48.32176  41.087960   212.3843   \n",
       "220316   38.28125  66.840280   50.63657   48.03241  40.798610   213.8310   \n",
       "220317   39.06250  65.393520   48.90046   48.03241  40.798610   217.3032   \n",
       "220318   40.62500  64.236110   47.74306   48.32176  40.509258   222.5116   \n",
       "220319   41.40625  62.789350   46.29630   48.90046  40.219910   227.4306   \n",
       "\n",
       "        sensor_49  sensor_50  sensor_51  machine_status  \n",
       "0        67.70834   243.0556   201.3889          NORMAL  \n",
       "1        67.70834   243.0556   201.3889          NORMAL  \n",
       "2        67.12963   241.3194   203.7037          NORMAL  \n",
       "3        66.84028   240.4514   203.1250          NORMAL  \n",
       "4        66.55093   242.1875   201.3889          NORMAL  \n",
       "...           ...        ...        ...             ...  \n",
       "220315  153.64580        NaN   231.1921          NORMAL  \n",
       "220316  156.25000        NaN   231.1921          NORMAL  \n",
       "220317  155.38190        NaN   232.0602          NORMAL  \n",
       "220318  153.93520        NaN   234.0856          NORMAL  \n",
       "220319  150.46300        NaN   234.0856          NORMAL  \n",
       "\n",
       "[220320 rows x 55 columns]"
      ]
     },
     "execution_count": 7,
     "metadata": {},
     "output_type": "execute_result"
    }
   ],
   "source": [
    "data.drop_duplicates()\n"
   ]
  },
  {
   "cell_type": "code",
   "execution_count": 8,
   "id": "9476e0ad",
   "metadata": {},
   "outputs": [],
   "source": [
    "duplicate_rows_data = data[data.duplicated()]"
   ]
  },
  {
   "cell_type": "code",
   "execution_count": 9,
   "id": "7088f16a",
   "metadata": {},
   "outputs": [
    {
     "data": {
      "text/html": [
       "<div>\n",
       "<style scoped>\n",
       "    .dataframe tbody tr th:only-of-type {\n",
       "        vertical-align: middle;\n",
       "    }\n",
       "\n",
       "    .dataframe tbody tr th {\n",
       "        vertical-align: top;\n",
       "    }\n",
       "\n",
       "    .dataframe thead th {\n",
       "        text-align: right;\n",
       "    }\n",
       "</style>\n",
       "<table border=\"1\" class=\"dataframe\">\n",
       "  <thead>\n",
       "    <tr style=\"text-align: right;\">\n",
       "      <th></th>\n",
       "      <th>Unnamed: 0</th>\n",
       "      <th>timestamp</th>\n",
       "      <th>sensor_00</th>\n",
       "      <th>sensor_01</th>\n",
       "      <th>sensor_02</th>\n",
       "      <th>sensor_03</th>\n",
       "      <th>sensor_04</th>\n",
       "      <th>sensor_05</th>\n",
       "      <th>sensor_06</th>\n",
       "      <th>sensor_07</th>\n",
       "      <th>...</th>\n",
       "      <th>sensor_43</th>\n",
       "      <th>sensor_44</th>\n",
       "      <th>sensor_45</th>\n",
       "      <th>sensor_46</th>\n",
       "      <th>sensor_47</th>\n",
       "      <th>sensor_48</th>\n",
       "      <th>sensor_49</th>\n",
       "      <th>sensor_50</th>\n",
       "      <th>sensor_51</th>\n",
       "      <th>machine_status</th>\n",
       "    </tr>\n",
       "  </thead>\n",
       "  <tbody>\n",
       "  </tbody>\n",
       "</table>\n",
       "<p>0 rows × 55 columns</p>\n",
       "</div>"
      ],
      "text/plain": [
       "Empty DataFrame\n",
       "Columns: [Unnamed: 0, timestamp, sensor_00, sensor_01, sensor_02, sensor_03, sensor_04, sensor_05, sensor_06, sensor_07, sensor_08, sensor_09, sensor_10, sensor_11, sensor_12, sensor_13, sensor_14, sensor_15, sensor_16, sensor_17, sensor_18, sensor_19, sensor_20, sensor_21, sensor_22, sensor_23, sensor_24, sensor_25, sensor_26, sensor_27, sensor_28, sensor_29, sensor_30, sensor_31, sensor_32, sensor_33, sensor_34, sensor_35, sensor_36, sensor_37, sensor_38, sensor_39, sensor_40, sensor_41, sensor_42, sensor_43, sensor_44, sensor_45, sensor_46, sensor_47, sensor_48, sensor_49, sensor_50, sensor_51, machine_status]\n",
       "Index: []\n",
       "\n",
       "[0 rows x 55 columns]"
      ]
     },
     "execution_count": 9,
     "metadata": {},
     "output_type": "execute_result"
    }
   ],
   "source": [
    "duplicate_rows_data"
   ]
  },
  {
   "cell_type": "code",
   "execution_count": 10,
   "id": "b1c6d996",
   "metadata": {},
   "outputs": [
    {
     "data": {
      "text/plain": [
       "Unnamed: 0        220320\n",
       "timestamp         220320\n",
       "sensor_00         210112\n",
       "sensor_01         219951\n",
       "sensor_02         220301\n",
       "sensor_03         220301\n",
       "sensor_04         220301\n",
       "sensor_05         220301\n",
       "sensor_06         215522\n",
       "sensor_07         214869\n",
       "sensor_08         215213\n",
       "sensor_09         215725\n",
       "sensor_10         220301\n",
       "sensor_11         220301\n",
       "sensor_12         220301\n",
       "sensor_13         220301\n",
       "sensor_14         220299\n",
       "sensor_15              0\n",
       "sensor_16         220289\n",
       "sensor_17         220274\n",
       "sensor_18         220274\n",
       "sensor_19         220304\n",
       "sensor_20         220304\n",
       "sensor_21         220304\n",
       "sensor_22         220279\n",
       "sensor_23         220304\n",
       "sensor_24         220304\n",
       "sensor_25         220284\n",
       "sensor_26         220300\n",
       "sensor_27         220304\n",
       "sensor_28         220304\n",
       "sensor_29         220248\n",
       "sensor_30         220059\n",
       "sensor_31         220304\n",
       "sensor_32         220252\n",
       "sensor_33         220304\n",
       "sensor_34         220304\n",
       "sensor_35         220304\n",
       "sensor_36         220304\n",
       "sensor_37         220304\n",
       "sensor_38         220293\n",
       "sensor_39         220293\n",
       "sensor_40         220293\n",
       "sensor_41         220293\n",
       "sensor_42         220293\n",
       "sensor_43         220293\n",
       "sensor_44         220293\n",
       "sensor_45         220293\n",
       "sensor_46         220293\n",
       "sensor_47         220293\n",
       "sensor_48         220293\n",
       "sensor_49         220293\n",
       "sensor_50         143303\n",
       "sensor_51         204937\n",
       "machine_status    220320\n",
       "dtype: int64"
      ]
     },
     "execution_count": 10,
     "metadata": {},
     "output_type": "execute_result"
    }
   ],
   "source": [
    "data.count()"
   ]
  },
  {
   "cell_type": "code",
   "execution_count": 13,
   "id": "3f1bbf3f",
   "metadata": {},
   "outputs": [],
   "source": [
    "data = data.drop(['sensor_15'], axis= 1)"
   ]
  },
  {
   "cell_type": "code",
   "execution_count": 14,
   "id": "4dadb92e",
   "metadata": {},
   "outputs": [
    {
     "data": {
      "text/plain": [
       "Unnamed: 0        220320\n",
       "timestamp         220320\n",
       "sensor_00         210112\n",
       "sensor_01         219951\n",
       "sensor_02         220301\n",
       "sensor_03         220301\n",
       "sensor_04         220301\n",
       "sensor_05         220301\n",
       "sensor_06         215522\n",
       "sensor_07         214869\n",
       "sensor_08         215213\n",
       "sensor_09         215725\n",
       "sensor_10         220301\n",
       "sensor_11         220301\n",
       "sensor_12         220301\n",
       "sensor_13         220301\n",
       "sensor_14         220299\n",
       "sensor_16         220289\n",
       "sensor_17         220274\n",
       "sensor_18         220274\n",
       "sensor_19         220304\n",
       "sensor_20         220304\n",
       "sensor_21         220304\n",
       "sensor_22         220279\n",
       "sensor_23         220304\n",
       "sensor_24         220304\n",
       "sensor_25         220284\n",
       "sensor_26         220300\n",
       "sensor_27         220304\n",
       "sensor_28         220304\n",
       "sensor_29         220248\n",
       "sensor_30         220059\n",
       "sensor_31         220304\n",
       "sensor_32         220252\n",
       "sensor_33         220304\n",
       "sensor_34         220304\n",
       "sensor_35         220304\n",
       "sensor_36         220304\n",
       "sensor_37         220304\n",
       "sensor_38         220293\n",
       "sensor_39         220293\n",
       "sensor_40         220293\n",
       "sensor_41         220293\n",
       "sensor_42         220293\n",
       "sensor_43         220293\n",
       "sensor_44         220293\n",
       "sensor_45         220293\n",
       "sensor_46         220293\n",
       "sensor_47         220293\n",
       "sensor_48         220293\n",
       "sensor_49         220293\n",
       "sensor_50         143303\n",
       "sensor_51         204937\n",
       "machine_status    220320\n",
       "dtype: int64"
      ]
     },
     "execution_count": 14,
     "metadata": {},
     "output_type": "execute_result"
    }
   ],
   "source": [
    "data.count()"
   ]
  },
  {
   "cell_type": "code",
   "execution_count": 15,
   "id": "7ab7023e",
   "metadata": {},
   "outputs": [
    {
     "data": {
      "text/plain": [
       "(220320, 54)"
      ]
     },
     "execution_count": 15,
     "metadata": {},
     "output_type": "execute_result"
    }
   ],
   "source": [
    "data.shape"
   ]
  },
  {
   "cell_type": "code",
   "execution_count": 16,
   "id": "eca946b4",
   "metadata": {},
   "outputs": [
    {
     "name": "stdout",
     "output_type": "stream",
     "text": [
      "number of duplicate rows:  (0, 55)\n"
     ]
    }
   ],
   "source": [
    "print(\"number of duplicate rows: \", duplicate_rows_data.shape)"
   ]
  },
  {
   "cell_type": "code",
   "execution_count": 17,
   "id": "6da57fb6",
   "metadata": {},
   "outputs": [
    {
     "name": "stdout",
     "output_type": "stream",
     "text": [
      "Unnamed: 0            0\n",
      "timestamp             0\n",
      "sensor_00         10208\n",
      "sensor_01           369\n",
      "sensor_02            19\n",
      "sensor_03            19\n",
      "sensor_04            19\n",
      "sensor_05            19\n",
      "sensor_06          4798\n",
      "sensor_07          5451\n",
      "sensor_08          5107\n",
      "sensor_09          4595\n",
      "sensor_10            19\n",
      "sensor_11            19\n",
      "sensor_12            19\n",
      "sensor_13            19\n",
      "sensor_14            21\n",
      "sensor_16            31\n",
      "sensor_17            46\n",
      "sensor_18            46\n",
      "sensor_19            16\n",
      "sensor_20            16\n",
      "sensor_21            16\n",
      "sensor_22            41\n",
      "sensor_23            16\n",
      "sensor_24            16\n",
      "sensor_25            36\n",
      "sensor_26            20\n",
      "sensor_27            16\n",
      "sensor_28            16\n",
      "sensor_29            72\n",
      "sensor_30           261\n",
      "sensor_31            16\n",
      "sensor_32            68\n",
      "sensor_33            16\n",
      "sensor_34            16\n",
      "sensor_35            16\n",
      "sensor_36            16\n",
      "sensor_37            16\n",
      "sensor_38            27\n",
      "sensor_39            27\n",
      "sensor_40            27\n",
      "sensor_41            27\n",
      "sensor_42            27\n",
      "sensor_43            27\n",
      "sensor_44            27\n",
      "sensor_45            27\n",
      "sensor_46            27\n",
      "sensor_47            27\n",
      "sensor_48            27\n",
      "sensor_49            27\n",
      "sensor_50         77017\n",
      "sensor_51         15383\n",
      "machine_status        0\n",
      "dtype: int64\n"
     ]
    }
   ],
   "source": [
    "print(data.isnull().sum())"
   ]
  },
  {
   "cell_type": "code",
   "execution_count": 18,
   "id": "f50affb5",
   "metadata": {},
   "outputs": [
    {
     "data": {
      "text/plain": [
       "Unnamed: 0        119103\n",
       "timestamp         119103\n",
       "sensor_00         119103\n",
       "sensor_01         119103\n",
       "sensor_02         119103\n",
       "sensor_03         119103\n",
       "sensor_04         119103\n",
       "sensor_05         119103\n",
       "sensor_06         119103\n",
       "sensor_07         119103\n",
       "sensor_08         119103\n",
       "sensor_09         119103\n",
       "sensor_10         119103\n",
       "sensor_11         119103\n",
       "sensor_12         119103\n",
       "sensor_13         119103\n",
       "sensor_14         119103\n",
       "sensor_16         119103\n",
       "sensor_17         119103\n",
       "sensor_18         119103\n",
       "sensor_19         119103\n",
       "sensor_20         119103\n",
       "sensor_21         119103\n",
       "sensor_22         119103\n",
       "sensor_23         119103\n",
       "sensor_24         119103\n",
       "sensor_25         119103\n",
       "sensor_26         119103\n",
       "sensor_27         119103\n",
       "sensor_28         119103\n",
       "sensor_29         119103\n",
       "sensor_30         119103\n",
       "sensor_31         119103\n",
       "sensor_32         119103\n",
       "sensor_33         119103\n",
       "sensor_34         119103\n",
       "sensor_35         119103\n",
       "sensor_36         119103\n",
       "sensor_37         119103\n",
       "sensor_38         119103\n",
       "sensor_39         119103\n",
       "sensor_40         119103\n",
       "sensor_41         119103\n",
       "sensor_42         119103\n",
       "sensor_43         119103\n",
       "sensor_44         119103\n",
       "sensor_45         119103\n",
       "sensor_46         119103\n",
       "sensor_47         119103\n",
       "sensor_48         119103\n",
       "sensor_49         119103\n",
       "sensor_50         119103\n",
       "sensor_51         119103\n",
       "machine_status    119103\n",
       "dtype: int64"
      ]
     },
     "execution_count": 18,
     "metadata": {},
     "output_type": "execute_result"
    }
   ],
   "source": [
    "data= data.dropna()\n",
    "data.count()"
   ]
  },
  {
   "cell_type": "code",
   "execution_count": 19,
   "id": "7d44ed57",
   "metadata": {},
   "outputs": [
    {
     "name": "stdout",
     "output_type": "stream",
     "text": [
      "Unnamed: 0        0\n",
      "timestamp         0\n",
      "sensor_00         0\n",
      "sensor_01         0\n",
      "sensor_02         0\n",
      "sensor_03         0\n",
      "sensor_04         0\n",
      "sensor_05         0\n",
      "sensor_06         0\n",
      "sensor_07         0\n",
      "sensor_08         0\n",
      "sensor_09         0\n",
      "sensor_10         0\n",
      "sensor_11         0\n",
      "sensor_12         0\n",
      "sensor_13         0\n",
      "sensor_14         0\n",
      "sensor_16         0\n",
      "sensor_17         0\n",
      "sensor_18         0\n",
      "sensor_19         0\n",
      "sensor_20         0\n",
      "sensor_21         0\n",
      "sensor_22         0\n",
      "sensor_23         0\n",
      "sensor_24         0\n",
      "sensor_25         0\n",
      "sensor_26         0\n",
      "sensor_27         0\n",
      "sensor_28         0\n",
      "sensor_29         0\n",
      "sensor_30         0\n",
      "sensor_31         0\n",
      "sensor_32         0\n",
      "sensor_33         0\n",
      "sensor_34         0\n",
      "sensor_35         0\n",
      "sensor_36         0\n",
      "sensor_37         0\n",
      "sensor_38         0\n",
      "sensor_39         0\n",
      "sensor_40         0\n",
      "sensor_41         0\n",
      "sensor_42         0\n",
      "sensor_43         0\n",
      "sensor_44         0\n",
      "sensor_45         0\n",
      "sensor_46         0\n",
      "sensor_47         0\n",
      "sensor_48         0\n",
      "sensor_49         0\n",
      "sensor_50         0\n",
      "sensor_51         0\n",
      "machine_status    0\n",
      "dtype: int64\n"
     ]
    }
   ],
   "source": [
    "print(data.isnull().sum())"
   ]
  },
  {
   "cell_type": "code",
   "execution_count": 20,
   "id": "6aedb86b",
   "metadata": {},
   "outputs": [
    {
     "data": {
      "text/plain": [
       "0         NORMAL\n",
       "1         NORMAL\n",
       "2         NORMAL\n",
       "3         NORMAL\n",
       "4         NORMAL\n",
       "           ...  \n",
       "143319    NORMAL\n",
       "143320    NORMAL\n",
       "143321    NORMAL\n",
       "143322    NORMAL\n",
       "143323    NORMAL\n",
       "Name: machine_status, Length: 119103, dtype: object"
      ]
     },
     "execution_count": 20,
     "metadata": {},
     "output_type": "execute_result"
    }
   ],
   "source": [
    "data.iloc[:,53]"
   ]
  },
  {
   "cell_type": "code",
   "execution_count": 21,
   "id": "db3ab2d1",
   "metadata": {},
   "outputs": [],
   "source": [
    "#turn the catgorical labels into binary variables\n",
    "data['machine_status'].replace(['NORMAL', 'RECOVERING','BROKEN'],\n",
    "                        [0,1,2], inplace=True)"
   ]
  },
  {
   "cell_type": "code",
   "execution_count": 22,
   "id": "122fffe6",
   "metadata": {},
   "outputs": [
    {
     "data": {
      "text/plain": [
       "0         0\n",
       "1         0\n",
       "2         0\n",
       "3         0\n",
       "4         0\n",
       "         ..\n",
       "143319    0\n",
       "143320    0\n",
       "143321    0\n",
       "143322    0\n",
       "143323    0\n",
       "Name: machine_status, Length: 119103, dtype: int64"
      ]
     },
     "execution_count": 22,
     "metadata": {},
     "output_type": "execute_result"
    }
   ],
   "source": [
    "data['machine_status']"
   ]
  },
  {
   "cell_type": "markdown",
   "id": "cdee78f5",
   "metadata": {},
   "source": [
    "# Training"
   ]
  },
  {
   "cell_type": "code",
   "execution_count": 23,
   "id": "d11eb6b2",
   "metadata": {},
   "outputs": [],
   "source": [
    "X = data.iloc[:,2:52]       \n",
    "y = data.iloc[:,53]"
   ]
  },
  {
   "cell_type": "code",
   "execution_count": 25,
   "id": "268a99e8",
   "metadata": {},
   "outputs": [
    {
     "data": {
      "text/plain": [
       "(        sensor_00  sensor_01  sensor_02  sensor_03  sensor_04  sensor_05  \\\n",
       " 0        2.465394  47.092010   53.21180  46.310760   634.3750   76.45975   \n",
       " 1        2.465394  47.092010   53.21180  46.310760   634.3750   76.45975   \n",
       " 2        2.444734  47.352430   53.21180  46.397570   638.8889   73.54598   \n",
       " 3        2.460474  47.092010   53.16840  46.397568   628.1250   76.98898   \n",
       " 4        2.445718  47.135410   53.21180  46.397568   636.4583   76.58897   \n",
       " ...           ...        ...        ...        ...        ...        ...   \n",
       " 143319   2.474248  45.138885   51.86632  46.440970   636.5741   85.04365   \n",
       " 143320   2.476215  45.138890   51.86632  46.440971   621.7593   84.11448   \n",
       " 143321   2.468345  45.182290   51.82291  46.440971   626.2731   84.99566   \n",
       " 143322   2.479167  45.138890   51.86632  46.440971   631.9445   85.67138   \n",
       " 143323   2.466377  45.138885   51.86632  46.440971   630.9028   85.09058   \n",
       " \n",
       "         sensor_06  sensor_07  sensor_08  sensor_09  ...  sensor_41  sensor_42  \\\n",
       " 0        13.41146   16.13136   15.56713   15.05353  ...   30.98958  31.770832   \n",
       " 1        13.41146   16.13136   15.56713   15.05353  ...   30.98958  31.770832   \n",
       " 2        13.32465   16.03733   15.61777   15.01013  ...   30.46875  31.770830   \n",
       " 3        13.31742   16.24711   15.69734   15.08247  ...   30.46875  31.510420   \n",
       " 4        13.35359   16.21094   15.69734   15.08247  ...   30.98958  31.510420   \n",
       " ...           ...        ...        ...        ...  ...        ...        ...   \n",
       " 143319   13.77315   16.03733   15.18374   15.11863  ...   39.58333  40.885410   \n",
       " 143320   13.89612   16.24711   15.45139   15.08247  ...   39.58333  40.625000   \n",
       " 143321   13.92506   16.13136   15.37182   15.11863  ...   40.10416  40.364580   \n",
       " 143322   13.78038   16.24711   14.96672   15.05353  ...   40.36458  40.625000   \n",
       " 143323   13.84549   16.16753   14.98843   15.11863  ...   40.36458  40.625000   \n",
       " \n",
       "         sensor_43  sensor_44  sensor_45  sensor_46  sensor_47  sensor_48  \\\n",
       " 0        41.92708  39.641200   65.68287   50.92593  38.194440   157.9861   \n",
       " 1        41.92708  39.641200   65.68287   50.92593  38.194440   157.9861   \n",
       " 2        41.66666  39.351852   65.39352   51.21528  38.194443   155.9606   \n",
       " 3        40.88541  39.062500   64.81481   51.21528  38.194440   155.9606   \n",
       " 4        41.40625  38.773150   65.10416   51.79398  38.773150   158.2755   \n",
       " ...           ...        ...        ...        ...        ...        ...   \n",
       " 143319   43.48958  39.641205   42.53472   58.44907  43.981480   169.8495   \n",
       " 143320   44.79166  39.641205   42.53472   57.87037  45.138890   169.8495   \n",
       " 143321   45.83333  39.641200   42.24537   56.42361  46.296300   167.8241   \n",
       " 143322   46.61458  40.219910   42.53472   54.97685  47.743060   162.6157   \n",
       " 143323   46.87500  40.798610   43.40278   53.53009  49.479170   158.8542   \n",
       " \n",
       "         sensor_49  sensor_50  \n",
       " 0       67.708340   243.0556  \n",
       " 1       67.708340   243.0556  \n",
       " 2       67.129630   241.3194  \n",
       " 3       66.840280   240.4514  \n",
       " 4       66.550930   242.1875  \n",
       " ...           ...        ...  \n",
       " 143319  53.530094  1000.0000  \n",
       " 143320  53.530094  1000.0000  \n",
       " 143321  53.530094  1000.0000  \n",
       " 143322  53.530094  1000.0000  \n",
       " 143323  53.530090  1000.0000  \n",
       " \n",
       " [119103 rows x 50 columns],\n",
       " 0         0\n",
       " 1         0\n",
       " 2         0\n",
       " 3         0\n",
       " 4         0\n",
       "          ..\n",
       " 143319    0\n",
       " 143320    0\n",
       " 143321    0\n",
       " 143322    0\n",
       " 143323    0\n",
       " Name: machine_status, Length: 119103, dtype: int64)"
      ]
     },
     "execution_count": 25,
     "metadata": {},
     "output_type": "execute_result"
    }
   ],
   "source": [
    "X, y"
   ]
  },
  {
   "cell_type": "code",
   "execution_count": 26,
   "id": "95bdf316",
   "metadata": {},
   "outputs": [],
   "source": [
    "from scipy.special import softmax\n",
    "from sklearn.linear_model import LogisticRegression\n",
    "from sklearn.metrics import classification_report, confusion_matrix\n",
    "from sklearn.model_selection import train_test_split"
   ]
  },
  {
   "cell_type": "code",
   "execution_count": 27,
   "id": "5790e59b",
   "metadata": {},
   "outputs": [],
   "source": [
    "#Split\n",
    "X_train, X_test, y_train, y_test = train_test_split(X, y, random_state=0)"
   ]
  },
  {
   "cell_type": "code",
   "execution_count": 28,
   "id": "24974a13",
   "metadata": {},
   "outputs": [],
   "source": [
    "model_1 = LogisticRegression(multi_class='multinomial', solver='lbfgs') #model is fit using cross-entropy loss, measures the performance of a classification model whose output is a probability value between 0 and 1"
   ]
  },
  {
   "cell_type": "code",
   "execution_count": 29,
   "id": "f5a708bf",
   "metadata": {},
   "outputs": [
    {
     "name": "stderr",
     "output_type": "stream",
     "text": [
      "C:\\Users\\ayman\\anaconda3\\Lib\\site-packages\\sklearn\\linear_model\\_logistic.py:458: ConvergenceWarning: lbfgs failed to converge (status=1):\n",
      "STOP: TOTAL NO. of ITERATIONS REACHED LIMIT.\n",
      "\n",
      "Increase the number of iterations (max_iter) or scale the data as shown in:\n",
      "    https://scikit-learn.org/stable/modules/preprocessing.html\n",
      "Please also refer to the documentation for alternative solver options:\n",
      "    https://scikit-learn.org/stable/modules/linear_model.html#logistic-regression\n",
      "  n_iter_i = _check_optimize_result(\n"
     ]
    },
    {
     "data": {
      "text/html": [
       "<style>#sk-container-id-1 {color: black;background-color: white;}#sk-container-id-1 pre{padding: 0;}#sk-container-id-1 div.sk-toggleable {background-color: white;}#sk-container-id-1 label.sk-toggleable__label {cursor: pointer;display: block;width: 100%;margin-bottom: 0;padding: 0.3em;box-sizing: border-box;text-align: center;}#sk-container-id-1 label.sk-toggleable__label-arrow:before {content: \"▸\";float: left;margin-right: 0.25em;color: #696969;}#sk-container-id-1 label.sk-toggleable__label-arrow:hover:before {color: black;}#sk-container-id-1 div.sk-estimator:hover label.sk-toggleable__label-arrow:before {color: black;}#sk-container-id-1 div.sk-toggleable__content {max-height: 0;max-width: 0;overflow: hidden;text-align: left;background-color: #f0f8ff;}#sk-container-id-1 div.sk-toggleable__content pre {margin: 0.2em;color: black;border-radius: 0.25em;background-color: #f0f8ff;}#sk-container-id-1 input.sk-toggleable__control:checked~div.sk-toggleable__content {max-height: 200px;max-width: 100%;overflow: auto;}#sk-container-id-1 input.sk-toggleable__control:checked~label.sk-toggleable__label-arrow:before {content: \"▾\";}#sk-container-id-1 div.sk-estimator input.sk-toggleable__control:checked~label.sk-toggleable__label {background-color: #d4ebff;}#sk-container-id-1 div.sk-label input.sk-toggleable__control:checked~label.sk-toggleable__label {background-color: #d4ebff;}#sk-container-id-1 input.sk-hidden--visually {border: 0;clip: rect(1px 1px 1px 1px);clip: rect(1px, 1px, 1px, 1px);height: 1px;margin: -1px;overflow: hidden;padding: 0;position: absolute;width: 1px;}#sk-container-id-1 div.sk-estimator {font-family: monospace;background-color: #f0f8ff;border: 1px dotted black;border-radius: 0.25em;box-sizing: border-box;margin-bottom: 0.5em;}#sk-container-id-1 div.sk-estimator:hover {background-color: #d4ebff;}#sk-container-id-1 div.sk-parallel-item::after {content: \"\";width: 100%;border-bottom: 1px solid gray;flex-grow: 1;}#sk-container-id-1 div.sk-label:hover label.sk-toggleable__label {background-color: #d4ebff;}#sk-container-id-1 div.sk-serial::before {content: \"\";position: absolute;border-left: 1px solid gray;box-sizing: border-box;top: 0;bottom: 0;left: 50%;z-index: 0;}#sk-container-id-1 div.sk-serial {display: flex;flex-direction: column;align-items: center;background-color: white;padding-right: 0.2em;padding-left: 0.2em;position: relative;}#sk-container-id-1 div.sk-item {position: relative;z-index: 1;}#sk-container-id-1 div.sk-parallel {display: flex;align-items: stretch;justify-content: center;background-color: white;position: relative;}#sk-container-id-1 div.sk-item::before, #sk-container-id-1 div.sk-parallel-item::before {content: \"\";position: absolute;border-left: 1px solid gray;box-sizing: border-box;top: 0;bottom: 0;left: 50%;z-index: -1;}#sk-container-id-1 div.sk-parallel-item {display: flex;flex-direction: column;z-index: 1;position: relative;background-color: white;}#sk-container-id-1 div.sk-parallel-item:first-child::after {align-self: flex-end;width: 50%;}#sk-container-id-1 div.sk-parallel-item:last-child::after {align-self: flex-start;width: 50%;}#sk-container-id-1 div.sk-parallel-item:only-child::after {width: 0;}#sk-container-id-1 div.sk-dashed-wrapped {border: 1px dashed gray;margin: 0 0.4em 0.5em 0.4em;box-sizing: border-box;padding-bottom: 0.4em;background-color: white;}#sk-container-id-1 div.sk-label label {font-family: monospace;font-weight: bold;display: inline-block;line-height: 1.2em;}#sk-container-id-1 div.sk-label-container {text-align: center;}#sk-container-id-1 div.sk-container {/* jupyter's `normalize.less` sets `[hidden] { display: none; }` but bootstrap.min.css set `[hidden] { display: none !important; }` so we also need the `!important` here to be able to override the default hidden behavior on the sphinx rendered scikit-learn.org. See: https://github.com/scikit-learn/scikit-learn/issues/21755 */display: inline-block !important;position: relative;}#sk-container-id-1 div.sk-text-repr-fallback {display: none;}</style><div id=\"sk-container-id-1\" class=\"sk-top-container\"><div class=\"sk-text-repr-fallback\"><pre>LogisticRegression(multi_class=&#x27;multinomial&#x27;)</pre><b>In a Jupyter environment, please rerun this cell to show the HTML representation or trust the notebook. <br />On GitHub, the HTML representation is unable to render, please try loading this page with nbviewer.org.</b></div><div class=\"sk-container\" hidden><div class=\"sk-item\"><div class=\"sk-estimator sk-toggleable\"><input class=\"sk-toggleable__control sk-hidden--visually\" id=\"sk-estimator-id-1\" type=\"checkbox\" checked><label for=\"sk-estimator-id-1\" class=\"sk-toggleable__label sk-toggleable__label-arrow\">LogisticRegression</label><div class=\"sk-toggleable__content\"><pre>LogisticRegression(multi_class=&#x27;multinomial&#x27;)</pre></div></div></div></div></div>"
      ],
      "text/plain": [
       "LogisticRegression(multi_class='multinomial')"
      ]
     },
     "execution_count": 29,
     "metadata": {},
     "output_type": "execute_result"
    }
   ],
   "source": [
    "model_1.fit(X_train,y_train)"
   ]
  },
  {
   "cell_type": "code",
   "execution_count": 30,
   "id": "615ed3ac",
   "metadata": {},
   "outputs": [
    {
     "data": {
      "text/plain": [
       "array([0, 1, 2], dtype=int64)"
      ]
     },
     "execution_count": 30,
     "metadata": {},
     "output_type": "execute_result"
    }
   ],
   "source": [
    "model_1.classes_"
   ]
  },
  {
   "cell_type": "markdown",
   "id": "ea173a4a",
   "metadata": {},
   "source": [
    "Evaluation of model perfo using CV"
   ]
  },
  {
   "cell_type": "code",
   "execution_count": 31,
   "id": "774a3b18",
   "metadata": {
    "scrolled": true
   },
   "outputs": [
    {
     "name": "stderr",
     "output_type": "stream",
     "text": [
      "C:\\Users\\ayman\\anaconda3\\Lib\\site-packages\\sklearn\\model_selection\\_split.py:700: UserWarning: The least populated class in y has only 5 members, which is less than n_splits=10.\n",
      "  warnings.warn(\n",
      "C:\\Users\\ayman\\anaconda3\\Lib\\site-packages\\sklearn\\model_selection\\_split.py:700: UserWarning: The least populated class in y has only 5 members, which is less than n_splits=10.\n",
      "  warnings.warn(\n",
      "C:\\Users\\ayman\\anaconda3\\Lib\\site-packages\\sklearn\\model_selection\\_split.py:700: UserWarning: The least populated class in y has only 5 members, which is less than n_splits=10.\n",
      "  warnings.warn(\n"
     ]
    },
    {
     "name": "stdout",
     "output_type": "stream",
     "text": [
      "Mean Accuracy: 0.996 (0.001)\n"
     ]
    }
   ],
   "source": [
    "from numpy import mean\n",
    "from numpy import std\n",
    "from sklearn.model_selection import cross_val_score\n",
    "from sklearn.model_selection import RepeatedStratifiedKFold\n",
    "# define the model evaluation procedure\n",
    "cv = RepeatedStratifiedKFold(n_splits=10, n_repeats=3, random_state=1)\n",
    "# evaluate the model and collect the scores\n",
    "n_scores = cross_val_score(model_1, X, y, scoring='accuracy', cv=cv, n_jobs=-1)\n",
    "# report the model performance\n",
    "print('Mean Accuracy: %.3f (%.3f)' % (mean(n_scores), std(n_scores)))"
   ]
  },
  {
   "cell_type": "code",
   "execution_count": 35,
   "id": "aad71a54",
   "metadata": {},
   "outputs": [
    {
     "name": "stdout",
     "output_type": "stream",
     "text": [
      "[0 0 0 ... 0 0 0]\n",
      "Predicted Class: 0\n"
     ]
    },
    {
     "name": "stderr",
     "output_type": "stream",
     "text": [
      "C:\\Users\\ayman\\anaconda3\\Lib\\site-packages\\sklearn\\linear_model\\_logistic.py:458: ConvergenceWarning: lbfgs failed to converge (status=1):\n",
      "STOP: TOTAL NO. of ITERATIONS REACHED LIMIT.\n",
      "\n",
      "Increase the number of iterations (max_iter) or scale the data as shown in:\n",
      "    https://scikit-learn.org/stable/modules/preprocessing.html\n",
      "Please also refer to the documentation for alternative solver options:\n",
      "    https://scikit-learn.org/stable/modules/linear_model.html#logistic-regression\n",
      "  n_iter_i = _check_optimize_result(\n"
     ]
    }
   ],
   "source": [
    "# fit the model on the whole dataset\n",
    "model_1.fit(X_train, y_train)\n",
    "# define a single row of input data\n",
    "# predict the class label\n",
    "yhat = model_1.predict(X_test)\n",
    "\n",
    "# summarize the predicted class\n",
    "print(yhat)\n",
    "print('Predicted Class: %d' % yhat[2])"
   ]
  },
  {
   "cell_type": "code",
   "execution_count": 36,
   "id": "53ca34c6",
   "metadata": {},
   "outputs": [
    {
     "name": "stdout",
     "output_type": "stream",
     "text": [
      "Accuracy: 1.00\n"
     ]
    }
   ],
   "source": [
    "print('Accuracy: {:.2f}'.format(model_1.score(X_test, y_test)))"
   ]
  },
  {
   "cell_type": "markdown",
   "id": "2c71a4ee",
   "metadata": {},
   "source": [
    "# Testing"
   ]
  },
  {
   "cell_type": "code",
   "execution_count": 39,
   "id": "4ee1e582",
   "metadata": {},
   "outputs": [
    {
     "name": "stdout",
     "output_type": "stream",
     "text": [
      "0\t1\t2\t3\t4\t5\t6\t7\t8\t9\t10\t11\t12\t13\t14\t15\t16\t17\t18\t19\t20\t21\t22\t23\t24\t25\t26\t27\t29\t30\t31\t32\t33\t34\t35\t36\t37\t38\t39\t40\t41\t42\t43\t44\t45\t46\t47\t48\t49\t50\t51\t52\t53\t54\t55\t56\t57\t58\t59\t60\t61\t62\t63\t64\t65\t66\t67\t68\t69\t70\t71\t72\t73\t74\t75\t76\t77\t78\t79\t80\t81\t82\t83\t84\t85\t86\t87\t88\t89\t90\t91\t92\t93\t94\t95\t96\t97\t98\t99\t100\t101\t102\t103\t104\t105\t106\t107\t108\t109\t110\t111\t112\t113\t114\t115\t116\t117\t118\t119\t120\t121\t122\t123\t124\t125\t126\t127\t129\t130\t131\t132\t133\t134\t135\t136\t137\t138\t139\t140\t141\t142\t143\t144\t145\t146\t147\t148\t149\t150\t151\t152\t153\t154\t155\t156\t157\t158\t159\t160\t161\t162\t163\t164\t165\t166\t167\t168\t169\t170\t171\t172\t173\t174\t175\t176\t177\t178\t180\t181\t182\t183\t184\t185\t186\t187\t188\t189\t190\t192\t193\t194\t195\t196\t197\t198\t199\t200\t201\t202\t203\t204\t205\t206\t207\t208\t209\t210\t211\t212\t213\t214\t215\t216\t217\t218\t219\t220\t221\t222\t223\t224\t225\t226\t227\t228\t229\t230\t231\t232\t233\t234\t235\t237\t238\t239\t240\t241\t242\t243\t244\t245\t246\t247\t248\t249\t250\t251\t252\t253\t254\t255\t256\t257\t258\t259\t260\t261\t262\t263\t264\t265\t266\t267\t268\t269\t270\t271\t272\t273\t274\t275\t276\t277\t278\t279\t280\t281\t282\t283\t284\t285\t286\t287\t288\t289\t290\t291\t292\t293\t294\t295\t296\t297\t298\t299\t300\t301\t302\t303\t304\t305\t306\t307\t308\t309\t310\t311\t312\t313\t314\t316\t317\t318\t319\t320\t321\t322\t323\t324\t325\t326\t327\t328\t329\t330\t331\t332\t333\t334\t335\t336\t337\t338\t339\t340\t341\t342\t343\t344\t345\t346\t347\t348\t349\t350\t351\t352\t353\t354\t355\t356\t357\t358\t359\t360\t361\t362\t363\t364\t365\t366\t367\t368\t369\t370\t371\t372\t373\t374\t375\t376\t377\t378\t379\t380\t381\t382\t383\t384\t385\t386\t387\t388\t389\t390\t391\t392\t393\t394\t395\t396\t397\t398\t399\t400\t401\t402\t403\t404\t405\t406\t407\t408\t409\t410\t411\t412\t413\t414\t415\t416\t417\t418\t419\t420\t421\t422\t423\t424\t425\t426\t427\t428\t429\t430\t431\t432\t433\t434\t435\t437\t438\t439\t440\t441\t442\t443\t444\t445\t446\t447\t448\t449\t450\t451\t452\t453\t454\t455\t456\t457\t458\t459\t460\t461\t462\t463\t464\t465\t466\t467\t468\t471\t473\t474\t475\t476\t477\t478\t479\t480\t481\t482\t483\t484\t485\t486\t487\t488\t489\t490\t491\t492\t493\t494\t495\t496\t497\t498\t500\t501\t502\t503\t504\t505\t506\t507\t508\t509\t510\t511\t512\t513\t514\t515\t516\t517\t518\t519\t520\t521\t522\t523\t524\t525\t526\t527\t528\t529\t530\t531\t532\t533\t534\t535\t536\t537\t538\t539\t541\t542\t543\t544\t545\t546\t547\t548\t549\t550\t551\t552\t553\t554\t555\t556\t557\t558\t559\t560\t561\t562\t563\t564\t565\t566\t568\t569\t571\t572\t573\t574\t575\t576\t577\t578\t579\t580\t581\t582\t583\t584\t585\t586\t587\t588\t590\t591\t592\t593\t594\t595\t596\t597\t598\t599\t600\t601\t602\t603\t604\t605\t606\t607\t608\t609\t610\t611\t612\t613\t614\t615\t616\t617\t618\t619\t620\t621\t622\t623\t624\t625\t626\t627\t628\t629\t630\t631\t632\t633\t634\t635\t636\t637\t638\t639\t640\t641\t642\t643\t644\t645\t646\t647\t648\t649\t650\t651\t652\t653\t654\t655\t656\t657\t658\t659\t660\t661\t662\t663\t664\t665\t666\t667\t668\t669\t670\t671\t672\t673\t674\t675\t676\t677\t678\t679\t680\t681\t682\t683\t684\t685\t686\t687\t688\t689\t690\t691\t692\t693\t694\t695\t696\t697\t698\t699\t700\t701\t702\t703\t704\t705\t706\t707\t708\t709\t710\t711\t712\t713\t714\t715\t716\t717\t718\t719\t720\t721\t722\t723\t724\t725\t726\t727\t728\t729\t730\t731\t732\t733\t734\t735\t736\t737\t738\t739\t740\t741\t742\t743\t744\t745\t746\t747\t748\t749\t750\t751\t752\t753\t754\t755\t756\t757\t758\t759\t760\t761\t762\t763\t764\t765\t766\t767\t768\t769\t770\t771\t772\t773\t774\t775\t776\t777\t778\t779\t780\t781\t782\t783\t784\t785\t786\t787\t788\t789\t790\t791\t792\t793\t794\t795\t796\t797\t798\t799\t800\t801\t802\t803\t804\t805\t806\t807\t808\t809\t810\t811\t812\t813\t814\t815\t816\t817\t818\t819\t820\t822\t823\t824\t825\t826\t827\t828\t829\t830\t831\t832\t833\t834\t835\t836\t837\t838\t839\t840\t841\t842\t843\t844\t845\t846\t847\t848\t849\t850\t851\t852\t853\t854\t855\t856\t857\t858\t859\t860\t861\t862\t863\t864\t865\t866\t867\t868\t869\t870\t871\t872\t874\t875\t877\t878\t879\t880\t881\t882\t883\t884\t885\t886\t887\t888\t889\t890\t891\t892\t893\t894\t895\t896\t897\t898\t900\t901\t902\t903\t904\t905\t906\t907\t908\t909\t910\t911\t912\t913\t914\t915\t916\t917\t918\t919\t920\t921\t922\t923\t924\t925\t926\t927\t928\t929\t930\t931\t932\t933\t934\t935\t936\t937\t938\t940\t941\t942\t943\t944\t945\t946\t947\t948\t949\t950\t951\t952\t953\t954\t955\t956\t957\t958\t959\t960\t961\t962\t963\t964\t965\t966\t967\t968\t969\t970\t971\t972\t973\t974\t975\t976\t977\t978\t979\t980\t981\t982\t983\t984\t985\t986\t987\t988\t989\t990\t991\t992\t993\t994\t995\t996\t997\t998\t999\t1000\t1001\t1002\t1003\t1004\t1005\t1006\t1007\t1008\t1009\t1010\t1011\t1012\t1013\t1014\t1015\t1016\t1017\t1018\t1019\t1020\t1021\t1022\t1023\t1024\t1025\t1026\t1027\t1028\t1029\t1030\t1031\t1032\t1033\t1034\t1035\t1036\t1037\t1038\t1039\t1040\t1041\t1042\t1043\t1044\t1045\t1046\t1047\t1048\t1049\t1050\t1051\t1052\t1053\t1054\t1055\t1056\t1057\t1058\t1059\t1060\t1061\t1062\t1063\t1064\t1065\t1066\t1067\t1068\t1069\t1070\t1071\t1072\t1073\t1074\t1075\t1076\t1077\t1078\t1079\t1080\t1081\t1082\t1083\t1084\t1085\t1086\t1087\t1088\t1090\t1091\t1092\t1093\t1094\t1095\t1096\t1097\t1098\t1099\t1100\t1101\t1102\t1103\t1104\t1105\t1106\t1107\t1108\t1109\t1110\t1111\t1112\t1113\t1114\t1115\t1116\t1117\t1118\t1119\t1120\t1121\t1122\t1123\t1124\t1125\t1126\t1127\t1128\t1129\t1130\t1131\t1132\t1134\t1135\t1136\t1137\t1138\t1139\t1140\t1141\t1142\t1143\t1144\t1145\t1146\t1147\t1148\t1149\t1150\t1151\t1152\t1153\t1154\t1155\t1156\t1157\t1158\t1159\t1160\t1161\t1162\t1163\t1164\t1165\t1166\t1167\t1168\t1169\t1170\t1171\t1172\t1173\t1174\t1175\t1176\t1177\t1178\t1179\t1181\t1183\t1184\t1185\t1186\t1187\t1188\t1189\t1190\t1191\t1192\t1193\t1194\t1195\t1196\t1198\t1199\t1200\t1201\t1202\t1203\t1204\t1205\t1206\t1207\t1208\t1209\t1210\t1211\t1212\t1213\t1214\t1215\t1216\t1217\t1218\t1219\t1220\t1221\t1222\t1223\t1224\t1225\t1226\t1227\t1228\t1229\t1230\t1231\t1232\t1233\t1235\t1236\t1237\t1238\t1239\t1240\t1241\t1242\t1243\t1244\t1245\t1246\t1247\t1248\t1249\t1250\t1251\t1252\t1253\t1254\t1255\t1256\t1257\t1258\t1259\t1260\t1261\t1262\t1263\t1264\t1265\t1266\t1267\t1268\t1269\t1270\t1271\t1272\t1273\t1274\t1275\t1276\t1277\t1278\t1279\t1280\t1281\t1282\t1283\t1284\t1285\t1286\t1287\t1288\t1289\t1290\t1291\t1292\t1294\t1295\t1296\t1297\t1298\t1299\t1300\t1301\t1302\t1303\t1304\t1305\t1306\t1307\t1308\t1309\t1311\t1312\t1313\t1314\t1315\t1316\t1317\t1318\t1319\t1320\t1321\t1322\t1323\t1324\t1325\t1326\t1327\t1328\t1329\t1330\t1331\t1332\t1333\t1334\t1335\t1336\t1337\t1338\t1339\t1340\t1341\t1342\t1343\t1344\t1345\t1346\t1347\t1348\t1349\t1350\t1351\t1352\t1353\t1354\t1355\t1356\t1357\t1358\t1359\t1360\t1362\t1363\t1365\t1366\t1367\t1368\t1369\t1370\t1371\t1372\t1373\t1374\t1375\t1376\t1377\t1378\t1379\t1380\t1381\t1382\t1383\t1384\t1385\t1386\t1388\t1389\t1390\t1391\t1392\t1393\t1394\t1395\t1397\t1398\t1399\t1400\t1401\t1402\t1403\t1404\t1405\t1406\t1407\t1408\t1409\t1410\t1411\t1412\t1413\t1414\t1415\t1416\t1417\t1418\t1419\t1420\t1421\t1422\t1423\t1424\t1425\t1426\t1427\t1428\t1429\t1430\t1431\t1432\t1433\t1434\t1435\t1436\t1437\t1438\t1439\t1440\t1441\t1442\t1443\t1444\t1445\t1446\t1447\t1448\t1449\t1450\t1451\t1452\t1453\t1454\t1455\t1456\t1457\t1458\t1459\t1460\t1461\t1462\t1463\t1465\t1466\t1467\t1468\t1469\t1470\t1471\t1472\t1473\t1474\t1475\t1476\t1477\t1478\t1479\t1480\t1481\t1482\t1483\t1484\t1485\t1486\t1487\t1489\t1490\t1491\t1493\t1494\t1495\t1496\t1497\t1498\t1499\t1500\t1501\t1502\t1503\t1504\t1505\t1506\t1507\t1508\t1509\t1510\t1511\t1512\t1513\t1514\t1515\t1516\t1517\t1518\t1519\t1520\t1521\t1522\t1523\t1524\t1525\t1526\t1527\t1528\t1529\t1531\t1532\t1533\t1534\t1535\t1536\t1537\t1538\t1539\t1540\t1541\t1542\t1543\t1544\t1545\t1546\t1547\t1548\t1549\t1550\t1551\t1552\t1553\t1554\t1555\t1556\t1557\t1558\t1559\t1560\t1561\t1562\t1563\t1564\t1565\t1566\t1567\t1568\t1569\t1570\t1571\t1572\t1573\t1574\t1575\t1576\t1577\t1578\t1579\t1580\t1581\t1582\t1583\t1584\t1585\t1586\t1587\t1588\t1589\t1590\t1591\t1592\t1593\t1594\t1595\t1596\t1597\t1598\t1599\t1600\t1601\t1602\t1603\t1604\t1605\t1606\t1607\t1608\t1609\t1610\t1611\t1613\t1614\t1616\t1617\t1618\t1619\t1620\t1621\t1622\t1623\t1624\t1625\t1626\t1627\t1628\t1629\t1630\t1631\t1632\t1633\t1634\t1635\t1636\t1637\t1638\t1639\t1640\t1641\t1642\t1643\t1644\t1645\t1646\t1647\t1648\t1649\t1650\t1651\t1652\t1653\t1654\t1655\t1656\t1657\t1658\t1659\t1660\t1661\t1662\t1663\t1664\t1665\t1666\t1667\t1668\t1669\t1670\t1671\t1672\t1673\t1674\t1675\t1676\t1677\t1678\t1679\t1680\t1681\t1682\t1683\t1684\t1685\t1686\t1687\t1689\t1690\t1691\t1692\t1693\t1694\t1695\t1696\t1697\t1698\t1699\t1700\t1701\t1702\t1703\t1704\t1705\t1706\t1707\t1708\t1709\t1710\t1711\t1713\t1714\t1715\t1716\t1717\t1718\t1719\t1720\t1721\t1722\t1723\t1724\t1725\t1726\t1727\t1728\t1729\t1730\t1731\t1732\t1733\t1734\t1735\t1736\t1737\t1738\t1739\t1740\t1741\t1742\t1743\t1744\t1745\t1746\t1747\t1748\t1749\t1750\t1751\t1752\t1753\t1754\t1755\t1756\t1757\t1758\t1759\t1760\t1761\t1762\t1763\t1764\t1765\t1766\t1767\t1768\t1769\t1770\t1771\t1772\t1773\t1774\t1775\t1776\t1777\t1778\t1779\t1780\t1781\t1782\t1783\t1784\t1785\t1786\t1788\t1789\t1790\t1791\t1793\t1794\t1795\t1796\t1797\t1798\t1799\t1800\t1801\t1802\t1803\t1805\t1806\t1807\t1808\t1809\t1810\t1811\t1812\t1813\t1814\t1815\t1816\t1817\t1818\t1819\t1820\t1821\t1822\t1823\t1824\t1825\t1826\t1827\t1828\t1829\t1830\t1831\t1832\t1833\t1835\t1836\t1837\t1838\t1839\t1840\t1841\t1842\t1843\t1844\t1845\t1846\t1847\t1848\t1849\t1850\t1851\t1852\t1853\t1854\t1855\t1856\t1857\t1858\t1859\t1860\t1861\t1862\t1863\t1864\t1865\t1866\t1867\t1868\t1869\t1870\t1871\t1872\t1873\t1874\t1875\t1876\t1877\t1878\t1879\t1880\t1881\t1882\t1883\t1884\t1885\t1886\t1887\t1888\t1889\t1890\t1891\t1892\t1893\t1894\t1895\t1896\t1897\t1898\t1899\t1900\t1901\t1902\t1903\t1904\t1905\t1906\t1907\t1908\t1909\t1910\t1911\t1912\t1913\t1914\t1915\t1916\t1917\t1918\t1919\t1920\t1921\t1922\t1923\t1924\t1925\t1926\t1927\t1928\t1929\t1930\t1931\t1932\t1933\t1934\t1935\t1936\t1937\t1938\t1939\t1940\t1941\t1942\t1943\t1944\t1945\t1946\t1947\t1948\t1949\t1950\t1951\t1952\t1953\t1954\t1955\t1956\t1957\t1958\t1959\t1960\t1961\t1962\t1963\t1964\t1965\t1966\t1967\t1968\t1969\t1970\t1971\t1972\t1973\t1974\t1975\t1976\t1977\t1978\t1979\t1980\t1981\t1982\t1983\t1984\t1985\t1986\t1987\t1988\t1989\t1990\t1991\t1992\t1993\t1994\t1995\t1996\t1997\t1998\t1999\t2000\t2001\t2002\t2003\t2004\t2005\t2007\t2008\t2009\t2010\t2011\t2012\t2013\t2014\t2015\t2016\t2017\t2018\t2019\t2020\t2021\t2022\t2023\t2024\t2025\t2026\t2027\t2029\t2030\t2031\t2032\t2033\t2034\t2035\t2036\t2037\t2038\t2039\t2040\t2041\t2042\t2043\t2044\t2045\t2046\t2047\t2048\t2049\t2050\t2051\t2052\t2053\t2054\t2055\t2056\t2057\t2058\t2059\t2060\t2061\t2063\t2064\t2065\t2066\t2067\t2068\t2069\t2070\t2071\t2072\t2073\t2074\t2075\t2076\t2077\t2078\t2079\t2080\t2081\t2082\t2083\t2084\t2085\t2087\t2088\t2089\t2090\t2091\t2092\t2093\t2094\t2095\t2096\t2097\t2098\t2099\t2100\t2101\t2102\t2103\t2104\t2105\t2106\t2107\t2108\t2109\t2110\t2111\t2112\t2113\t2114\t2115\t2116\t2117\t2118\t2119\t2120\t2121\t2122\t2123\t2124\t2125\t2126\t2127\t2128\t2129\t2130\t2131\t2132\t2133\t2134\t2135\t2136\t2137\t2138\t2139\t2140\t2141\t2142\t2143\t2144\t2145\t2146\t2147\t2148\t2149\t2150\t2151\t2152\t2153\t2154\t2155\t2156\t2157\t2158\t2160\t2161\t2162\t2163\t2164\t2165\t2166\t2167\t2168\t2169\t2170\t2171\t2172\t2173\t2174\t2175\t2176\t2177\t2179\t2180\t2181\t2182\t2183\t2184\t2185\t2186\t2187\t2188\t2189\t2190\t2191\t2192\t2193\t2194\t2195\t2196\t2197\t2198\t2199\t2200\t2201\t2203\t2204\t2205\t2206\t2207\t2208\t2209\t2210\t2211\t2212\t2213\t2214\t2215\t2216\t2217\t2218\t2219\t2220\t2221\t2223\t2224\t2225\t2226\t2227\t2228\t2229\t2230\t2231\t2232\t2233\t2234\t2235\t2236\t2237\t2238\t2239\t2240\t2241\t2242\t2243\t2244\t2245\t2246\t2247\t2248\t2249\t2251\t2252\t2253\t2254\t2255\t2256\t2257\t2258\t2259\t2260\t2261\t2262\t2263\t2264\t2265\t2266\t2267\t2268\t2269\t2270\t2271\t2272\t2273\t2274\t2275\t2276\t2277\t2278\t2279\t2280\t2281\t2282\t2283\t2284\t2285\t2286\t2287\t2288\t2289\t2290\t2291\t2293\t2294\t2295\t2296\t2298\t2299\t2300\t2301\t2302\t2303\t2304\t2305\t2306\t2307\t2308\t2309\t2310\t2311\t2312\t2313\t2314\t2315\t2316\t2317\t2318\t2319\t2320\t2321\t2322\t2323\t2324\t2325\t2326\t2327\t2328\t2329\t2330\t2331\t2332\t2333\t2334\t2335\t2336\t2337\t2338\t2339\t2340\t2341\t2342\t2343\t2344\t2345\t2346\t2347\t2349\t2350\t2351\t2352\t2353\t2354\t2355\t2356\t2357\t2358\t2359\t2360\t2361\t2362\t2363\t2364\t2365\t2366\t2367\t2368\t2369\t2370\t2371\t2372\t2373\t2374\t2375\t2376\t2377\t2378\t2379\t2380\t2381\t2382\t2383\t2384\t2385\t2386\t2387\t2388\t2389\t2390\t2391\t2392\t2393\t2394\t2395\t2396\t2397\t2398\t2399\t2400\t2401\t2402\t2403\t2404\t2406\t2407\t2408\t2409\t2410\t2411\t2412\t2413\t2414\t2415\t2416\t2417\t2418\t2419\t2420\t2421\t2423\t2424\t2425\t2426\t2427\t2428\t2429\t2430\t2431\t2432\t2433\t2434\t2435\t2436\t2437\t2438\t2439\t2440\t2441\t2442\t2443\t2444\t2445\t2446\t2447\t2448\t2449\t2450\t2451\t2452\t2453\t2454\t2455\t2456\t2457\t2458\t2459\t2460\t2461\t2462\t2463\t2464\t2465\t2466\t2467\t2468\t2470\t2471\t2472\t2473\t2474\t2475\t2476\t2477\t2478\t2479\t2480\t2481\t2482\t2483\t2484\t2485\t2486\t2487\t2488\t2489\t2490\t2491\t2492\t2493\t2494\t2495\t2496\t2497\t2498\t2499\t2500\t2501\t2502\t2503\t2504\t2505\t2506\t2507\t2508\t2509\t2510\t2511\t2512\t2513\t2514\t2515\t2516\t2517\t2518\t2519\t2520\t2521\t2522\t2523\t2524\t2525\t2526\t2527\t2528\t2529\t2530\t2531\t2532\t2533\t2534\t2535\t2536\t2537\t2538\t2539\t2540\t2541\t2542\t2543\t2544\t2545\t2546\t2547\t2548\t2549\t2550\t2551\t2552\t2553\t2554\t2555\t2556\t2557\t2558\t2559\t2560\t2561\t2562\t2563\t2564\t2565\t2566\t2567\t2568\t2569\t2570\t2571\t2572\t2573\t2574\t2575\t2576\t2577\t2579\t2580\t2581\t2582\t2583\t2584\t2585\t2586\t2587\t2588\t2589\t2590\t2591\t2592\t2593\t2594\t2596\t2597\t2598\t2599\t2600\t2601\t2602\t2603\t2604\t2605\t2606\t2607\t2608\t2609\t2610\t2611\t2612\t2613\t2614\t2615\t2616\t2617\t2618\t2619\t2620\t2621\t2622\t2623\t2624\t2625\t2626\t2627\t2628\t2630\t2631\t2632\t2633\t2634\t2635\t2636\t2637\t2638\t2639\t2640\t2642\t2643\t2644\t2645\t2646\t2647\t2648\t2649\t2650\t2651\t2652\t2653\t2654\t2655\t2656\t2657\t2658\t2659\t2660\t2661\t2662\t2663\t2664\t2665\t2666\t2667\t2668\t2669\t2670\t2671\t2672\t2673\t2674\t2675\t2676\t2677\t2678\t2679\t2680\t2681\t2682\t2683\t2684\t2685\t2686\t2687\t2688\t2689\t2690\t2691\t2692\t2693\t2694\t2695\t2696\t2697\t2698\t2699\t2700\t2701\t2702\t2703\t2704\t2705\t2706\t2707\t2708\t2709\t2710\t2711\t2712\t2713\t2714\t2715\t2716\t2717\t2718\t2719\t2720\t2721\t2722\t2723\t2724\t2725\t2726\t2727\t2728\t2729\t2730\t2731\t2732\t2733\t2734\t2735\t2736\t2737\t2738\t2739\t2740\t2741\t2742\t2743\t2744\t2745\t2746\t2747\t2748\t2749\t2751\t2752\t2753\t2754\t2755\t2756\t2758\t2759\t2760\t2761\t2762\t2763\t2764\t2765\t2766\t2767\t2768\t2769\t2770\t2771\t2772\t2773\t2774\t2775\t2776\t2777\t2778\t2779\t2780\t2781\t2782\t2783\t2784\t2785\t2786\t2787\t2788\t2789\t2790\t2791\t2792\t2793\t2794\t2795\t2796\t2797\t2798\t2799\t2800\t2801\t2802\t2803\t2804\t2805\t2807\t2808\t2809\t2810\t2811\t2812\t2813\t2814\t2815\t2816\t2817\t2818\t2819\t2820\t2822\t2823\t2824\t2825\t2826\t2827\t2828\t2829\t2830\t2831\t2832\t2833\t2834\t2835\t2836\t2837\t2838\t2839\t2840\t2841\t2842\t2843\t2844\t2845\t2846\t2847\t2848\t2849\t2850\t2851\t2852\t2853\t2854\t2855\t2856\t2857\t2858\t2859\t2860\t2861\t2862\t2863\t2864\t2865\t2866\t2867\t2868\t2869\t2870\t2871\t2872\t2873\t2874\t2875\t2876\t2877\t2878\t2879\t2880\t2881\t2882\t2884\t2885\t2886\t2887\t2888\t2889\t2890\t2892\t2893\t2894\t2895\t2896\t2897\t2898\t2899\t2900\t2901\t2902\t2903\t2904\t2905\t2906\t2907\t2908\t2909\t2910\t2911\t2912\t2913\t2914\t2915\t2916\t2917\t2918\t2919\t2920\t2921\t2922\t2923\t2924\t2925\t2926\t2927\t2928\t2929\t2930\t2931\t2932\t2933\t2934\t2935\t2936\t2937\t2938\t2939\t2940\t2941\t2942\t2943\t2944\t2945\t2946\t2947\t2948\t2949\t2950\t2951\t2952\t2953\t2954\t2955\t2956\t2958\t2959\t2960\t2961\t2962\t2963\t2964\t2965\t2966\t2967\t2968\t2969\t2970\t2971\t2972\t2973\t2974\t2975\t2976\t2977\t2978\t2979\t2980\t2981\t2982\t2983\t2984\t2985\t2986\t2987\t2988\t2989\t2990\t2991\t2992\t2993\t2994\t2995\t2996\t2997\t2998\t2999\t3000\t3001\t3002\t3003\t3004\t3005\t3006\t3007\t3008\t3009\t3010\t3011\t3012\t3013\t3014\t3015\t3016\t3017\t3018\t3019\t3020\t3021\t3022\t3023\t3024\t3025\t3026\t3027\t3028\t3029\t3030\t3031\t3032\t3033\t3034\t3035\t3036\t3037\t3038\t3039\t3040\t3041\t3042\t3043\t3044\t3045\t3046\t3047\t3048\t3049\t3050\t3051\t3052\t3053\t3054\t3055\t3056\t3057\t3058\t3059\t3060\t3061\t3062\t3063\t3064\t3065\t3066\t3067\t3068\t3069\t3070\t3071\t3072\t3073\t3074\t3076\t3077\t3078\t3079\t3080\t3081\t3082\t3083\t3084\t3085\t3086\t3087\t3088\t3089\t3090\t3091\t3092\t3093\t3094\t3095\t3096\t3097\t3098\t3099\t3100\t3101\t3102\t3103\t3104\t3105\t3106\t3107\t3108\t3109\t3110\t3111\t3112\t3113\t3114\t3115\t3116\t3117\t3118\t3119\t3120\t3121\t3122\t3123\t3125\t3126\t3127\t3128\t3129\t3130\t3131\t3132\t3134\t3135\t3136\t3137\t3138\t3139\t3140\t3141\t3142\t3143\t3144\t3145\t3146\t3147\t3148\t3149\t3150\t3151\t3153\t3154\t3155\t3156\t3158\t3159\t3160\t3162\t3163\t3164\t3165\t3168\t3169\t3170\t3171\t3172\t3173\t3174\t3175\t3176\t3177\t3178\t3179\t3180\t3181\t3182\t3183\t3184\t3185\t3186\t3187\t3188\t3189\t3190\t3191\t3192\t3193\t3194\t3195\t3196\t3197\t3198\t3199\t3200\t3201\t3202\t3203\t3204\t3205\t3206\t3207\t3208\t3209\t3210\t3211\t3212\t3213\t3214\t3215\t3216\t3217\t3218\t3219\t3220\t3221\t3222\t3223\t3224\t3225\t3226\t3227\t3228\t3229\t3230\t3231\t3232\t3233\t3234\t3235\t3236\t3237\t3238\t3239\t3240\t3241\t3242\t3243\t3244\t3245\t3246\t3247\t3248\t3249\t3250\t3251\t3252\t3253\t3254\t3255\t3256\t3257\t3258\t3259\t3260\t3261\t3262\t3263\t3264\t3265\t3266\t3267\t3268\t3269\t3270\t3271\t3272\t3273\t3274\t3275\t3276\t3277\t3278\t3279\t3280\t3281\t3282\t3283\t3284\t3285\t3286\t3287\t3288\t3289\t3290\t3291\t3292\t3293\t3294\t3295\t3296\t3297\t3298\t3299\t3300\t3301\t3302\t3303\t3304\t3305\t3306\t3307\t3308\t3309\t3310\t3311\t3312\t3313\t3315\t3316\t3317\t3318\t3319\t3320\t3321\t3322\t3323\t3324\t3325\t3326\t3327\t3328\t3329\t3330\t3331\t3332\t3334\t3335\t3336\t3337\t3338\t3339\t3340\t3341\t3342\t3344\t3345\t3346\t3347\t3348\t3349\t3350\t3351\t3352\t3353\t3354\t3355\t3356\t3357\t3358\t3359\t3360\t3361\t3362\t3363\t3364\t3365\t3366\t3367\t3368\t3369\t3370\t3371\t3372\t3373\t3374\t3375\t3376\t3377\t3378\t3379\t3380\t3381\t3382\t3383\t3384\t3385\t3386\t3387\t3388\t3389\t3390\t3391\t3392\t3393\t3394\t3395\t3396\t3397\t3398\t3399\t3400\t3401\t3402\t3403\t3404\t3405\t3406\t3407\t3408\t3409\t3410\t3411\t3412\t3413\t3414\t3415\t3416\t3417\t3418\t3419\t3420\t3421\t3422\t3423\t3424\t3425\t3426\t3427\t3428\t3429\t3430\t3431\t3432\t3433\t3434\t3435\t3436\t3437\t3438\t3439\t3440\t3441\t3442\t3443\t3444\t3445\t3446\t3447\t3448\t3449\t3450\t3451\t3452\t3453\t3454\t3455\t3456\t3458\t3459\t3460\t3461\t3462\t3463\t3464\t3465\t3466\t3467\t3468\t3469\t3470\t3471\t3472\t3473\t3474\t3475\t3476\t3477\t3478\t3479\t3480\t3481\t3482\t3483\t3484\t3485\t3486\t3487\t3488\t3489\t3490\t3491\t3492\t3493\t3494\t3495\t3496\t3498\t3499\t3500\t3501\t3502\t3503\t3504\t3505\t3506\t3507\t3508\t3510\t3511\t3512\t3513\t3514\t3515\t3516\t3517\t3518\t3519\t3520\t3521\t3522\t3524\t3525\t3526\t3527\t3528\t3529\t3530\t3531\t3532\t3533\t3534\t3535\t3536\t3537\t3538\t3539\t3540\t3541\t3542\t3543\t3544\t3545\t3546\t3547\t3548\t3549\t3550\t3551\t3552\t3553\t3554\t3555\t3556\t3557\t3558\t3559\t3560\t3561\t3562\t3563\t3564\t3565\t3566\t3567\t3568\t3569\t3570\t3571\t3572\t3573\t3574\t3575\t3576\t3577\t3578\t3579\t3580\t3581\t3582\t3583\t3584\t3585\t3586\t3587\t3588\t3589\t3590\t3591\t3592\t3593\t3594\t3595\t3596\t3597\t3598\t3599\t3600\t3601\t3602\t3603\t3604\t3605\t3606\t3607\t3608\t3609\t3610\t3611\t3612\t3613\t3614\t3615\t3616\t3617\t3618\t3619\t3620\t3621\t3622\t3623\t3624\t3626\t3627\t3628\t3629\t3630\t3631\t3632\t3633\t3634\t3635\t3636\t3637\t3638\t3639\t3640\t3641\t3642\t3643\t3644\t3645\t3646\t3647\t3648\t3649\t3650\t3651\t3652\t3653\t3654\t3655\t3657\t3658\t3659\t3660\t3661\t3662\t3664\t3665\t3666\t3667\t3668\t3669\t3670\t3671\t3672\t3673\t3674\t3675\t3676\t3677\t3678\t3679\t3680\t3681\t3682\t3683\t3684\t3685\t3686\t3687\t3688\t3689\t3690\t3691\t3692\t3693\t3694\t3695\t3696\t3697\t3698\t3699\t3700\t3701\t3702\t3703\t3704\t3705\t3706\t3707\t3708\t3709\t3710\t3711\t3712\t3713\t3714\t3715\t3716\t3717\t3718\t3719\t3720\t3721\t3722\t3723\t3724\t3725\t3726\t3727\t3728\t3729\t3730\t3731\t3732\t3733\t3735\t3736\t3737\t3738\t3739\t3740\t3741\t3742\t3743\t3744\t3745\t3746\t3747\t3748\t3749\t3750\t3751\t3752\t3753\t3754\t3755\t3756\t3757\t3758\t3759\t3760\t3761\t3762\t3763\t3764\t3765\t3767\t3768\t3769\t3770\t3771\t3772\t3773\t3774\t3775\t3776\t3777\t3778\t3779\t3780\t3781\t3783\t3784\t3785\t3786\t3787\t3788\t3789\t3790\t3791\t3792\t3793\t3795\t3796\t3797\t3798\t3799\t3800\t3801\t3802\t3803\t3804\t3805\t3806\t3807\t3808\t3809\t3810\t3811\t3812\t3813\t3814\t3815\t3817\t3818\t3819\t3820\t3821\t3822\t3823\t3824\t3825\t3826\t3827\t3828\t3829\t3830\t3831\t3832\t3833\t3834\t3835\t3836\t3837\t3838\t3839\t3840\t3841\t3842\t3843\t3844\t3845\t3846\t3847\t3848\t3849\t3850\t3851\t3852\t3853\t3854\t3855\t3856\t3857\t3858\t3859\t3860\t3861\t3862\t3863\t3864\t3865\t3866\t3867\t3868\t3869\t3870\t3871\t3872\t3873\t3874\t3875\t3876\t3877\t3878\t3879\t3880\t3881\t3883\t3884\t3885\t3886\t3887\t3888\t3889\t3890\t3891\t3892\t3893\t3894\t3895\t3896\t3897\t3898\t3899\t3900\t3901\t3902\t3903\t3904\t3905\t3906\t3907\t3908\t3909\t3910\t3911\t3912\t3913\t3914\t3915\t3916\t3917\t3918\t3919\t3920\t3921\t3922\t3923\t3924\t3925\t3926\t3927\t3928\t3929\t3930\t3931\t3932\t3933\t3934\t3935\t3936\t3937\t3938\t3939\t3941\t3942\t3944\t3945\t3946\t3947\t3948\t3949\t3950\t3951\t3952\t3953\t3954\t3955\t3956\t3957\t3958\t3959\t3960\t3961\t3962\t3963\t3964\t3965\t3966\t3967\t3968\t3970\t3971\t3972\t3974\t3975\t3976\t3977\t3979\t3980\t3981\t3982\t3983\t3984\t3985\t3986\t3987\t3988\t3989\t3990\t3991\t3992\t3993\t3994\t3995\t3996\t3997\t3998\t3999\t4000\t4001\t4002\t4003\t4004\t4005\t4006\t4007\t4008\t4009\t4010\t4011\t4012\t4013\t4014\t4015\t4016\t4017\t4018\t4019\t4021\t4022\t4023\t4024\t4025\t4026\t4027\t4028\t4029\t4030\t4031\t4032\t4033\t4034\t4035\t4036\t4037\t4038\t4039\t4040\t4041\t4042\t4044\t4045\t4046\t4047\t4048\t4049\t4050\t4051\t4053\t4054\t4055\t4056\t4057\t4058\t4059\t4060\t4061\t4062\t4063\t4064\t4065\t4066\t4067\t4068\t4069\t4070\t4071\t4072\t4073\t4074\t4075\t4076\t4077\t4078\t4079\t4080\t4081\t4082\t4083\t4084\t4085\t4086\t4087\t4088\t4089\t4090\t4091\t4092\t4093\t4094\t4095\t4096\t4097\t4098\t4099\t4100\t4101\t4102\t4103\t4104\t4105\t4106\t4107\t4108\t4109\t4110\t4111\t4112\t4114\t4115\t4116\t4117\t4118\t4119\t4120\t4121\t4122\t4123\t4124\t4125\t4126\t4127\t4128\t4129\t4130\t4131\t4132\t4133\t4134\t4135\t4136\t4137\t4138\t4139\t4140\t4141\t4143\t4144\t4145\t4146\t4147\t4148\t4149\t4150\t4151\t4153\t4154\t4155\t4156\t4157\t4158\t4159\t4160\t4161\t4162\t4163\t4164\t4165\t4166\t4167\t4168\t4169\t4170\t4171\t4172\t4173\t4174\t4175\t4176\t4177\t4179\t4180\t4181\t4182\t4183\t4184\t4185\t4186\t4187\t4188\t4189\t4190\t4191\t4192\t4193\t4194\t4195\t4196\t4197\t4198\t4199\t4200\t4201\t4202\t4203\t4204\t4205\t4206\t4207\t4208\t4209\t4210\t4211\t4212\t4213\t4214\t4215\t4216\t4217\t4218\t4219\t4220\t4221\t4222\t4223\t4224\t4225\t4226\t4227\t4229\t4230\t4231\t4232\t4233\t4234\t4235\t4236\t4237\t4238\t4239\t4240\t4241\t4242\t4243\t4244\t4245\t4246\t4247\t4248\t4249\t4250\t4251\t4252\t4253\t4254\t4255\t4256\t4257\t4258\t4259\t4260\t4261\t4262\t4263\t4264\t4265\t4266\t4267\t4268\t4269\t4270\t4271\t4272\t4273\t4274\t4275\t4276\t4277\t4278\t4279\t4280\t4281\t4282\t4283\t4284\t4285\t4286\t4287\t4288\t4289\t4290\t4291\t4292\t4293\t4294\t4295\t4296\t4297\t4298\t4299\t4300\t4301\t4302\t4303\t4304\t4305\t4306\t4307\t4308\t4309\t4310\t4311\t4312\t4313\t4314\t4315\t4316\t4317\t4318\t4319\t4320\t4321\t4322\t4323\t4324\t4325\t4326\t4327\t4328\t4329\t4330\t4331\t4332\t4333\t4334\t4335\t4336\t4337\t4338\t4339\t4340\t4341\t4342\t4343\t4344\t4345\t4346\t4347\t4348\t4349\t4350\t4351\t4352\t4353\t4354\t4355\t4356\t4357\t4358\t4359\t4360\t4361\t4362\t4363\t4364\t4365\t4366\t4367\t4368\t4369\t4370\t4371\t4372\t4373\t4374\t4375\t4376\t4377\t4378\t4379\t4380\t4381\t4382\t4383\t4384\t4385\t4386\t4387\t4388\t4389\t4390\t4391\t4392\t4393\t4394\t4395\t4396\t4397\t4398\t4399\t4400\t4401\t4402\t4403\t4404\t4405\t4406\t4407\t4408\t4409\t4410\t4411\t4412\t4413\t4414\t4415\t4416\t4417\t4418\t4419\t4420\t4421\t4422\t4423\t4424\t4425\t4426\t4427\t4428\t4429\t4430\t4431\t4432\t4433\t4434\t4435\t4436\t4437\t4438\t4439\t4441\t4442\t4443\t4444\t4445\t4446\t4447\t4448\t4449\t4450\t4451\t4452\t4453\t4454\t4455\t4456\t4457\t4458\t4459\t4460\t4461\t4462\t4464\t4465\t4466\t4467\t4468\t4469\t4470\t4471\t4472\t4473\t4474\t4475\t4476\t4477\t4478\t4479\t4480\t4481\t4482\t4483\t4484\t4485\t4486\t4487\t4489\t4490\t4491\t4492\t4495\t4496\t4497\t4498\t4499\t4500\t4501\t4502\t4503\t4504\t4505\t4506\t4508\t4509\t4510\t4511\t4512\t4513\t4514\t4515\t4516\t4517\t4518\t4519\t4520\t4521\t4522\t4523\t4524\t4525\t4526\t4527\t4528\t4529\t4530\t4531\t4533\t4534\t4535\t4536\t4537\t4538\t4539\t4540\t4541\t4542\t4543\t4544\t4545\t4546\t4547\t4548\t4549\t4550\t4551\t4552\t4553\t4554\t4555\t4556\t4557\t4558\t4559\t4560\t4561\t4562\t4563\t4564\t4565\t4566\t4567\t4568\t4569\t4570\t4571\t4572\t4573\t4574\t4575\t4576\t4577\t4578\t4579\t4580\t4581\t4582\t4583\t4584\t4585\t4586\t4587\t4588\t4589\t4590\t4591\t4592\t4593\t4594\t4595\t4596\t4597\t4598\t4599\t4600\t4601\t4602\t4603\t4604\t4605\t4606\t4607\t4608\t4610\t4611\t4612\t4613\t4614\t4615\t4616\t4617\t4618\t4619\t4620\t4621\t4622\t4623\t4624\t4625\t4626\t4627\t4628\t4629\t4630\t4631\t4632\t4633\t4634\t4635\t4636\t4637\t4638\t4639\t4640\t4641\t4642\t4643\t4644\t4645\t4646\t4647\t4648\t4649\t4650\t4651\t4652\t4653\t4654\t4655\t4656\t4657\t4658\t4659\t4660\t4661\t4662\t4663\t4664\t4665\t4666\t4667\t4668\t4669\t4670\t4671\t4672\t4673\t4674\t4675\t4676\t4677\t4678\t4679\t4680\t4681\t4682\t4683\t4684\t4685\t4686\t4687\t4688\t4689\t4690\t4691\t4692\t4693\t4694\t4695\t4696\t4697\t4698\t4699\t4700\t4701\t4702\t4703\t4704\t4705\t4706\t4707\t4708\t4709\t4710\t4711\t4712\t4713\t4714\t4715\t4716\t4717\t4718\t4719\t4720\t4721\t4722\t4723\t4724\t4725\t4726\t4727\t4728\t4729\t4731\t4732\t4733\t4734\t4735\t4736\t4737\t4738\t4739\t4740\t4741\t4742\t4743\t4744\t4745\t4746\t4747\t4748\t4749\t4750\t4751\t4752\t4753\t4754\t4755\t4756\t4757\t4758\t4759\t4760\t4761\t4762\t4763\t4764\t4765\t4766\t4767\t4768\t4769\t4770\t4772\t4773\t4774\t4775\t4776\t4778\t4779\t4780\t4781\t4782\t4783\t4784\t4785\t4786\t4787\t4788\t4789\t4790\t4791\t4792\t4793\t4794\t4795\t4796\t4797\t4798\t4799\t4800\t4801\t4802\t4803\t4804\t4805\t4806\t4807\t4808\t4809\t4810\t4811\t4812\t4813\t4814\t4815\t4816\t4817\t4818\t4819\t4820\t4821\t4822\t4823\t4824\t4825\t4826\t4827\t4828\t4829\t4830\t4831\t4832\t4833\t4834\t4835\t4836\t4837\t4838\t4839\t4840\t4841\t4842\t4843\t4844\t4845\t4847\t4848\t4849\t4850\t4851\t4852\t4853\t4854\t4855\t4856\t4857\t4858\t4859\t4860\t4861\t4862\t4863\t4864\t4865\t4866\t4867\t4869\t4870\t4871\t4872\t4873\t4874\t4875\t4876\t4877\t4878\t4879\t4880\t4881\t4882\t4883\t4884\t4885\t4886\t4887\t4888\t4889\t4890\t4891\t4892\t4893\t4894\t4895\t4896\t4897\t4898\t4899\t4900\t4901\t4902\t4903\t4904\t4905\t4906\t4907\t4908\t4909\t4910\t4911\t4912\t4913\t4914\t4915\t4916\t4917\t4918\t4919\t4920\t4921\t4922\t4923\t4924\t4925\t4926\t4927\t4928\t4929\t4930\t4931\t4932\t4933\t4934\t4935\t4936\t4937\t4938\t4939\t4940\t4941\t4942\t4943\t4944\t4945\t4946\t4947\t4948\t4949\t4950\t4951\t4952\t4953\t4954\t4955\t4956\t4957\t4958\t4959\t4960\t4961\t4962\t4963\t4964\t4965\t4966\t4967\t4968\t4969\t4970\t4971\t4972\t4973\t4974\t4975\t4976\t4977\t4978\t4979\t4980\t4981\t4982\t4983\t4984\t4985\t4986\t4987\t4988\t4989\t4990\t4991\t4992\t4993\t4994\t4995\t4996\t4997\t4998\t4999\t5000\t5001\t5002\t5003\t5004\t5005\t5006\t5007\t5008\t5009\t5010\t5011\t5012\t5013\t5014\t5015\t5016\t5017\t5018\t5019\t5020\t5021\t5022\t5023\t5024\t5025\t5026\t5027\t5028\t5029\t5030\t5031\t5032\t5033\t5034\t5035\t5036\t5037\t5039\t5040\t5041\t5042\t5043\t5044\t5045\t5046\t5047\t5049\t5050\t5051\t5052\t5053\t5054\t5055\t5056\t5057\t5058\t5059\t5061\t5062\t5063\t5064\t5065\t5066\t5068\t5069\t5070\t5071\t5072\t5073\t5074\t5075\t5076\t5077\t5078\t5079\t5081\t5082\t5083\t5084\t5085\t5086\t5087\t5089\t5090\t5091\t5092\t5093\t5094\t5095\t5096\t5097\t5098\t5099\t5100\t5101\t5102\t5103\t5104\t5105\t5106\t5107\t5108\t5109\t5110\t5111\t5112\t5113\t5114\t5115\t5116\t5117\t5118\t5119\t5120\t5121\t5122\t5123\t5124\t5125\t5126\t5127\t5128\t5129\t5130\t5131\t5132\t5133\t5134\t5135\t5136\t5137\t5138\t5139\t5140\t5142\t5143\t5144\t5145\t5146\t5147\t5148\t5149\t5150\t5151\t5152\t5153\t5154\t5155\t5156\t5157\t5158\t5160\t5161\t5162\t5163\t5164\t5165\t5166\t5167\t5168\t5169\t5170\t5171\t5172\t5173\t5174\t5175\t5176\t5177\t5178\t5179\t5180\t5181\t5182\t5184\t5185\t5186\t5187\t5188\t5189\t5190\t5191\t5192\t5193\t5194\t5195\t5196\t5197\t5198\t5199\t5200\t5201\t5202\t5203\t5204\t5205\t5206\t5207\t5208\t5209\t5210\t5211\t5212\t5213\t5214\t5215\t5216\t5217\t5218\t5219\t5220\t5221\t5222\t5223\t5224\t5225\t5226\t5227\t5229\t5230\t5231\t5232\t5233\t5234\t5235\t5236\t5237\t5238\t5239\t5240\t5241\t5242\t5243\t5245\t5246\t5247\t5248\t5250\t5251\t5252\t5253\t5254\t5255\t5256\t5257\t5258\t5259\t5260\t5261\t5262\t5263\t5264\t5265\t5266\t5267\t5268\t5269\t5270\t5271\t5272\t5273\t5274\t5275\t5276\t5277\t5278\t5279\t5280\t5281\t5282\t5283\t5284\t5285\t5286\t5287\t5288\t5289\t5290\t5291\t5292\t5293\t5294\t5295\t5296\t5297\t5298\t5299\t5300\t5301\t5302\t5303\t5304\t5305\t5306\t5307\t5308\t5309\t5310\t5311\t5312\t5313\t5314\t5315\t5316\t5317\t5318\t5319\t5320\t5321\t5322\t5323\t5324\t5325\t5326\t5327\t5328\t5329\t5330\t5331\t5332\t5333\t5334\t5335\t5336\t5337\t5338\t5339\t5340\t5341\t5342\t5343\t5344\t5345\t5346\t5347\t5348\t5350\t5351\t5352\t5353\t5354\t5355\t5356\t5357\t5358\t5359\t5360\t5361\t5362\t5363\t5364\t5365\t5366\t5367\t5368\t5369\t5370\t5371\t5372\t5373\t5374\t5375\t5376\t5377\t5378\t5379\t5380\t5381\t5382\t5383\t5384\t5385\t5386\t5387\t5389\t5390\t5391\t5392\t5393\t5394\t5396\t5397\t5398\t5399\t5400\t5401\t5402\t5403\t5404\t5405\t5406\t5407\t5408\t5409\t5410\t5411\t5412\t5413\t5414\t5415\t5416\t5417\t5418\t5419\t5420\t5421\t5422\t5423\t5424\t5425\t5426\t5427\t5428\t5429\t5430\t5431\t5432\t5433\t5434\t5435\t5436\t5437\t5438\t5439\t5440\t5441\t5442\t5443\t5444\t5445\t5446\t5447\t5448\t5449\t5450\t5451\t5452\t5453\t5454\t5455\t5456\t5457\t5458\t5459\t5460\t5461\t5462\t5463\t5464\t5465\t5466\t5467\t5468\t5469\t5470\t5471\t5472\t5473\t5474\t5475\t5476\t5477\t5478\t5479\t5480\t5481\t5482\t5483\t5484\t5485\t5486\t5487\t5488\t5489\t5490\t5491\t5492\t5493\t5494\t5495\t5496\t5497\t5498\t5499\t5500\t5501\t5502\t5503\t5504\t5505\t5506\t5507\t5508\t5509\t5510\t5512\t5513\t5514\t5515\t5516\t5517\t5518\t5519\t5520\t5521\t5522\t5523\t5524\t5525\t5526\t5527\t5528\t5529\t5530\t5531\t5532\t5533\t5534\t5535\t5536\t5537\t5538\t5539\t5540\t5541\t5542\t5543\t5544\t5545\t5546\t5547\t5548\t5549\t5550\t5551\t5552\t5553\t5554\t5555\t5556\t5557\t5558\t5559\t5560\t5561\t5562\t5563\t5564\t5565\t5566\t5567\t5568\t5569\t5570\t5571\t5572\t5574\t5575\t5576\t5577\t5578\t5579\t5580\t5581\t5582\t5583\t5584\t5585\t5586\t5587\t5588\t5589\t5590\t5591\t5592\t5593\t5594\t5596\t5597\t5598\t5599\t5600\t5601\t5602\t5603\t5604\t5605\t5606\t5607\t5608\t5609\t5610\t5611\t5612\t5613\t5614\t5615\t5616\t5617\t5618\t5619\t5620\t5621\t5622\t5623\t5624\t5625\t5626\t5627\t5628\t5629\t5630\t5631\t5632\t5633\t5634\t5635\t5636\t5637\t5638\t5639\t5640\t5642\t5643\t5644\t5645\t5646\t5647\t5648\t5649\t5650\t5651\t5652\t5653\t5654\t5655\t5656\t5657\t5658\t5659\t5660\t5661\t5662\t5663\t5664\t5665\t5666\t5667\t5668\t5669\t5670\t5671\t5672\t5673\t5674\t5675\t5676\t5677\t5678\t5679\t5680\t5681\t5682\t5683\t5684\t5685\t5686\t5687\t5688\t5689\t5690\t5691\t5692\t5693\t5694\t5695\t5696\t5697\t5698\t5699\t5700\t5701\t5702\t5703\t5704\t5705\t5706\t5707\t5708\t5709\t5710\t5711\t5712\t5713\t5714\t5715\t5716\t5717\t5718\t5719\t5720\t5721\t5722\t5723\t5724\t5725\t5726\t5727\t5728\t5729\t5730\t5731\t5732\t5733\t5734\t5735\t5736\t5737\t5738\t5739\t5740\t5741\t5742\t5743\t5744\t5745\t5746\t5747\t5748\t5749\t5750\t5751\t5752\t5753\t5754\t5755\t5756\t5757\t5758\t5759\t5760\t5761\t5762\t5763\t5764\t5765\t5766\t5767\t5768\t5769\t5770\t5771\t5772\t5773\t5774\t5775\t5776\t5777\t5778\t5779\t5780\t5781\t5782\t5783\t5784\t5785\t5786\t5787\t5788\t5789\t5790\t5791\t5792\t5793\t5794\t5795\t5796\t5797\t5798\t5800\t5801\t5802\t5803\t5805\t5806\t5807\t5808\t5809\t5810\t5811\t5812\t5813\t5814\t5815\t5816\t5817\t5819\t5820\t5821\t5822\t5823\t5824\t5825\t5826\t5827\t5828\t5829\t5830\t5831\t5832\t5833\t5834\t5835\t5836\t5837\t5838\t5839\t5840\t5841\t5842\t5843\t5844\t5845\t5846\t5847\t5848\t5849\t5850\t5851\t5852\t5853\t5854\t5855\t5856\t5857\t5858\t5859\t5860\t5861\t5862\t5863\t5864\t5865\t5866\t5867\t5868\t5869\t5870\t5871\t5873\t5874\t5876\t5877\t5878\t5880\t5881\t5882\t5883\t5884\t5885\t5886\t5887\t5888\t5889\t5890\t5891\t5892\t5893\t5894\t5895\t5896\t5897\t5898\t5899\t5900\t5901\t5902\t5903\t5904\t5905\t5906\t5907\t5908\t5909\t5910\t5911\t5912\t5913\t5914\t5915\t5916\t5917\t5918\t5919\t5920\t5921\t5922\t5923\t5924\t5925\t5926\t5927\t5928\t5929\t5930\t5931\t5932\t5933\t5934\t5935\t5936\t5937\t5938\t5939\t5940\t5941\t5942\t5943\t5944\t5945\t5946\t5947\t5948\t5949\t5950\t5951\t5952\t5953\t5954\t5955\t5956\t5957\t5958\t5959\t5960\t5961\t5962\t5963\t5964\t5965\t5966\t5967\t5968\t5969\t5970\t5971\t5972\t5973\t5974\t5975\t5976\t5977\t5978\t5979\t5980\t5981\t5982\t5983\t5984\t5985\t5986\t5987\t5988\t5989\t5990\t5991\t5992\t5993\t5994\t5995\t5996\t5997\t5998\t5999\t6000\t6001\t6002\t6003\t6004\t6005\t6006\t6007\t6008\t6009\t6010\t6011\t6012\t6013\t6014\t6015\t6016\t6017\t6018\t6019\t6020\t6021\t6022\t6023\t6024\t6026\t6027\t6028\t6029\t6030\t6031\t6032\t6033\t6034\t6035\t6036\t6037\t6038\t6039\t6040\t6041\t6042\t6043\t6044\t6045\t6046\t6047\t6048\t6049\t6050\t6051\t6052\t6053\t6054\t6055\t6056\t6057\t6058\t6059\t6060\t6061\t6062\t6063\t6064\t6065\t6066\t6067\t6068\t6069\t6070\t6071\t6072\t6073\t6074\t6075\t6076\t6077\t6078\t6079\t6080\t6081\t6082\t6084\t6085\t6086\t6087\t6088\t6089\t6090\t6091\t6092\t6093\t6094\t6095\t6096\t6097\t6098\t6099\t6100\t6101\t6102\t6103\t6104\t6105\t6106\t6107\t6108\t6109\t6110\t6111\t6112\t6113\t6114\t6115\t6116\t6117\t6118\t6120\t6121\t6122\t6123\t6124\t6125\t6126\t6127\t6128\t6129\t6130\t6131\t6132\t6133\t6134\t6135\t6136\t6137\t6138\t6139\t6140\t6141\t6142\t6143\t6144\t6145\t6146\t6147\t6148\t6149\t6150\t6151\t6152\t6153\t6154\t6155\t6156\t6157\t6158\t6159\t6160\t6161\t6162\t6163\t6164\t6165\t6166\t6167\t6168\t6169\t6170\t6171\t6172\t6173\t6174\t6175\t6176\t6177\t6178\t6179\t6180\t6181\t6182\t6183\t6184\t6185\t6186\t6187\t6188\t6189\t6190\t6191\t6192\t6193\t6194\t6195\t6196\t6197\t6198\t6199\t6200\t6201\t6202\t6203\t6205\t6206\t6208\t6209\t6210\t6211\t6212\t6213\t6214\t6215\t6216\t6217\t6218\t6219\t6220\t6221\t6222\t6223\t6224\t6225\t6226\t6227\t6228\t6229\t6230\t6231\t6232\t6233\t6234\t6235\t6236\t6237\t6238\t6239\t6240\t6241\t6242\t6243\t6244\t6245\t6246\t6247\t6248\t6249\t6250\t6251\t6252\t6253\t6254\t6255\t6256\t6257\t6258\t6259\t6260\t6261\t6262\t6264\t6265\t6266\t6267\t6268\t6269\t6270\t6271\t6272\t6273\t6274\t6275\t6276\t6277\t6278\t6279\t6280\t6281\t6282\t6283\t6284\t6285\t6286\t6287\t6288\t6289\t6290\t6291\t6292\t6293\t6294\t6295\t6296\t6297\t6298\t6299\t6300\t6301\t6302\t6303\t6304\t6305\t6306\t6307\t6308\t6309\t6310\t6311\t6312\t6313\t6314\t6315\t6316\t6317\t6318\t6319\t6320\t6321\t6322\t6323\t6325\t6326\t6327\t6328\t6329\t6330\t6331\t6332\t6333\t6334\t6335\t6336\t6337\t6338\t6339\t6340\t6341\t6342\t6343\t6344\t6345\t6346\t6347\t6348\t6349\t6350\t6352\t6353\t6354\t6355\t6356\t6357\t6358\t6359\t6360\t6361\t6362\t6363\t6364\t6365\t6366\t6367\t6368\t6369\t6370\t6371\t6372\t6373\t6374\t6375\t6376\t6377\t6378\t6379\t6380\t6381\t6382\t6383\t6384\t6385\t6386\t6387\t6388\t6389\t6390\t6391\t6392\t6393\t6394\t6395\t6396\t6397\t6398\t6399\t6400\t6401\t6402\t6403\t6404\t6405\t6406\t6407\t6408\t6409\t6410\t6411\t6412\t6413\t6414\t6415\t6416\t6417\t6418\t6419\t6420\t6421\t6423\t6424\t6425\t6426\t6427\t6428\t6429\t6430\t6431\t6432\t6433\t6434\t6435\t6436\t6437\t6438\t6439\t6440\t6441\t6442\t6443\t6444\t6445\t6446\t6447\t6448\t6449\t6450\t6451\t6452\t6453\t6454\t6455\t6456\t6457\t6458\t6459\t6460\t6461\t6462\t6463\t6464\t6465\t6466\t6467\t6468\t6469\t6470\t6471\t6472\t6473\t6474\t6476\t6477\t6478\t6479\t6480\t6481\t6482\t6483\t6484\t6485\t6486\t6487\t6488\t6489\t6490\t6491\t6492\t6493\t6494\t6495\t6496\t6497\t6498\t6499\t6500\t6501\t6502\t6503\t6504\t6505\t6506\t6507\t6508\t6509\t6510\t6511\t6512\t6513\t6514\t6515\t6516\t6517\t6518\t6519\t6520\t6521\t6522\t6523\t6524\t6525\t6526\t6527\t6528\t6529\t6530\t6531\t6533\t6534\t6535\t6536\t6537\t6538\t6539\t6540\t6541\t6542\t6543\t6544\t6545\t6546\t6547\t6548\t6549\t6550\t6551\t6552\t6553\t6554\t6555\t6557\t6558\t6559\t6560\t6561\t6562\t6563\t6564\t6565\t6566\t6567\t6568\t6569\t6570\t6571\t6572\t6573\t6574\t6575\t6576\t6577\t6578\t6579\t6580\t6581\t6582\t6583\t6584\t6585\t6586\t6587\t6588\t6589\t6590\t6591\t6592\t6593\t6594\t6595\t6596\t6597\t6598\t6599\t6600\t6601\t6602\t6603\t6604\t6605\t6606\t6607\t6608\t6609\t6610\t6611\t6612\t6613\t6614\t6616\t6617\t6618\t6619\t6620\t6621\t6622\t6623\t6624\t6625\t6626\t6627\t6628\t6629\t6630\t6631\t6632\t6633\t6634\t6635\t6636\t6637\t6638\t6639\t6640\t6641\t6642\t6643\t6644\t6645\t6646\t6647\t6648\t6649\t6650\t6651\t6652\t6653\t6654\t6655\t6656\t6657\t6658\t6659\t6660\t6661\t6662\t6663\t6664\t6665\t6666\t6667\t6668\t6669\t6670\t6671\t6672\t6673\t6674\t6675\t6676\t6677\t6678\t6679\t6680\t6681\t6682\t6683\t6684\t6685\t6686\t6687\t6688\t6690\t6691\t6692\t6693\t6694\t6695\t6696\t6697\t6698\t6699\t6700\t6701\t6703\t6704\t6705\t6706\t6707\t6708\t6709\t6710\t6711\t6712\t6713\t6714\t6715\t6716\t6717\t6718\t6719\t6720\t6721\t6722\t6723\t6724\t6725\t6726\t6727\t6728\t6729\t6730\t6731\t6732\t6733\t6734\t6735\t6736\t6737\t6738\t6739\t6740\t6741\t6742\t6743\t6744\t6745\t6746\t6747\t6748\t6749\t6750\t6751\t6752\t6753\t6755\t6756\t6757\t6758\t6759\t6760\t6761\t6762\t6763\t6764\t6766\t6767\t6768\t6769\t6770\t6771\t6772\t6773\t6774\t6775\t6776\t6777\t6778\t6779\t6780\t6781\t6782\t6783\t6784\t6786\t6787\t6788\t6789\t6790\t6791\t6792\t6793\t6794\t6795\t6796\t6797\t6798\t6799\t6800\t6801\t6802\t6803\t6804\t6805\t6806\t6807\t6808\t6809\t6810\t6811\t6812\t6813\t6814\t6815\t6816\t6818\t6819\t6820\t6821\t6822\t6823\t6824\t6825\t6826\t6827\t6829\t6830\t6831\t6832\t6833\t6834\t6835\t6836\t6837\t6838\t6839\t6840\t6841\t6842\t6843\t6844\t6845\t6846\t6847\t6848\t6849\t6850\t6851\t6852\t6853\t6855\t6856\t6857\t6858\t6859\t6860\t6861\t6862\t6863\t6864\t6865\t6866\t6867\t6868\t6869\t6870\t6871\t6872\t6873\t6874\t6875\t6876\t6877\t6878\t6879\t6880\t6881\t6882\t6883\t6884\t6885\t6886\t6887\t6888\t6889\t6890\t6891\t6892\t6893\t6894\t6895\t6897\t6898\t6899\t6900\t6902\t6903\t6904\t6905\t6906\t6907\t6908\t6909\t6912\t6913\t6914\t6915\t6916\t6917\t6918\t6919\t6920\t6921\t6922\t6923\t6924\t6925\t6926\t6927\t6928\t6930\t6931\t6932\t6933\t6934\t6935\t6936\t6937\t6938\t6939\t6940\t6941\t6942\t6943\t6944\t6945\t6946\t6947\t6948\t6949\t6950\t6951\t6952\t6953\t6954\t6955\t6956\t6957\t6958\t6959\t6960\t6961\t6962\t6963\t6964\t6965\t6966\t6967\t6968\t6969\t6970\t6971\t6972\t6973\t6974\t6975\t6976\t6977\t6978\t6979\t6980\t6981\t6982\t6983\t6984\t6985\t6986\t6987\t6988\t6989\t6990\t6991\t6992\t6993\t6994\t6995\t6996\t6997\t6998\t6999\t7000\t7001\t7002\t7003\t7004\t7005\t7006\t7007\t7008\t7009\t7010\t7011\t7012\t7013\t7014\t7015\t7016\t7017\t7018\t7019\t7020\t7021\t7022\t7023\t7024\t7025\t7026\t7027\t7028\t7029\t7030\t7031\t7032\t7033\t7034\t7035\t7036\t7037\t7038\t7039\t7040\t7041\t7042\t7043\t7044\t7045\t7046\t7047\t7048\t7049\t7050\t7051\t7052\t7053\t7054\t7055\t7056\t7057\t7058\t7059\t7060\t7061\t7062\t7063\t7064\t7065\t7066\t7067\t7068\t7069\t7070\t7071\t7072\t7073\t7074\t7075\t7076\t7077\t7078\t7079\t7080\t7081\t7082\t7083\t7084\t7085\t7086\t7087\t7088\t7089\t7090\t7091\t7092\t7093\t7094\t7095\t7096\t7097\t7098\t7099\t7100\t7101\t7102\t7103\t7104\t7105\t7106\t7107\t7108\t7109\t7110\t7111\t7112\t7113\t7114\t7115\t7116\t7118\t7119\t7120\t7121\t7122\t7123\t7124\t7125\t7126\t7127\t7128\t7129\t7130\t7131\t7132\t7133\t7134\t7135\t7136\t7138\t7139\t7140\t7141\t7142\t7143\t7144\t7145\t7146\t7147\t7148\t7149\t7151\t7152\t7153\t7154\t7155\t7156\t7157\t7158\t7159\t7161\t7162\t7163\t7164\t7165\t7166\t7167\t7168\t7169\t7170\t7171\t7172\t7173\t7174\t7175\t7176\t7177\t7178\t7179\t7180\t7181\t7182\t7183\t7184\t7185\t7186\t7187\t7188\t7189\t7190\t7191\t7192\t7193\t7194\t7195\t7196\t7197\t7198\t7199\t7200\t7201\t7202\t7204\t7205\t7206\t7207\t7208\t7209\t7210\t7211\t7212\t7213\t7214\t7215\t7216\t7217\t7219\t7220\t7221\t7223\t7224\t7225\t7226\t7227\t7228\t7229\t7230\t7231\t7232\t7233\t7234\t7235\t7236\t7237\t7238\t7239\t7241\t7242\t7243\t7244\t7245\t7246\t7247\t7248\t7249\t7250\t7251\t7252\t7253\t7254\t7255\t7256\t7257\t7258\t7260\t7261\t7262\t7263\t7264\t7265\t7266\t7267\t7268\t7269\t7270\t7271\t7272\t7273\t7274\t7276\t7278\t7279\t7280\t7281\t7282\t7283\t7284\t7285\t7286\t7287\t7288\t7289\t7290\t7291\t7292\t7293\t7294\t7295\t7296\t7297\t7299\t7300\t7301\t7302\t7303\t7304\t7305\t7306\t7307\t7308\t7309\t7310\t7311\t7312\t7313\t7314\t7315\t7316\t7317\t7318\t7319\t7320\t7321\t7322\t7323\t7324\t7325\t7326\t7327\t7328\t7329\t7331\t7332\t7333\t7334\t7335\t7336\t7337\t7338\t7339\t7340\t7342\t7343\t7344\t7345\t7346\t7347\t7348\t7349\t7350\t7351\t7352\t7353\t7354\t7355\t7356\t7357\t7358\t7359\t7360\t7361\t7362\t7363\t7364\t7365\t7366\t7367\t7368\t7369\t7370\t7371\t7372\t7373\t7374\t7375\t7376\t7377\t7378\t7379\t7380\t7381\t7382\t7383\t7384\t7385\t7386\t7387\t7388\t7389\t7390\t7391\t7393\t7394\t7395\t7396\t7397\t7398\t7399\t7400\t7401\t7402\t7403\t7404\t7405\t7406\t7407\t7408\t7409\t7410\t7411\t7412\t7413\t7414\t7415\t7416\t7417\t7418\t7419\t7420\t7421\t7422\t7423\t7424\t7425\t7426\t7427\t7428\t7429\t7430\t7431\t7432\t7433\t7434\t7435\t7436\t7437\t7438\t7439\t7440\t7441\t7442\t7443\t7444\t7445\t7446\t7447\t7448\t7449\t7450\t7451\t7452\t7453\t7454\t7455\t7456\t7457\t7458\t7459\t7460\t7461\t7462\t7464\t7465\t7466\t7467\t7468\t7469\t7470\t7471\t7472\t7473\t7474\t7475\t7476\t7477\t7478\t7479\t7480\t7481\t7482\t7483\t7484\t7485\t7486\t7487\t7488\t7489\t7490\t7491\t7492\t7493\t7494\t7495\t7496\t7497\t7498\t7499\t7500\t7501\t7502\t7503\t7504\t7505\t7506\t7507\t7508\t7509\t7510\t7511\t7512\t7513\t7514\t7515\t7516\t7517\t7518\t7519\t7520\t7521\t7522\t7523\t7524\t7525\t7526\t7527\t7528\t7529\t7530\t7531\t7532\t7533\t7534\t7535\t7536\t7537\t7538\t7539\t7540\t7541\t7542\t7543\t7544\t7545\t7546\t7547\t7548\t7549\t7550\t7551\t7552\t7553\t7554\t7555\t7556\t7557\t7558\t7559\t7560\t7561\t7562\t7563\t7564\t7565\t7566\t7567\t7568\t7569\t7570\t7571\t7572\t7573\t7574\t7575\t7576\t7577\t7578\t7579\t7580\t7581\t7582\t7583\t7584\t7585\t7586\t7587\t7588\t7589\t7590\t7591\t7592\t7593\t7594\t7595\t7596\t7597\t7598\t7600\t7601\t7602\t7603\t7604\t7605\t7606\t7607\t7608\t7609\t7610\t7611\t7613\t7614\t7615\t7616\t7617\t7619\t7620\t7621\t7622\t7623\t7624\t7625\t7626\t7627\t7628\t7629\t7630\t7631\t7632\t7633\t7634\t7635\t7636\t7637\t7638\t7639\t7640\t7641\t7642\t7643\t7644\t7645\t7646\t7647\t7648\t7649\t7650\t7651\t7652\t7653\t7654\t7655\t7656\t7657\t7658\t7659\t7660\t7661\t7663\t7664\t7665\t7666\t7667\t7668\t7669\t7670\t7671\t7672\t7673\t7674\t7675\t7676\t7677\t7678\t7679\t7680\t7681\t7682\t7683\t7684\t7685\t7686\t7687\t7688\t7689\t7690\t7691\t7692\t7693\t7694\t7695\t7696\t7697\t7698\t7699\t7700\t7701\t7702\t7703\t7704\t7705\t7706\t7707\t7708\t7709\t7710\t7711\t7712\t7713\t7714\t7715\t7716\t7717\t7718\t7719\t7720\t7721\t7722\t7723\t7724\t7725\t7726\t7727\t7728\t7729\t7730\t7731\t7732\t7733\t7734\t7735\t7736\t7737\t7738\t7739\t7740\t7741\t7742\t7743\t7744\t7745\t7746\t7747\t7748\t7749\t7750\t7751\t7753\t7754\t7755\t7756\t7757\t7758\t7759\t7760\t7761\t7762\t7763\t7764\t7765\t7766\t7767\t7768\t7770\t7771\t7772\t7773\t7774\t7775\t7776\t7777\t7778\t7780\t7781\t7782\t7783\t7784\t7785\t7786\t7787\t7788\t7789\t7790\t7791\t7792\t7793\t7794\t7795\t7796\t7797\t7798\t7799\t7800\t7801\t7802\t7803\t7804\t7805\t7806\t7807\t7808\t7809\t7810\t7811\t7812\t7813\t7814\t7815\t7816\t7817\t7818\t7819\t7820\t7821\t7822\t7823\t7824\t7825\t7826\t7827\t7828\t7829\t7830\t7832\t7833\t7834\t7835\t7836\t7837\t7838\t7839\t7840\t7841\t7842\t7843\t7844\t7845\t7846\t7847\t7848\t7849\t7850\t7851\t7852\t7853\t7854\t7855\t7856\t7857\t7858\t7859\t7860\t7861\t7862\t7863\t7864\t7865\t7866\t7867\t7868\t7869\t7870\t7871\t7872\t7873\t7874\t7875\t7876\t7877\t7879\t7880\t7881\t7882\t7883\t7884\t7885\t7886\t7887\t7888\t7889\t7890\t7891\t7892\t7893\t7894\t7895\t7896\t7897\t7899\t7900\t7901\t7902\t7903\t7904\t7905\t7906\t7907\t7908\t7909\t7910\t7911\t7912\t7913\t7914\t7915\t7916\t7917\t7918\t7919\t7920\t7921\t7922\t7923\t7924\t7925\t7926\t7927\t7928\t7929\t7930\t7931\t7932\t7934\t7935\t7936\t7937\t7938\t7939\t7940\t7941\t7942\t7943\t7944\t7945\t7946\t7947\t7948\t7949\t7950\t7951\t7952\t7953\t7954\t7955\t7956\t7957\t7958\t7959\t7960\t7961\t7962\t7963\t7964\t7965\t7966\t7967\t7969\t7970\t7971\t7972\t7973\t7974\t7975\t7976\t7977\t7978\t7979\t7980\t7981\t7982\t7983\t7984\t7985\t7986\t7987\t7988\t7989\t7990\t7991\t7992\t7993\t7994\t7995\t7996\t7997\t7998\t8000\t8001\t8002\t8003\t8004\t8005\t8006\t8007\t8008\t8009\t8011\t8012\t8013\t8014\t8015\t8016\t8017\t8018\t8019\t8020\t8021\t8022\t8023\t8024\t8025\t8026\t8027\t8028\t8029\t8030\t8031\t8032\t8033\t8034\t8035\t8036\t8037\t8038\t8039\t8040\t8041\t8042\t8043\t8044\t8045\t8046\t8047\t8048\t8049\t8050\t8051\t8052\t8053\t8054\t8055\t8056\t8057\t8058\t8059\t8060\t8061\t8062\t8063\t8064\t8065\t8066\t8067\t8068\t8069\t8070\t8071\t8072\t8073\t8074\t8076\t8077\t8078\t8079\t8080\t8081\t8082\t8083\t8084\t8085\t8086\t8087\t8088\t8089\t8090\t8091\t8092\t8093\t8094\t8095\t8096\t8097\t8098\t8099\t8100\t8101\t8102\t8103\t8104\t8105\t8106\t8107\t8108\t8109\t8110\t8111\t8112\t8113\t8114\t8115\t8116\t8117\t8118\t8119\t8120\t8121\t8122\t8123\t8125\t8126\t8127\t8128\t8129\t8130\t8131\t8132\t8133\t8134\t8135\t8136\t8137\t8138\t8139\t8140\t8141\t8142\t8143\t8144\t8145\t8146\t8147\t8148\t8149\t8150\t8151\t8152\t8153\t8154\t8155\t8156\t8157\t8158\t8159\t8160\t8161\t8162\t8163\t8164\t8165\t8166\t8167\t8168\t8169\t8170\t8171\t8173\t8174\t8175\t8176\t8177\t8178\t8180\t8181\t8182\t8183\t8184\t8185\t8186\t8187\t8188\t8189\t8190\t8191\t8192\t8193\t8194\t8195\t8196\t8197\t8198\t8199\t8200\t8201\t8202\t8204\t8205\t8206\t8207\t8208\t8209\t8210\t8211\t8212\t8213\t8214\t8215\t8216\t8217\t8218\t8219\t8220\t8221\t8222\t8223\t8224\t8225\t8226\t8227\t8228\t8230\t8231\t8232\t8233\t8234\t8235\t8236\t8237\t8238\t8239\t8240\t8241\t8242\t8243\t8244\t8245\t8246\t8247\t8248\t8249\t8250\t8251\t8252\t8253\t8254\t8255\t8256\t8257\t8258\t8259\t8261\t8262\t8264\t8265\t8266\t8267\t8268\t8269\t8270\t8271\t8272\t8273\t8274\t8275\t8276\t8277\t8278\t8279\t8280\t8281\t8282\t8283\t8284\t8285\t8286\t8287\t8288\t8289\t8290\t8291\t8292\t8293\t8294\t8295\t8296\t8297\t8298\t8299\t8300\t8301\t8302\t8303\t8304\t8305\t8306\t8307\t8308\t8309\t8310\t8311\t8312\t8313\t8314\t8315\t8316\t8317\t8318\t8319\t8320\t8321\t8322\t8323\t8324\t8325\t8326\t8327\t8328\t8330\t8331\t8332\t8333\t8334\t8335\t8336\t8337\t8338\t8339\t8340\t8341\t8342\t8343\t8344\t8345\t8346\t8347\t8348\t8349\t8350\t8351\t8352\t8353\t8354\t8355\t8356\t8357\t8358\t8359\t8360\t8361\t8362\t8363\t8364\t8365\t8366\t8367\t8368\t8369\t8370\t8371\t8372\t8373\t8374\t8375\t8376\t8377\t8378\t8379\t8380\t8381\t8382\t8384\t8385\t8387\t8388\t8389\t8390\t8391\t8392\t8393\t8394\t8395\t8396\t8397\t8398\t8399\t8400\t8401\t8402\t8403\t8404\t8405\t8406\t8407\t8408\t8409\t8410\t8411\t8412\t8413\t8414\t8415\t8416\t8417\t8418\t8419\t8420\t8421\t8422\t8423\t8424\t8425\t8426\t8427\t8428\t8429\t8430\t8431\t8432\t8433\t8434\t8435\t8436\t8437\t8438\t8439\t8440\t8441\t8442\t8443\t8444\t8445\t8446\t8447\t8448\t8449\t8450\t8451\t8452\t8453\t8454\t8455\t8456\t8457\t8458\t8459\t8460\t8461\t8462\t8463\t8464\t8465\t8466\t8467\t8468\t8469\t8470\t8471\t8472\t8473\t8474\t8475\t8476\t8477\t8478\t8479\t8480\t8481\t8482\t8483\t8484\t8485\t8486\t8487\t8488\t8489\t8490\t8491\t8492\t8493\t8494\t8495\t8496\t8497\t8498\t8499\t8500\t8501\t8502\t8503\t8504\t8505\t8506\t8507\t8508\t8509\t8510\t8511\t8512\t8513\t8514\t8515\t8516\t8517\t8518\t8520\t8521\t8522\t8523\t8524\t8525\t8526\t8527\t8528\t8529\t8530\t8531\t8532\t8533\t8534\t8535\t8536\t8537\t8538\t8539\t8540\t8541\t8542\t8543\t8544\t8545\t8546\t8547\t8548\t8549\t8550\t8551\t8552\t8553\t8554\t8555\t8556\t8557\t8558\t8559\t8560\t8561\t8562\t8563\t8564\t8565\t8566\t8567\t8568\t8569\t8570\t8571\t8572\t8573\t8574\t8575\t8576\t8577\t8578\t8579\t8581\t8582\t8583\t8584\t8585\t8586\t8587\t8588\t8589\t8590\t8591\t8592\t8593\t8594\t8595\t8596\t8597\t8598\t8599\t8600\t8601\t8602\t8603\t8604\t8605\t8606\t8607\t8608\t8609\t8610\t8611\t8612\t8613\t8614\t8615\t8616\t8617\t8618\t8619\t8620\t8621\t8622\t8623\t8624\t8625\t8626\t8627\t8628\t8629\t8630\t8631\t8632\t8633\t8634\t8635\t8636\t8637\t8638\t8640\t8641\t8642\t8643\t8644\t8645\t8646\t8647\t8648\t8649\t8650\t8651\t8652\t8653\t8654\t8655\t8656\t8657\t8658\t8659\t8660\t8661\t8662\t8663\t8664\t8665\t8666\t8667\t8668\t8669\t8670\t8671\t8673\t8674\t8675\t8676\t8677\t8678\t8679\t8680\t8681\t8682\t8683\t8684\t8685\t8686\t8687\t8688\t8689\t8690\t8691\t8692\t8693\t8694\t8695\t8696\t8697\t8698\t8699\t8700\t8701\t8702\t8703\t8704\t8705\t8706\t8707\t8708\t8709\t8710\t8711\t8712\t8713\t8714\t8715\t8716\t8717\t8718\t8720\t8721\t8722\t8723\t8724\t8725\t8726\t8727\t8728\t8729\t8730\t8731\t8732\t8733\t8734\t8735\t8736\t8737\t8738\t8739\t8740\t8741\t8742\t8743\t8744\t8745\t8746\t8747\t8749\t8750\t8751\t8752\t8753\t8754\t8755\t8756\t8757\t8758\t8759\t8760\t8761\t8762\t8764\t8765\t8766\t8767\t8768\t8769\t8770\t8771\t8772\t8773\t8774\t8775\t8776\t8777\t8778\t8779\t8780\t8781\t8782\t8783\t8784\t8785\t8786\t8787\t8788\t8789\t8790\t8791\t8792\t8793\t8794\t8795\t8796\t8797\t8798\t8799\t8800\t8801\t8802\t8803\t8804\t8805\t8806\t8807\t8808\t8809\t8810\t8811\t8812\t8813\t8814\t8815\t8817\t8818\t8819\t8820\t8821\t8822\t8823\t8824\t8825\t8826\t8827\t8828\t8829\t8830\t8831\t8832\t8833\t8834\t8835\t8836\t8837\t8838\t8839\t8840\t8841\t8842\t8843\t8845\t8846\t8847\t8848\t8849\t8850\t8851\t8852\t8853\t8854\t8855\t8856\t8857\t8858\t8859\t8860\t8861\t8862\t8863\t8864\t8865\t8866\t8867\t8868\t8869\t8870\t8871\t8872\t8873\t8874\t8875\t8876\t8877\t8878\t8879\t8880\t8881\t8882\t8883\t8884\t8885\t8886\t8887\t8888\t8889\t8890\t8891\t8892\t8893\t8894\t8895\t8896\t8897\t8898\t8899\t8900\t8901\t8902\t8903\t8904\t8905\t8906\t8907\t8908\t8909\t8910\t8911\t8912\t8913\t8914\t8915\t8916\t8917\t8918\t8919\t8920\t8921\t8922\t8923\t8925\t8927\t8928\t8929\t8930\t8931\t8932\t8933\t8934\t8935\t8936\t8937\t8938\t8939\t8940\t8941\t8942\t8943\t8944\t8945\t8946\t8947\t8948\t8950\t8951\t8952\t8953\t8954\t8955\t8956\t8957\t8958\t8959\t8960\t8961\t8962\t8963\t8964\t8965\t8966\t8967\t8968\t8969\t8970\t8971\t8972\t8973\t8974\t8975\t8976\t8977\t8978\t8979\t8980\t8981\t8982\t8983\t8984\t8985\t8986\t8987\t8988\t8989\t8990\t8991\t8992\t8993\t8994\t8995\t8996\t8997\t8998\t8999\t9000\t9001\t9002\t9003\t9004\t9005\t9006\t9007\t9008\t9009\t9010\t9011\t9012\t9013\t9014\t9015\t9016\t9017\t9018\t9019\t9020\t9021\t9022\t9023\t9024\t9025\t9026\t9027\t9028\t9029\t9030\t9031\t9032\t9033\t9034\t9035\t9036\t9037\t9038\t9039\t9040\t9041\t9042\t9043\t9044\t9045\t9046\t9047\t9048\t9049\t9050\t9051\t9052\t9053\t9054\t9055\t9056\t9057\t9058\t9059\t9060\t9061\t9062\t9063\t9064\t9065\t9066\t9067\t9068\t9069\t9070\t9071\t9072\t9074\t9075\t9076\t9077\t9078\t9079\t9080\t9081\t9082\t9083\t9084\t9085\t9086\t9087\t9088\t9089\t9090\t9091\t9092\t9093\t9094\t9095\t9096\t9097\t9098\t9099\t9100\t9101\t9102\t9103\t9104\t9105\t9106\t9107\t9108\t9109\t9110\t9111\t9112\t9113\t9114\t9115\t9116\t9117\t9118\t9119\t9120\t9121\t9122\t9123\t9124\t9125\t9126\t9127\t9128\t9129\t9130\t9131\t9132\t9133\t9134\t9135\t9136\t9137\t9138\t9139\t9140\t9141\t9142\t9143\t9144\t9145\t9146\t9147\t9148\t9149\t9150\t9151\t9152\t9153\t9154\t9155\t9156\t9157\t9158\t9159\t9160\t9161\t9162\t9163\t9164\t9165\t9166\t9167\t9168\t9169\t9170\t9171\t9172\t9173\t9174\t9175\t9176\t9177\t9178\t9179\t9180\t9181\t9182\t9183\t9184\t9185\t9186\t9187\t9188\t9189\t9190\t9191\t9192\t9193\t9194\t9195\t9196\t9197\t9198\t9199\t9200\t9201\t9202\t9203\t9204\t9205\t9206\t9207\t9208\t9209\t9210\t9211\t9212\t9213\t9214\t9215\t9216\t9217\t9218\t9220\t9221\t9222\t9223\t9224\t9225\t9226\t9227\t9228\t9229\t9230\t9231\t9232\t9233\t9234\t9235\t9236\t9237\t9238\t9239\t9240\t9241\t9242\t9243\t9244\t9245\t9246\t9247\t9248\t9249\t9250\t9251\t9252\t9254\t9255\t9256\t9257\t9258\t9259\t9260\t9261\t9262\t9263\t9264\t9265\t9266\t9267\t9268\t9269\t9270\t9271\t9272\t9273\t9274\t9275\t9276\t9277\t9278\t9279\t9280\t9281\t9282\t9283\t9284\t9285\t9286\t9287\t9288\t9289\t9290\t9291\t9292\t9293\t9295\t9296\t9297\t9298\t9300\t9301\t9302\t9303\t9304\t9305\t9306\t9307\t9308\t9309\t9310\t9311\t9312\t9313\t9314\t9315\t9316\t9317\t9318\t9319\t9320\t9321\t9322\t9323\t9324\t9325\t9326\t9327\t9328\t9329\t9330\t9331\t9332\t9333\t9334\t9335\t9336\t9337\t9338\t9339\t9340\t9341\t9342\t9343\t9344\t9345\t9346\t9347\t9348\t9349\t9350\t9351\t9352\t9353\t9354\t9355\t9356\t9357\t9358\t9359\t9360\t9361\t9362\t9363\t9364\t9365\t9366\t9367\t9368\t9369\t9370\t9371\t9372\t9373\t9374\t9375\t9376\t9378\t9379\t9380\t9381\t9382\t9383\t9384\t9385\t9386\t9387\t9388\t9389\t9390\t9391\t9392\t9393\t9394\t9395\t9396\t9397\t9398\t9399\t9400\t9401\t9402\t9403\t9404\t9405\t9406\t9407\t9408\t9409\t9410\t9411\t9412\t9413\t9414\t9415\t9416\t9417\t9418\t9419\t9420\t9421\t9422\t9424\t9425\t9426\t9427\t9428\t9429\t9430\t9431\t9432\t9433\t9434\t9435\t9436\t9437\t9438\t9439\t9440\t9441\t9442\t9444\t9445\t9446\t9447\t9448\t9449\t9450\t9451\t9452\t9454\t9456\t9457\t9458\t9459\t9460\t9461\t9462\t9463\t9464\t9466\t9467\t9468\t9469\t9470\t9471\t9473\t9474\t9475\t9476\t9477\t9478\t9479\t9480\t9481\t9482\t9483\t9484\t9485\t9486\t9487\t9488\t9489\t9490\t9491\t9492\t9493\t9494\t9495\t9496\t9497\t9498\t9499\t9500\t9501\t9502\t9503\t9504\t9505\t9506\t9507\t9508\t9509\t9510\t9511\t9512\t9513\t9514\t9515\t9516\t9517\t9518\t9519\t9520\t9521\t9522\t9523\t9524\t9525\t9526\t9527\t9528\t9529\t9530\t9531\t9532\t9533\t9534\t9535\t9536\t9537\t9538\t9539\t9540\t9541\t9542\t9543\t9544\t9545\t9546\t9547\t9548\t9549\t9551\t9552\t9553\t9554\t9555\t9556\t9557\t9558\t9559\t9560\t9561\t9562\t9563\t9564\t9565\t9566\t9567\t9568\t9569\t9571\t9572\t9573\t9574\t9575\t9576\t9577\t9578\t9579\t9580\t9581\t9582\t9583\t9584\t9585\t9586\t9587\t9588\t9589\t9590\t9591\t9592\t9593\t9594\t9595\t9596\t9597\t9598\t9599\t9600\t9601\t9602\t9603\t9604\t9605\t9607\t9608\t9609\t9610\t9611\t9612\t9613\t9614\t9615\t9616\t9617\t9618\t9619\t9620\t9621\t9622\t9623\t9624\t9625\t9626\t9627\t9628\t9629\t9630\t9631\t9632\t9633\t9634\t9635\t9636\t9637\t9638\t9639\t9640\t9641\t9642\t9643\t9644\t9645\t9646\t9647\t9648\t9649\t9650\t9651\t9652\t9653\t9654\t9655\t9656\t9657\t9658\t9659\t9660\t9661\t9662\t9663\t9664\t9665\t9666\t9667\t9668\t9669\t9670\t9672\t9673\t9674\t9675\t9676\t9677\t9678\t9679\t9680\t9681\t9682\t9684\t9685\t9686\t9687\t9688\t9689\t9690\t9691\t9692\t9693\t9694\t9695\t9696\t9697\t9699\t9701\t9702\t9703\t9704\t9705\t9706\t9707\t9708\t9709\t9710\t9711\t9712\t9713\t9714\t9715\t9716\t9717\t9718\t9719\t9720\t9721\t9722\t9723\t9724\t9725\t9726\t9727\t9728\t9729\t9730\t9731\t9732\t9733\t9734\t9735\t9737\t9738\t9739\t9740\t9741\t9742\t9743\t9744\t9745\t9746\t9747\t9748\t9749\t9750\t9751\t9752\t9753\t9754\t9755\t9756\t9757\t9758\t9759\t9760\t9761\t9762\t9763\t9764\t9765\t9766\t9767\t9768\t9769\t9770\t9771\t9772\t9773\t9774\t9775\t9776\t9777\t9778\t9779\t9780\t9781\t9782\t9783\t9784\t9785\t9786\t9787\t9788\t9789\t9790\t9791\t9792\t9793\t9794\t9795\t9796\t9797\t9798\t9799\t9800\t9801\t9802\t9803\t9804\t9805\t9806\t9807\t9808\t9809\t9810\t9811\t9812\t9813\t9814\t9815\t9816\t9817\t9818\t9819\t9820\t9821\t9822\t9823\t9824\t9826\t9827\t9828\t9829\t9830\t9831\t9832\t9833\t9834\t9835\t9836\t9837\t9838\t9839\t9840\t9841\t9842\t9843\t9844\t9845\t9846\t9847\t9848\t9849\t9850\t9851\t9853\t9854\t9855\t9856\t9857\t9858\t9859\t9860\t9861\t9863\t9865\t9866\t9867\t9868\t9869\t9870\t9871\t9872\t9873\t9874\t9875\t9876\t9877\t9878\t9879\t9880\t9881\t9882\t9883\t9884\t9885\t9886\t9887\t9888\t9889\t9891\t9892\t9893\t9894\t9895\t9896\t9897\t9898\t9899\t9900\t9901\t9902\t9903\t9904\t9905\t9906\t9907\t9908\t9909\t9910\t9911\t9912\t9913\t9914\t9915\t9916\t9917\t9918\t9919\t9920\t9921\t9922\t9923\t9924\t9925\t9927\t9928\t9929\t9930\t9931\t9932\t9933\t9934\t9935\t9936\t9937\t9938\t9939\t9940\t9941\t9942\t9943\t9944\t9945\t9946\t9947\t9948\t9949\t9950\t9951\t9952\t9953\t9954\t9955\t9956\t9957\t9958\t9959\t9960\t9961\t9962\t9963\t9964\t9965\t9966\t9967\t9968\t9969\t9971\t9972\t9973\t9974\t9975\t9976\t9977\t9978\t9979\t9980\t9981\t9982\t9983\t9984\t9985\t9986\t9987\t9988\t9989\t9990\t9991\t9992\t9993\t9994\t9995\t9996\t9997\t9998\t9999\t10000\t10001\t10002\t10003\t10004\t10005\t10006\t10007\t10008\t10009\t10010\t10011\t10012\t10013\t10014\t10015\t10016\t10017\t10018\t10019\t10020\t10021\t10022\t10023\t10024\t10025\t10026\t10027\t10028\t10029\t10030\t10031\t10032\t10033\t10034\t10035\t10036\t10037\t10038\t10039\t10040\t10041\t10042\t10043\t10044\t10045\t10046\t10047\t10048\t10049\t10050\t10051\t10052\t10053\t10054\t10055\t10056\t10057\t10058\t10059\t10060\t10061\t10062\t10063\t10064\t10065\t10066\t10067\t10068\t10069\t10070\t10071\t10072\t10073\t10074\t10075\t10076\t10077\t10078\t10079\t10080\t10081\t10082\t10083\t10084\t10085\t10086\t10087\t10088\t10089\t10090\t10091\t10092\t10093\t10094\t10095\t10096\t10097\t10098\t10099\t10100\t10101\t10102\t10103\t10104\t10105\t10106\t10107\t10108\t10109\t10110\t10111\t10112\t10113\t10114\t10115\t10116\t10117\t10118\t10119\t10120\t10121\t10122\t10123\t10124\t10125\t10126\t10127\t10128\t10129\t10130\t10131\t10132\t10133\t10135\t10136\t10137\t10138\t10139\t10140\t10141\t10142\t10144\t10145\t10146\t10147\t10148\t10149\t10150\t10151\t10152\t10153\t10154\t10155\t10156\t10157\t10158\t10159\t10160\t10161\t10162\t10163\t10164\t10165\t10166\t10167\t10168\t10169\t10170\t10171\t10172\t10173\t10174\t10175\t10177\t10178\t10179\t10180\t10181\t10182\t10183\t10184\t10185\t10186\t10187\t10188\t10189\t10190\t10191\t10192\t10193\t10194\t10195\t10196\t10197\t10198\t10199\t10200\t10201\t10202\t10203\t10204\t10205\t10206\t10207\t10208\t10209\t10210\t10211\t10212\t10213\t10214\t10215\t10216\t10217\t10218\t10219\t10220\t10221\t10222\t10223\t10225\t10226\t10227\t10228\t10229\t10230\t10231\t10232\t10233\t10234\t10235\t10237\t10238\t10239\t10240\t10241\t10242\t10243\t10244\t10245\t10246\t10247\t10248\t10249\t10250\t10251\t10252\t10253\t10254\t10255\t10256\t10257\t10258\t10259\t10260\t10261\t10262\t10263\t10264\t10265\t10266\t10267\t10268\t10269\t10270\t10271\t10272\t10274\t10275\t10276\t10277\t10278\t10279\t10280\t10281\t10282\t10283\t10284\t10285\t10286\t10287\t10288\t10289\t10290\t10291\t10292\t10294\t10295\t10296\t10297\t10298\t10299\t10300\t10301\t10302\t10303\t10304\t10305\t10306\t10307\t10308\t10309\t10310\t10311\t10312\t10313\t10314\t10315\t10316\t10317\t10318\t10319\t10320\t10321\t10322\t10323\t10325\t10326\t10327\t10328\t10329\t10330\t10331\t10332\t10333\t10334\t10335\t10336\t10337\t10338\t10339\t10340\t10341\t10342\t10343\t10344\t10345\t10346\t10347\t10348\t10349\t10350\t10351\t10352\t10353\t10354\t10355\t10356\t10357\t10358\t10359\t10360\t10361\t10362\t10363\t10364\t10365\t10366\t10367\t10368\t10369\t10370\t10371\t10372\t10373\t10374\t10375\t10376\t10377\t10378\t10380\t10381\t10382\t10383\t10384\t10385\t10386\t10387\t10388\t10389\t10390\t10391\t10392\t10393\t10394\t10395\t10396\t10397\t10398\t10399\t10400\t10401\t10402\t10403\t10404\t10405\t10406\t10407\t10408\t10409\t10410\t10411\t10412\t10413\t10414\t10416\t10417\t10418\t10419\t10420\t10421\t10422\t10423\t10424\t10425\t10426\t10427\t10428\t10429\t10430\t10431\t10433\t10434\t10435\t10436\t10437\t10438\t10439\t10440\t10441\t10442\t10443\t10444\t10445\t10446\t10447\t10448\t10449\t10450\t10451\t10452\t10453\t10454\t10455\t10456\t10457\t10458\t10459\t10460\t10461\t10462\t10463\t10464\t10465\t10466\t10467\t10468\t10469\t10470\t10471\t10472\t10473\t10474\t10475\t10476\t10477\t10478\t10479\t10480\t10481\t10482\t10483\t10484\t10485\t10486\t10487\t10488\t10489\t10490\t10491\t10492\t10493\t10494\t10495\t10496\t10497\t10498\t10499\t10500\t10501\t10502\t10503\t10504\t10505\t10506\t10507\t10508\t10509\t10510\t10511\t10512\t10513\t10514\t10515\t10516\t10517\t10518\t10519\t10520\t10521\t10522\t10524\t10525\t10526\t10527\t10528\t10529\t10530\t10531\t10532\t10533\t10534\t10535\t10536\t10537\t10538\t10539\t10540\t10541\t10542\t10543\t10544\t10545\t10546\t10547\t10548\t10549\t10550\t10551\t10552\t10553\t10554\t10555\t10556\t10557\t10558\t10559\t10560\t10561\t10562\t10563\t10564\t10565\t10566\t10567\t10568\t10569\t10570\t10571\t10572\t10573\t10574\t10575\t10576\t10577\t10578\t10579\t10580\t10581\t10582\t10583\t10584\t10585\t10586\t10587\t10588\t10589\t10590\t10591\t10592\t10593\t10594\t10595\t10596\t10597\t10598\t10599\t10600\t10601\t10602\t10603\t10604\t10605\t10606\t10607\t10608\t10609\t10610\t10611\t10612\t10613\t10614\t10615\t10616\t10617\t10618\t10619\t10620\t10621\t10622\t10623\t10624\t10625\t10626\t10627\t10628\t10629\t10630\t10631\t10632\t10633\t10634\t10635\t10636\t10637\t10638\t10639\t10640\t10641\t10642\t10643\t10644\t10645\t10647\t10648\t10650\t10652\t10653\t10654\t10655\t10656\t10657\t10659\t10660\t10661\t10662\t10663\t10664\t10665\t10666\t10667\t10669\t10670\t10671\t10672\t10673\t10674\t10675\t10676\t10677\t10678\t10679\t10680\t10681\t10683\t10684\t10685\t10686\t10687\t10688\t10689\t10690\t10691\t10692\t10693\t10694\t10695\t10696\t10697\t10698\t10699\t10700\t10701\t10702\t10703\t10704\t10705\t10706\t10707\t10708\t10709\t10710\t10711\t10712\t10713\t10714\t10715\t10716\t10717\t10718\t10719\t10720\t10721\t10722\t10723\t10724\t10725\t10726\t10727\t10728\t10729\t10730\t10731\t10732\t10733\t10734\t10735\t10736\t10737\t10738\t10739\t10740\t10741\t10742\t10743\t10744\t10745\t10746\t10747\t10748\t10749\t10750\t10751\t10752\t10753\t10754\t10755\t10756\t10757\t10758\t10759\t10760\t10761\t10762\t10763\t10764\t10765\t10766\t10767\t10768\t10769\t10770\t10771\t10772\t10773\t10774\t10775\t10776\t10777\t10778\t10779\t10780\t10781\t10782\t10783\t10784\t10785\t10786\t10787\t10788\t10789\t10790\t10791\t10792\t10793\t10794\t10795\t10796\t10797\t10798\t10799\t10800\t10801\t10802\t10803\t10804\t10805\t10806\t10807\t10808\t10809\t10811\t10812\t10813\t10814\t10815\t10816\t10817\t10818\t10819\t10820\t10822\t10823\t10824\t10825\t10826\t10827\t10828\t10829\t10830\t10831\t10832\t10833\t10834\t10835\t10836\t10838\t10839\t10840\t10841\t10842\t10843\t10844\t10845\t10846\t10847\t10848\t10849\t10850\t10852\t10853\t10854\t10855\t10856\t10857\t10858\t10859\t10860\t10861\t10862\t10863\t10864\t10865\t10866\t10868\t10869\t10870\t10871\t10872\t10873\t10874\t10875\t10876\t10877\t10878\t10879\t10880\t10881\t10882\t10883\t10884\t10885\t10886\t10887\t10888\t10889\t10890\t10891\t10892\t10893\t10894\t10895\t10896\t10897\t10898\t10899\t10900\t10902\t10903\t10904\t10905\t10906\t10907\t10908\t10909\t10911\t10912\t10913\t10914\t10915\t10916\t10917\t10918\t10919\t10920\t10921\t10922\t10923\t10924\t10925\t10926\t10927\t10928\t10929\t10930\t10931\t10932\t10933\t10934\t10935\t10936\t10937\t10939\t10940\t10941\t10942\t10943\t10944\t10945\t10946\t10947\t10948\t10949\t10950\t10951\t10952\t10953\t10954\t10955\t10956\t10957\t10958\t10959\t10960\t10961\t10962\t10963\t10964\t10965\t10966\t10967\t10968\t10969\t10970\t10971\t10972\t10973\t10974\t10975\t10976\t10977\t10978\t10979\t10980\t10982\t10983\t10984\t10985\t10986\t10987\t10988\t10989\t10990\t10991\t10992\t10993\t10994\t10995\t10996\t10997\t10998\t10999\t11000\t11001\t11002\t11003\t11004\t11005\t11006\t11007\t11008\t11009\t11010\t11011\t11012\t11013\t11014\t11015\t11016\t11017\t11018\t11019\t11020\t11021\t11022\t11023\t11024\t11025\t11026\t11027\t11028\t11029\t11030\t11031\t11032\t11033\t11034\t11035\t11036\t11037\t11038\t11039\t11040\t11041\t11042\t11045\t11046\t11047\t11048\t11049\t11050\t11051\t11052\t11053\t11055\t11056\t11057\t11058\t11059\t11060\t11061\t11062\t11063\t11064\t11065\t11066\t11067\t11068\t11070\t11071\t11072\t11073\t11074\t11075\t11076\t11077\t11078\t11079\t11080\t11081\t11082\t11083\t11084\t11085\t11086\t11087\t11088\t11089\t11090\t11091\t11092\t11093\t11094\t11095\t11096\t11097\t11098\t11099\t11100\t11101\t11102\t11103\t11105\t11106\t11107\t11108\t11109\t11110\t11111\t11112\t11113\t11114\t11116\t11117\t11118\t11119\t11120\t11121\t11122\t11123\t11124\t11125\t11126\t11127\t11128\t11129\t11130\t11131\t11132\t11133\t11134\t11135\t11136\t11137\t11138\t11139\t11140\t11141\t11142\t11143\t11144\t11145\t11146\t11147\t11148\t11149\t11150\t11151\t11152\t11153\t11154\t11155\t11156\t11157\t11159\t11160\t11161\t11162\t11163\t11164\t11165\t11166\t11167\t11168\t11169\t11170\t11171\t11172\t11173\t11174\t11175\t11176\t11177\t11178\t11179\t11180\t11181\t11182\t11183\t11184\t11185\t11186\t11187\t11188\t11189\t11190\t11191\t11192\t11193\t11194\t11195\t11196\t11197\t11199\t11200\t11201\t11202\t11203\t11204\t11205\t11206\t11207\t11208\t11209\t11210\t11211\t11212\t11214\t11215\t11216\t11217\t11218\t11219\t11220\t11221\t11222\t11223\t11224\t11225\t11226\t11227\t11228\t11229\t11230\t11231\t11232\t11233\t11234\t11235\t11236\t11237\t11238\t11239\t11240\t11241\t11242\t11243\t11244\t11245\t11246\t11247\t11248\t11249\t11250\t11251\t11252\t11253\t11254\t11255\t11256\t11257\t11258\t11259\t11260\t11261\t11262\t11263\t11264\t11265\t11266\t11267\t11268\t11269\t11270\t11271\t11272\t11273\t11274\t11275\t11276\t11277\t11278\t11279\t11280\t11281\t11282\t11283\t11284\t11285\t11286\t11287\t11288\t11289\t11290\t11291\t11292\t11293\t11294\t11295\t11296\t11297\t11298\t11299\t11300\t11301\t11302\t11303\t11304\t11305\t11306\t11307\t11308\t11309\t11310\t11311\t11312\t11313\t11314\t11315\t11316\t11317\t11318\t11319\t11320\t11321\t11322\t11323\t11324\t11325\t11326\t11327\t11328\t11330\t11331\t11332\t11333\t11334\t11335\t11336\t11337\t11338\t11339\t11340\t11341\t11342\t11343\t11344\t11345\t11346\t11347\t11348\t11349\t11350\t11351\t11352\t11354\t11355\t11356\t11357\t11358\t11359\t11360\t11361\t11362\t11363\t11364\t11365\t11366\t11367\t11368\t11369\t11370\t11371\t11373\t11374\t11375\t11376\t11377\t11378\t11379\t11380\t11381\t11382\t11383\t11384\t11385\t11386\t11387\t11388\t11389\t11390\t11391\t11392\t11393\t11394\t11395\t11396\t11397\t11398\t11399\t11400\t11401\t11402\t11403\t11404\t11405\t11406\t11407\t11408\t11409\t11410\t11411\t11412\t11413\t11414\t11415\t11416\t11417\t11418\t11419\t11420\t11421\t11422\t11423\t11424\t11425\t11426\t11427\t11428\t11429\t11430\t11432\t11433\t11434\t11435\t11436\t11437\t11439\t11440\t11441\t11443\t11444\t11445\t11446\t11447\t11448\t11449\t11450\t11451\t11452\t11453\t11454\t11455\t11456\t11457\t11458\t11459\t11460\t11461\t11462\t11463\t11464\t11465\t11466\t11467\t11468\t11469\t11470\t11471\t11472\t11473\t11474\t11475\t11476\t11477\t11478\t11479\t11480\t11481\t11482\t11483\t11484\t11485\t11486\t11487\t11489\t11490\t11491\t11492\t11493\t11494\t11495\t11496\t11497\t11498\t11499\t11500\t11501\t11502\t11503\t11504\t11505\t11506\t11507\t11508\t11509\t11510\t11511\t11512\t11513\t11514\t11515\t11516\t11517\t11518\t11519\t11520\t11521\t11522\t11523\t11524\t11525\t11526\t11527\t11528\t11529\t11530\t11531\t11532\t11533\t11534\t11535\t11536\t11537\t11538\t11539\t11540\t11541\t11542\t11543\t11544\t11545\t11546\t11547\t11548\t11549\t11550\t11551\t11552\t11553\t11554\t11555\t11556\t11557\t11558\t11559\t11560\t11561\t11562\t11563\t11564\t11565\t11566\t11567\t11569\t11570\t11571\t11572\t11573\t11574\t11575\t11576\t11577\t11578\t11579\t11580\t11581\t11582\t11583\t11584\t11585\t11586\t11587\t11588\t11589\t11590\t11591\t11592\t11593\t11594\t11595\t11596\t11597\t11598\t11599\t11600\t11601\t11602\t11603\t11604\t11605\t11606\t11607\t11608\t11609\t11610\t11611\t11612\t11613\t11614\t11615\t11616\t11617\t11618\t11619\t11620\t11621\t11622\t11623\t11624\t11625\t11626\t11627\t11628\t11629\t11630\t11631\t11632\t11633\t11634\t11635\t11636\t11637\t11638\t11639\t11640\t11641\t11642\t11643\t11644\t11645\t11646\t11647\t11648\t11649\t11650\t11651\t11652\t11653\t11654\t11655\t11656\t11657\t11658\t11659\t11660\t11661\t11662\t11663\t11664\t11666\t11667\t11668\t11669\t11670\t11671\t11672\t11673\t11674\t11675\t11676\t11677\t11678\t11679\t11680\t11681\t11682\t11683\t11684\t11685\t11686\t11687\t11688\t11689\t11690\t11691\t11692\t11693\t11694\t11695\t11696\t11697\t11698\t11699\t11700\t11701\t11702\t11703\t11704\t11705\t11706\t11707\t11708\t11709\t11710\t11711\t11712\t11713\t11714\t11715\t11716\t11717\t11718\t11719\t11720\t11721\t11722\t11723\t11724\t11725\t11726\t11727\t11728\t11729\t11730\t11731\t11732\t11733\t11734\t11735\t11736\t11737\t11738\t11739\t11740\t11741\t11742\t11743\t11744\t11745\t11746\t11747\t11748\t11750\t11751\t11752\t11753\t11754\t11755\t11756\t11757\t11758\t11759\t11760\t11761\t11762\t11763\t11764\t11765\t11766\t11767\t11768\t11769\t11770\t11771\t11772\t11773\t11774\t11775\t11776\t11777\t11778\t11779\t11780\t11781\t11782\t11783\t11785\t11786\t11788\t11790\t11791\t11792\t11793\t11794\t11795\t11796\t11797\t11798\t11799\t11800\t11801\t11802\t11803\t11804\t11805\t11806\t11807\t11808\t11809\t11810\t11811\t11812\t11813\t11814\t11815\t11816\t11817\t11818\t11819\t11820\t11821\t11822\t11823\t11824\t11825\t11826\t11827\t11828\t11829\t11830\t11831\t11832\t11833\t11834\t11835\t11836\t11837\t11838\t11839\t11840\t11841\t11842\t11843\t11844\t11845\t11846\t11847\t11848\t11849\t11850\t11851\t11852\t11853\t11854\t11855\t11856\t11857\t11858\t11859\t11860\t11861\t11862\t11863\t11864\t11865\t11867\t11868\t11869\t11870\t11871\t11872\t11873\t11874\t11875\t11876\t11877\t11879\t11880\t11881\t11882\t11883\t11884\t11885\t11886\t11887\t11888\t11889\t11890\t11891\t11892\t11893\t11894\t11895\t11896\t11897\t11898\t11899\t11900\t11901\t11902\t11903\t11904\t11905\t11906\t11907\t11908\t11909\t11910\t11912\t11913\t11914\t11915\t11916\t11917\t11918\t11920\t11921\t11922\t11923\t11924\t11925\t11926\t11927\t11928\t11929\t11930\t11931\t11932\t11933\t11934\t11935\t11936\t11937\t11938\t11939\t11940\t11941\t11942\t11943\t11944\t11945\t11946\t11947\t11948\t11949\t11950\t11951\t11952\t11953\t11954\t11955\t11956\t11957\t11958\t11959\t11960\t11961\t11962\t11963\t11964\t11965\t11966\t11967\t11968\t11969\t11970\t11971\t11972\t11973\t11974\t11975\t11976\t11978\t11979\t11980\t11981\t11982\t11983\t11984\t11985\t11986\t11987\t11988\t11989\t11990\t11991\t11992\t11993\t11994\t11995\t11996\t11997\t11998\t11999\t12000\t12001\t12002\t12003\t12004\t12005\t12006\t12007\t12008\t12009\t12011\t12012\t12013\t12014\t12015\t12016\t12017\t12018\t12019\t12020\t12021\t12022\t12023\t12024\t12025\t12026\t12027\t12028\t12029\t12030\t12031\t12032\t12033\t12034\t12035\t12036\t12037\t12038\t12039\t12040\t12041\t12042\t12043\t12044\t12045\t12046\t12047\t12048\t12049\t12050\t12051\t12052\t12053\t12054\t12055\t12056\t12057\t12058\t12059\t12060\t12061\t12062\t12063\t12064\t12065\t12066\t12067\t12068\t12069\t12070\t12071\t12072\t12073\t12074\t12075\t12076\t12077\t12078\t12079\t12080\t12081\t12082\t12083\t12084\t12085\t12086\t12087\t12088\t12089\t12090\t12091\t12092\t12093\t12094\t12095\t12096\t12097\t12098\t12099\t12100\t12101\t12102\t12103\t12104\t12105\t12106\t12107\t12108\t12109\t12110\t12111\t12112\t12113\t12114\t12115\t12116\t12117\t12118\t12119\t12120\t12121\t12122\t12123\t12124\t12125\t12126\t12127\t12128\t12129\t12130\t12131\t12132\t12133\t12134\t12135\t12136\t12137\t12138\t12139\t12140\t12141\t12142\t12144\t12145\t12146\t12147\t12148\t12149\t12150\t12151\t12152\t12153\t12154\t12155\t12156\t12157\t12158\t12159\t12160\t12161\t12162\t12163\t12164\t12165\t12166\t12167\t12168\t12169\t12170\t12171\t12172\t12173\t12174\t12175\t12176\t12177\t12178\t12179\t12181\t12182\t12183\t12185\t12186\t12187\t12188\t12189\t12190\t12191\t12192\t12193\t12194\t12195\t12196\t12197\t12198\t12199\t12200\t12201\t12202\t12203\t12204\t12205\t12206\t12207\t12208\t12209\t12210\t12212\t12213\t12214\t12215\t12216\t12217\t12218\t12219\t12220\t12221\t12222\t12223\t12224\t12225\t12226\t12227\t12228\t12229\t12230\t12231\t12232\t12233\t12234\t12235\t12236\t12237\t12238\t12239\t12240\t12241\t12242\t12243\t12244\t12245\t12246\t12247\t12248\t12249\t12250\t12251\t12252\t12253\t12254\t12255\t12256\t12257\t12258\t12259\t12260\t12261\t12262\t12263\t12264\t12265\t12266\t12267\t12268\t12269\t12270\t12271\t12272\t12273\t12274\t12275\t12276\t12277\t12278\t12279\t12280\t12281\t12283\t12284\t12285\t12286\t12287\t12288\t12289\t12290\t12291\t12292\t12293\t12294\t12295\t12296\t12297\t12298\t12299\t12300\t12301\t12302\t12303\t12304\t12305\t12306\t12307\t12308\t12309\t12310\t12311\t12312\t12313\t12314\t12315\t12316\t12317\t12318\t12319\t12320\t12321\t12322\t12323\t12324\t12325\t12326\t12327\t12328\t12329\t12330\t12331\t12332\t12333\t12334\t12335\t12336\t12337\t12338\t12339\t12340\t12341\t12342\t12343\t12344\t12345\t12346\t12347\t12348\t12349\t12350\t12351\t12352\t12353\t12354\t12355\t12356\t12357\t12358\t12359\t12360\t12361\t12362\t12363\t12364\t12365\t12367\t12368\t12369\t12370\t12371\t12372\t12373\t12374\t12375\t12376\t12377\t12378\t12380\t12381\t12382\t12383\t12384\t12385\t12386\t12387\t12388\t12389\t12390\t12391\t12392\t12393\t12394\t12395\t12396\t12397\t12398\t12399\t12400\t12401\t12403\t12404\t12405\t12406\t12407\t12408\t12409\t12410\t12411\t12412\t12413\t12414\t12415\t12416\t12418\t12419\t12420\t12421\t12422\t12423\t12424\t12425\t12426\t12427\t12428\t12429\t12430\t12431\t12432\t12433\t12434\t12435\t12436\t12437\t12438\t12439\t12440\t12441\t12442\t12443\t12444\t12445\t12446\t12447\t12448\t12449\t12450\t12451\t12452\t12453\t12454\t12455\t12456\t12457\t12458\t12459\t12460\t12461\t12463\t12464\t12465\t12466\t12467\t12468\t12469\t12470\t12471\t12472\t12473\t12475\t12476\t12477\t12478\t12479\t12480\t12481\t12482\t12483\t12484\t12485\t12486\t12487\t12488\t12489\t12490\t12491\t12492\t12493\t12494\t12495\t12496\t12497\t12498\t12499\t12500\t12501\t12502\t12503\t12504\t12505\t12506\t12507\t12508\t12509\t12510\t12511\t12512\t12513\t12514\t12515\t12516\t12517\t12518\t12519\t12520\t12521\t12522\t12523\t12524\t12525\t12526\t12527\t12528\t12529\t12530\t12531\t12532\t12533\t12534\t12535\t12536\t12537\t12538\t12539\t12540\t12541\t12542\t12543\t12544\t12545\t12546\t12547\t12548\t12549\t12550\t12551\t12552\t12555\t12556\t12557\t12558\t12559\t12560\t12561\t12562\t12563\t12564\t12565\t12566\t12567\t12568\t12569\t12570\t12571\t12572\t12573\t12574\t12575\t12576\t12577\t12578\t12579\t12580\t12581\t12582\t12583\t12584\t12585\t12586\t12587\t12588\t12589\t12590\t12591\t12592\t12594\t12595\t12596\t12597\t12598\t12599\t12600\t12601\t12602\t12603\t12604\t12605\t12606\t12607\t12608\t12609\t12610\t12611\t12612\t12613\t12614\t12615\t12616\t12617\t12618\t12619\t12620\t12621\t12622\t12623\t12625\t12626\t12627\t12629\t12630\t12631\t12632\t12633\t12634\t12635\t12636\t12637\t12638\t12640\t12641\t12642\t12643\t12644\t12645\t12646\t12647\t12648\t12649\t12650\t12651\t12653\t12654\t12655\t12656\t12657\t12658\t12659\t12660\t12661\t12662\t12663\t12664\t12665\t12666\t12667\t12668\t12669\t12670\t12671\t12672\t12673\t12674\t12675\t12676\t12677\t12678\t12679\t12680\t12681\t12682\t12683\t12684\t12685\t12686\t12687\t12688\t12689\t12690\t12691\t12692\t12693\t12694\t12695\t12696\t12697\t12698\t12699\t12700\t12701\t12702\t12703\t12704\t12705\t12706\t12707\t12708\t12709\t12710\t12711\t12712\t12713\t12714\t12715\t12716\t12717\t12718\t12719\t12720\t12721\t12722\t12723\t12724\t12725\t12726\t12727\t12728\t12729\t12730\t12731\t12732\t12733\t12734\t12735\t12736\t12737\t12738\t12739\t12740\t12741\t12742\t12743\t12745\t12746\t12747\t12748\t12749\t12750\t12751\t12752\t12753\t12754\t12755\t12756\t12757\t12758\t12759\t12760\t12761\t12762\t12763\t12764\t12765\t12766\t12767\t12768\t12769\t12770\t12771\t12772\t12773\t12774\t12775\t12776\t12777\t12778\t12779\t12780\t12781\t12782\t12783\t12784\t12785\t12786\t12787\t12788\t12789\t12790\t12791\t12792\t12793\t12794\t12795\t12796\t12797\t12798\t12799\t12800\t12801\t12802\t12803\t12804\t12805\t12806\t12807\t12808\t12809\t12810\t12811\t12812\t12813\t12814\t12815\t12816\t12817\t12818\t12819\t12820\t12821\t12822\t12823\t12824\t12825\t12826\t12827\t12828\t12829\t12830\t12831\t12832\t12833\t12834\t12835\t12836\t12837\t12838\t12839\t12840\t12841\t12842\t12843\t12844\t12845\t12846\t12847\t12848\t12849\t12850\t12851\t12852\t12853\t12854\t12855\t12856\t12857\t12858\t12859\t12860\t12861\t12862\t12863\t12864\t12865\t12866\t12867\t12868\t12869\t12870\t12871\t12872\t12873\t12874\t12875\t12876\t12877\t12878\t12879\t12880\t12881\t12882\t12883\t12884\t12885\t12886\t12887\t12888\t12889\t12890\t12891\t12892\t12893\t12894\t12895\t12896\t12897\t12898\t12899\t12900\t12901\t12902\t12903\t12904\t12905\t12906\t12907\t12908\t12909\t12910\t12911\t12912\t12913\t12914\t12916\t12917\t12918\t12919\t12920\t12921\t12922\t12923\t12924\t12925\t12926\t12927\t12928\t12929\t12930\t12931\t12932\t12933\t12934\t12935\t12936\t12937\t12938\t12939\t12941\t12942\t12943\t12944\t12945\t12946\t12947\t12948\t12949\t12950\t12951\t12952\t12953\t12954\t12955\t12956\t12957\t12958\t12959\t12960\t12961\t12962\t12963\t12964\t12965\t12966\t12967\t12968\t12969\t12970\t12971\t12972\t12973\t12974\t12975\t12977\t12978\t12979\t12980\t12981\t12982\t12983\t12984\t12985\t12986\t12987\t12988\t12989\t12990\t12991\t12992\t12993\t12994\t12995\t12996\t12997\t12998\t12999\t13000\t13001\t13002\t13003\t13004\t13005\t13006\t13007\t13008\t13009\t13010\t13011\t13012\t13013\t13014\t13015\t13016\t13017\t13019\t13020\t13021\t13022\t13023\t13024\t13025\t13026\t13027\t13028\t13029\t13030\t13031\t13032\t13033\t13034\t13035\t13036\t13037\t13038\t13039\t13040\t13041\t13043\t13044\t13045\t13046\t13047\t13048\t13050\t13051\t13052\t13053\t13054\t13055\t13056\t13057\t13058\t13059\t13060\t13061\t13062\t13063\t13064\t13065\t13066\t13067\t13068\t13069\t13070\t13071\t13072\t13073\t13074\t13075\t13076\t13077\t13078\t13079\t13080\t13081\t13082\t13083\t13084\t13085\t13086\t13087\t13088\t13089\t13090\t13091\t13092\t13093\t13094\t13095\t13096\t13097\t13098\t13099\t13100\t13101\t13102\t13103\t13104\t13105\t13106\t13107\t13108\t13109\t13110\t13111\t13112\t13113\t13115\t13116\t13117\t13118\t13119\t13120\t13121\t13122\t13123\t13124\t13125\t13126\t13127\t13128\t13129\t13130\t13131\t13132\t13133\t13134\t13135\t13136\t13137\t13138\t13139\t13140\t13141\t13142\t13143\t13144\t13145\t13146\t13147\t13148\t13149\t13150\t13151\t13152\t13153\t13154\t13155\t13157\t13158\t13159\t13160\t13161\t13162\t13163\t13164\t13165\t13166\t13167\t13168\t13169\t13170\t13171\t13172\t13173\t13174\t13176\t13177\t13178\t13179\t13180\t13181\t13182\t13183\t13184\t13185\t13186\t13187\t13188\t13189\t13190\t13191\t13193\t13194\t13195\t13196\t13197\t13198\t13199\t13200\t13201\t13202\t13203\t13204\t13205\t13206\t13207\t13208\t13209\t13210\t13211\t13212\t13213\t13214\t13215\t13216\t13217\t13218\t13219\t13220\t13221\t13222\t13223\t13224\t13225\t13226\t13227\t13228\t13229\t13230\t13231\t13232\t13233\t13234\t13235\t13236\t13237\t13238\t13239\t13240\t13241\t13242\t13243\t13244\t13245\t13246\t13247\t13248\t13249\t13250\t13251\t13252\t13253\t13254\t13255\t13256\t13257\t13258\t13259\t13261\t13262\t13263\t13264\t13265\t13266\t13267\t13268\t13269\t13270\t13271\t13272\t13273\t13274\t13275\t13276\t13277\t13278\t13279\t13280\t13281\t13282\t13283\t13284\t13285\t13286\t13287\t13288\t13289\t13290\t13291\t13292\t13293\t13294\t13295\t13296\t13297\t13298\t13299\t13300\t13301\t13303\t13304\t13305\t13306\t13307\t13308\t13309\t13310\t13311\t13312\t13313\t13314\t13315\t13316\t13317\t13318\t13319\t13320\t13321\t13322\t13323\t13324\t13326\t13327\t13328\t13329\t13330\t13331\t13332\t13333\t13334\t13335\t13336\t13337\t13338\t13339\t13340\t13341\t13342\t13344\t13345\t13346\t13347\t13348\t13349\t13350\t13351\t13352\t13353\t13354\t13355\t13356\t13357\t13358\t13359\t13360\t13361\t13362\t13363\t13364\t13365\t13366\t13367\t13368\t13369\t13370\t13371\t13372\t13373\t13374\t13375\t13376\t13377\t13378\t13379\t13380\t13381\t13382\t13383\t13384\t13385\t13386\t13387\t13388\t13389\t13390\t13391\t13392\t13393\t13394\t13395\t13396\t13397\t13398\t13399\t13400\t13401\t13402\t13403\t13404\t13405\t13406\t13407\t13408\t13409\t13410\t13411\t13412\t13413\t13414\t13415\t13416\t13417\t13418\t13419\t13420\t13421\t13422\t13423\t13424\t13425\t13426\t13427\t13428\t13429\t13430\t13431\t13432\t13433\t13434\t13435\t13436\t13437\t13438\t13439\t13440\t13441\t13442\t13443\t13444\t13445\t13446\t13447\t13448\t13449\t13450\t13451\t13452\t13453\t13454\t13456\t13457\t13458\t13459\t13460\t13461\t13462\t13463\t13464\t13465\t13466\t13467\t13468\t13469\t13470\t13471\t13472\t13473\t13474\t13475\t13476\t13477\t13478\t13479\t13480\t13481\t13482\t13483\t13484\t13485\t13486\t13487\t13488\t13489\t13490\t13491\t13492\t13493\t13494\t13495\t13496\t13497\t13498\t13499\t13500\t13501\t13502\t13503\t13504\t13505\t13506\t13507\t13508\t13509\t13510\t13511\t13512\t13513\t13514\t13516\t13517\t13518\t13519\t13520\t13521\t13522\t13523\t13524\t13526\t13527\t13528\t13529\t13530\t13531\t13532\t13533\t13534\t13535\t13536\t13537\t13538\t13539\t13540\t13541\t13543\t13544\t13545\t13546\t13547\t13548\t13549\t13550\t13551\t13552\t13553\t13554\t13555\t13556\t13557\t13558\t13559\t13560\t13561\t13562\t13563\t13564\t13565\t13566\t13567\t13568\t13569\t13570\t13573\t13574\t13575\t13576\t13577\t13578\t13579\t13580\t13581\t13582\t13583\t13584\t13585\t13586\t13587\t13588\t13589\t13590\t13591\t13592\t13593\t13594\t13595\t13596\t13597\t13598\t13599\t13600\t13601\t13602\t13603\t13604\t13605\t13606\t13607\t13608\t13609\t13610\t13611\t13612\t13613\t13614\t13615\t13616\t13617\t13618\t13619\t13620\t13621\t13622\t13623\t13624\t13625\t13626\t13627\t13628\t13629\t13630\t13631\t13633\t13634\t13635\t13636\t13637\t13638\t13639\t13640\t13641\t13642\t13643\t13644\t13645\t13646\t13647\t13648\t13649\t13650\t13651\t13652\t13653\t13654\t13655\t13656\t13657\t13658\t13659\t13660\t13661\t13662\t13663\t13664\t13665\t13666\t13667\t13668\t13669\t13670\t13671\t13672\t13673\t13674\t13675\t13676\t13677\t13678\t13679\t13680\t13681\t13682\t13683\t13684\t13685\t13686\t13687\t13688\t13689\t13690\t13691\t13692\t13693\t13694\t13695\t13696\t13697\t13698\t13699\t13700\t13701\t13702\t13703\t13704\t13705\t13706\t13707\t13708\t13709\t13710\t13711\t13712\t13713\t13714\t13715\t13716\t13717\t13718\t13719\t13720\t13721\t13722\t13723\t13724\t13725\t13726\t13727\t13728\t13730\t13732\t13733\t13734\t13735\t13736\t13737\t13738\t13739\t13740\t13741\t13742\t13743\t13744\t13745\t13746\t13747\t13748\t13749\t13750\t13751\t13752\t13753\t13754\t13755\t13756\t13757\t13758\t13759\t13760\t13761\t13762\t13763\t13764\t13765\t13766\t13767\t13768\t13769\t13770\t13771\t13772\t13773\t13774\t13775\t13776\t13777\t13778\t13779\t13780\t13781\t13782\t13783\t13784\t13785\t13786\t13787\t13788\t13789\t13790\t13792\t13793\t13794\t13795\t13796\t13797\t13798\t13799\t13800\t13802\t13803\t13804\t13805\t13806\t13807\t13808\t13809\t13810\t13811\t13812\t13813\t13814\t13815\t13816\t13817\t13818\t13819\t13820\t13821\t13822\t13823\t13824\t13825\t13826\t13827\t13828\t13829\t13830\t13831\t13832\t13833\t13834\t13835\t13836\t13837\t13838\t13839\t13840\t13841\t13842\t13843\t13844\t13845\t13846\t13847\t13848\t13849\t13850\t13851\t13852\t13853\t13854\t13855\t13856\t13857\t13858\t13859\t13860\t13862\t13863\t13864\t13865\t13866\t13867\t13868\t13869\t13870\t13871\t13872\t13873\t13874\t13875\t13876\t13877\t13878\t13879\t13880\t13882\t13883\t13884\t13885\t13886\t13887\t13888\t13889\t13890\t13891\t13892\t13893\t13894\t13895\t13896\t13897\t13898\t13899\t13900\t13901\t13902\t13903\t13904\t13905\t13906\t13907\t13908\t13909\t13910\t13911\t13912\t13913\t13915\t13916\t13917\t13918\t13919\t13920\t13921\t13922\t13923\t13924\t13925\t13926\t13928\t13929\t13930\t13931\t13932\t13933\t13934\t13935\t13936\t13937\t13938\t13939\t13940\t13941\t13942\t13943\t13944\t13945\t13946\t13947\t13948\t13949\t13950\t13951\t13952\t13953\t13954\t13955\t13956\t13957\t13958\t13959\t13960\t13961\t13962\t13963\t13964\t13965\t13966\t13967\t13968\t13969\t13970\t13971\t13972\t13973\t13974\t13975\t13976\t13977\t13978\t13979\t13980\t13981\t13982\t13983\t13984\t13985\t13986\t13987\t13988\t13989\t13990\t13991\t13992\t13993\t13994\t13995\t13996\t13997\t13998\t13999\t14000\t14001\t14002\t14003\t14004\t14005\t14006\t14007\t14008\t14009\t14010\t14011\t14012\t14013\t14014\t14016\t14017\t14018\t14019\t14020\t14021\t14022\t14023\t14024\t14025\t14026\t14027\t14028\t14029\t14031\t14032\t14033\t14034\t14035\t14036\t14037\t14038\t14039\t14040\t14041\t14042\t14043\t14044\t14045\t14046\t14047\t14048\t14049\t14050\t14051\t14052\t14053\t14054\t14055\t14056\t14057\t14058\t14059\t14060\t14061\t14062\t14063\t14064\t14065\t14066\t14067\t14068\t14069\t14070\t14071\t14072\t14073\t14074\t14076\t14077\t14078\t14079\t14080\t14081\t14082\t14083\t14084\t14085\t14086\t14087\t14088\t14089\t14090\t14091\t14092\t14093\t14094\t14095\t14096\t14097\t14098\t14099\t14100\t14101\t14102\t14103\t14104\t14105\t14106\t14107\t14108\t14109\t14111\t14112\t14113\t14114\t14115\t14116\t14117\t14118\t14119\t14120\t14121\t14122\t14123\t14124\t14125\t14126\t14127\t14128\t14129\t14130\t14131\t14132\t14133\t14134\t14135\t14136\t14137\t14138\t14139\t14140\t14141\t14142\t14143\t14144\t14145\t14146\t14148\t14149\t14150\t14151\t14152\t14153\t14154\t14155\t14156\t14157\t14158\t14159\t14160\t14161\t14162\t14163\t14164\t14165\t14166\t14167\t14168\t14169\t14170\t14171\t14172\t14173\t14174\t14175\t14176\t14177\t14178\t14179\t14180\t14181\t14182\t14183\t14184\t14185\t14186\t14187\t14188\t14189\t14190\t14191\t14192\t14193\t14194\t14195\t14196\t14198\t14199\t14200\t14201\t14202\t14203\t14204\t14205\t14206\t14207\t14208\t14209\t14210\t14211\t14212\t14213\t14214\t14215\t14216\t14217\t14218\t14219\t14220\t14221\t14222\t14224\t14226\t14227\t14228\t14229\t14230\t14231\t14232\t14233\t14234\t14235\t14236\t14237\t14238\t14239\t14240\t14241\t14242\t14243\t14244\t14245\t14246\t14247\t14248\t14249\t14250\t14251\t14252\t14253\t14254\t14255\t14256\t14257\t14258\t14259\t14260\t14261\t14262\t14263\t14264\t14265\t14266\t14267\t14268\t14269\t14270\t14271\t14272\t14273\t14274\t14275\t14276\t14277\t14278\t14279\t14280\t14281\t14282\t14283\t14285\t14286\t14287\t14288\t14289\t14290\t14291\t14293\t14294\t14295\t14296\t14297\t14298\t14299\t14300\t14301\t14302\t14303\t14304\t14305\t14306\t14307\t14308\t14309\t14310\t14311\t14312\t14313\t14314\t14315\t14316\t14317\t14318\t14319\t14320\t14321\t14322\t14323\t14324\t14325\t14326\t14327\t14328\t14329\t14330\t14331\t14332\t14333\t14334\t14335\t14336\t14337\t14338\t14339\t14340\t14341\t14342\t14343\t14344\t14345\t14347\t14348\t14349\t14351\t14352\t14353\t14354\t14355\t14357\t14358\t14359\t14360\t14361\t14362\t14363\t14364\t14365\t14366\t14367\t14368\t14369\t14370\t14371\t14372\t14373\t14374\t14375\t14376\t14377\t14378\t14379\t14380\t14381\t14382\t14383\t14384\t14385\t14386\t14387\t14388\t14389\t14390\t14391\t14392\t14393\t14394\t14395\t14396\t14397\t14398\t14399\t14400\t14401\t14402\t14403\t14404\t14405\t14406\t14407\t14408\t14409\t14410\t14411\t14412\t14413\t14414\t14415\t14416\t14417\t14418\t14419\t14420\t14421\t14422\t14423\t14425\t14426\t14427\t14428\t14429\t14430\t14431\t14432\t14433\t14434\t14435\t14436\t14437\t14438\t14439\t14440\t14441\t14442\t14443\t14444\t14445\t14446\t14447\t14448\t14449\t14450\t14451\t14452\t14453\t14454\t14455\t14456\t14457\t14458\t14459\t14460\t14461\t14462\t14463\t14464\t14465\t14466\t14467\t14468\t14469\t14470\t14471\t14472\t14473\t14474\t14475\t14476\t14477\t14478\t14479\t14480\t14481\t14482\t14483\t14484\t14485\t14486\t14487\t14488\t14489\t14490\t14491\t14492\t14493\t14494\t14495\t14496\t14497\t14498\t14499\t14500\t14501\t14502\t14503\t14504\t14505\t14506\t14507\t14508\t14509\t14510\t14511\t14512\t14513\t14514\t14515\t14516\t14517\t14518\t14519\t14520\t14521\t14522\t14524\t14525\t14526\t14528\t14529\t14530\t14531\t14532\t14533\t14534\t14535\t14536\t14537\t14538\t14539\t14540\t14541\t14542\t14543\t14544\t14546\t14547\t14548\t14550\t14551\t14552\t14553\t14554\t14555\t14556\t14557\t14558\t14559\t14560\t14561\t14562\t14563\t14564\t14565\t14566\t14567\t14569\t14570\t14571\t14572\t14573\t14574\t14575\t14576\t14577\t14578\t14579\t14580\t14581\t14582\t14583\t14584\t14585\t14586\t14587\t14588\t14589\t14590\t14591\t14592\t14593\t14594\t14595\t14596\t14597\t14598\t14599\t14600\t14601\t14602\t14603\t14604\t14605\t14606\t14607\t14608\t14610\t14611\t14612\t14613\t14614\t14615\t14616\t14617\t14618\t14619\t14620\t14621\t14622\t14623\t14624\t14625\t14626\t14627\t14628\t14629\t14630\t14631\t14632\t14633\t14634\t14635\t14636\t14637\t14638\t14639\t14640\t14641\t14642\t14643\t14644\t14645\t14646\t14647\t14648\t14649\t14650\t14651\t14652\t14653\t14654\t14655\t14656\t14657\t14658\t14659\t14660\t14661\t14662\t14663\t14664\t14665\t14666\t14667\t14668\t14669\t14670\t14671\t14672\t14673\t14674\t14675\t14676\t14677\t14678\t14679\t14680\t14681\t14682\t14683\t14684\t14685\t14686\t14687\t14688\t14689\t14690\t14691\t14692\t14693\t14694\t14695\t14696\t14697\t14698\t14699\t14700\t14701\t14702\t14703\t14704\t14705\t14706\t14707\t14708\t14709\t14710\t14711\t14712\t14713\t14714\t14715\t14716\t14717\t14718\t14719\t14720\t14721\t14723\t14724\t14725\t14726\t14727\t14728\t14729\t14730\t14731\t14732\t14733\t14734\t14735\t14736\t14737\t14738\t14740\t14742\t14743\t14744\t14745\t14746\t14747\t14748\t14749\t14750\t14751\t14752\t14753\t14754\t14756\t14757\t14758\t14759\t14760\t14761\t14762\t14764\t14765\t14766\t14767\t14768\t14769\t14770\t14771\t14772\t14773\t14774\t14775\t14776\t14777\t14778\t14779\t14780\t14781\t14782\t14783\t14784\t14785\t14787\t14788\t14789\t14790\t14791\t14792\t14793\t14794\t14795\t14796\t14797\t14799\t14800\t14801\t14802\t14803\t14804\t14805\t14806\t14807\t14808\t14809\t14810\t14811\t14812\t14813\t14814\t14815\t14816\t14817\t14818\t14819\t14820\t14821\t14822\t14823\t14824\t14825\t14826\t14827\t14828\t14829\t14830\t14831\t14832\t14833\t14834\t14835\t14836\t14837\t14838\t14839\t14840\t14841\t14842\t14843\t14844\t14845\t14846\t14847\t14848\t14849\t14850\t14851\t14852\t14853\t14854\t14855\t14856\t14857\t14858\t14859\t14860\t14861\t14862\t14863\t14864\t14865\t14866\t14868\t14869\t14870\t14871\t14872\t14873\t14874\t14875\t14876\t14877\t14878\t14879\t14880\t14881\t14882\t14883\t14884\t14885\t14886\t14887\t14888\t14889\t14890\t14891\t14892\t14893\t14894\t14895\t14896\t14897\t14898\t14899\t14900\t14901\t14902\t14903\t14904\t14905\t14906\t14907\t14908\t14909\t14910\t14911\t14912\t14913\t14914\t14915\t14916\t14917\t14918\t14919\t14920\t14921\t14922\t14923\t14924\t14925\t14926\t14927\t14928\t14929\t14930\t14931\t14932\t14933\t14934\t14935\t14936\t14937\t14938\t14939\t14940\t14941\t14942\t14943\t14944\t14945\t14946\t14947\t14948\t14949\t14950\t14951\t14952\t14953\t14954\t14955\t14956\t14957\t14958\t14959\t14960\t14961\t14962\t14963\t14964\t14965\t14966\t14967\t14968\t14969\t14970\t14971\t14972\t14973\t14974\t14975\t14976\t14977\t14978\t14979\t14980\t14981\t14982\t14983\t14984\t14985\t14986\t14987\t14988\t14989\t14990\t14991\t14992\t14993\t14994\t14995\t14996\t14997\t14998\t14999\t15000\t15001\t15002\t15003\t15004\t15005\t15006\t15007\t15008\t15009\t15010\t15011\t15012\t15013\t15014\t15015\t15016\t15017\t15018\t15019\t15020\t15021\t15022\t15023\t15024\t15025\t15026\t15027\t15028\t15029\t15030\t15031\t15032\t15033\t15034\t15035\t15036\t15037\t15038\t15040\t15041\t15042\t15043\t15044\t15045\t15046\t15047\t15048\t15049\t15050\t15051\t15052\t15053\t15054\t15055\t15056\t15057\t15058\t15059\t15060\t15061\t15062\t15063\t15064\t15065\t15066\t15067\t15068\t15069\t15070\t15071\t15072\t15073\t15074\t15075\t15076\t15077\t15078\t15079\t15080\t15081\t15082\t15083\t15084\t15085\t15086\t15087\t15088\t15089\t15090\t15091\t15092\t15093\t15094\t15095\t15096\t15097\t15098\t15099\t15100\t15101\t15102\t15103\t15104\t15105\t15106\t15107\t15108\t15109\t15110\t15111\t15112\t15113\t15114\t15115\t15116\t15117\t15118\t15119\t15120\t15121\t15123\t15124\t15126\t15127\t15128\t15129\t15130\t15131\t15132\t15133\t15134\t15135\t15136\t15137\t15138\t15140\t15141\t15142\t15143\t15144\t15145\t15146\t15147\t15148\t15149\t15150\t15151\t15152\t15153\t15154\t15155\t15156\t15157\t15158\t15159\t15160\t15161\t15162\t15163\t15164\t15165\t15166\t15167\t15168\t15169\t15170\t15171\t15172\t15173\t15174\t15175\t15176\t15177\t15178\t15179\t15180\t15181\t15182\t15183\t15184\t15186\t15187\t15188\t15190\t15191\t15192\t15193\t15194\t15195\t15196\t15197\t15198\t15199\t15200\t15201\t15202\t15203\t15204\t15205\t15206\t15207\t15208\t15209\t15210\t15211\t15212\t15213\t15214\t15215\t15216\t15217\t15219\t15220\t15221\t15222\t15223\t15224\t15225\t15226\t15227\t15228\t15229\t15230\t15231\t15232\t15233\t15235\t15236\t15237\t15238\t15239\t15240\t15241\t15242\t15243\t15244\t15245\t15246\t15247\t15249\t15250\t15251\t15252\t15253\t15254\t15255\t15256\t15257\t15258\t15259\t15260\t15261\t15262\t15263\t15264\t15265\t15266\t15267\t15268\t15269\t15270\t15271\t15272\t15273\t15274\t15275\t15276\t15277\t15278\t15279\t15280\t15281\t15282\t15283\t15284\t15285\t15286\t15287\t15288\t15289\t15290\t15291\t15292\t15293\t15295\t15296\t15297\t15298\t15299\t15300\t15301\t15302\t15303\t15304\t15305\t15306\t15307\t15308\t15309\t15310\t15311\t15312\t15313\t15314\t15315\t15316\t15317\t15318\t15319\t15320\t15321\t15322\t15323\t15324\t15325\t15326\t15327\t15328\t15329\t15330\t15331\t15332\t15333\t15334\t15335\t15336\t15337\t15338\t15339\t15340\t15341\t15342\t15343\t15344\t15345\t15346\t15347\t15348\t15349\t15350\t15351\t15352\t15353\t15354\t15355\t15356\t15357\t15358\t15359\t15360\t15361\t15362\t15363\t15364\t15365\t15366\t15367\t15368\t15369\t15370\t15371\t15372\t15373\t15374\t15375\t15376\t15377\t15378\t15379\t15380\t15381\t15382\t15383\t15384\t15385\t15386\t15387\t15388\t15389\t15390\t15391\t15392\t15393\t15394\t15395\t15396\t15397\t15398\t15399\t15400\t15401\t15402\t15403\t15404\t15405\t15406\t15407\t15408\t15409\t15410\t15411\t15412\t15413\t15414\t15415\t15416\t15417\t15418\t15419\t15421\t15422\t15423\t15424\t15425\t15426\t15427\t15428\t15429\t15430\t15431\t15432\t15433\t15434\t15436\t15437\t15438\t15439\t15440\t15441\t15442\t15443\t15444\t15445\t15446\t15448\t15449\t15450\t15451\t15452\t15453\t15454\t15455\t15456\t15457\t15458\t15459\t15460\t15461\t15462\t15463\t15464\t15465\t15466\t15468\t15469\t15470\t15471\t15472\t15473\t15474\t15475\t15476\t15477\t15478\t15479\t15480\t15481\t15482\t15483\t15484\t15485\t15486\t15487\t15488\t15489\t15490\t15491\t15492\t15493\t15494\t15495\t15496\t15497\t15498\t15499\t15500\t15501\t15502\t15503\t15504\t15505\t15506\t15507\t15508\t15509\t15510\t15511\t15512\t15513\t15514\t15515\t15516\t15517\t15518\t15519\t15520\t15521\t15522\t15523\t15524\t15525\t15526\t15527\t15528\t15529\t15530\t15532\t15533\t15534\t15535\t15536\t15537\t15538\t15539\t15540\t15541\t15542\t15543\t15544\t15545\t15546\t15547\t15548\t15549\t15550\t15551\t15552\t15553\t15554\t15555\t15556\t15557\t15558\t15559\t15560\t15561\t15562\t15563\t15564\t15565\t15566\t15567\t15568\t15569\t15570\t15571\t15572\t15573\t15574\t15575\t15576\t15577\t15579\t15580\t15581\t15582\t15583\t15585\t15586\t15587\t15588\t15589\t15590\t15591\t15592\t15593\t15594\t15595\t15596\t15597\t15598\t15599\t15600\t15601\t15602\t15603\t15604\t15605\t15606\t15607\t15608\t15609\t15610\t15611\t15612\t15613\t15614\t15616\t15617\t15618\t15619\t15620\t15621\t15622\t15623\t15624\t15625\t15626\t15627\t15628\t15629\t15630\t15631\t15632\t15633\t15634\t15635\t15636\t15637\t15638\t15639\t15640\t15641\t15642\t15643\t15644\t15645\t15646\t15647\t15648\t15649\t15650\t15651\t15652\t15653\t15654\t15655\t15656\t15657\t15658\t15659\t15660\t15661\t15662\t15663\t15664\t15665\t15666\t15667\t15668\t15669\t15670\t15672\t15673\t15674\t15675\t15676\t15677\t15678\t15679\t15680\t15681\t15682\t15683\t15684\t15685\t15686\t15687\t15688\t15689\t15690\t15691\t15692\t15693\t15694\t15695\t15696\t15697\t15698\t15699\t15700\t15701\t15702\t15703\t15704\t15705\t15706\t15707\t15708\t15709\t15710\t15711\t15713\t15714\t15715\t15716\t15718\t15719\t15720\t15721\t15722\t15723\t15724\t15725\t15726\t15727\t15728\t15729\t15730\t15731\t15732\t15733\t15734\t15735\t15736\t15737\t15738\t15739\t15740\t15741\t15742\t15743\t15744\t15745\t15746\t15747\t15748\t15749\t15750\t15751\t15752\t15753\t15754\t15755\t15756\t15757\t15758\t15759\t15760\t15762\t15763\t15764\t15765\t15766\t15767\t15768\t15769\t15770\t15771\t15772\t15773\t15774\t15775\t15776\t15777\t15778\t15779\t15780\t15781\t15782\t15783\t15784\t15785\t15786\t15787\t15788\t15789\t15790\t15791\t15792\t15793\t15794\t15795\t15796\t15797\t15798\t15799\t15800\t15801\t15802\t15803\t15804\t15805\t15806\t15807\t15808\t15809\t15810\t15811\t15812\t15813\t15814\t15815\t15816\t15817\t15818\t15819\t15820\t15821\t15822\t15823\t15824\t15825\t15826\t15827\t15828\t15829\t15830\t15831\t15832\t15833\t15834\t15835\t15836\t15837\t15838\t15839\t15840\t15841\t15842\t15843\t15844\t15845\t15846\t15847\t15848\t15849\t15850\t15851\t15853\t15854\t15855\t15856\t15857\t15858\t15859\t15860\t15861\t15862\t15863\t15864\t15865\t15866\t15867\t15868\t15869\t15870\t15871\t15872\t15873\t15874\t15875\t15876\t15877\t15878\t15879\t15880\t15881\t15882\t15883\t15884\t15885\t15886\t15887\t15888\t15889\t15890\t15891\t15892\t15893\t15894\t15895\t15896\t15897\t15898\t15899\t15900\t15901\t15902\t15903\t15904\t15905\t15906\t15907\t15908\t15909\t15910\t15911\t15912\t15913\t15914\t15915\t15916\t15917\t15918\t15919\t15920\t15921\t15922\t15923\t15924\t15925\t15926\t15927\t15928\t15929\t15930\t15931\t15932\t15933\t15934\t15935\t15936\t15937\t15938\t15939\t15940\t15941\t15942\t15943\t15944\t15945\t15946\t15947\t15948\t15949\t15950\t15951\t15952\t15953\t15954\t15955\t15956\t15957\t15958\t15959\t15960\t15961\t15962\t15963\t15964\t15965\t15966\t15967\t15968\t15969\t15970\t15971\t15972\t15973\t15974\t15975\t15976\t15977\t15978\t15979\t15980\t15981\t15982\t15983\t15984\t15985\t15986\t15987\t15988\t15989\t15990\t15991\t15992\t15993\t15994\t15995\t15996\t15997\t15998\t15999\t16000\t16001\t16002\t16003\t16004\t16005\t16006\t16007\t16008\t16009\t16010\t16011\t16012\t16013\t16014\t16015\t16016\t16017\t16018\t16019\t16020\t16021\t16022\t16023\t16024\t16025\t16026\t16027\t16029\t16030\t16031\t16032\t16033\t16034\t16036\t16037\t16038\t16039\t16040\t16041\t16042\t16043\t16044\t16045\t16046\t16047\t16048\t16049\t16050\t16051\t16052\t16053\t16054\t16055\t16056\t16057\t16058\t16059\t16060\t16061\t16062\t16063\t16064\t16065\t16066\t16067\t16068\t16069\t16070\t16071\t16072\t16073\t16074\t16075\t16076\t16077\t16078\t16079\t16080\t16081\t16082\t16083\t16084\t16085\t16086\t16087\t16088\t16089\t16090\t16091\t16092\t16093\t16094\t16095\t16096\t16097\t16098\t16099\t16100\t16101\t16102\t16103\t16104\t16105\t16106\t16107\t16108\t16109\t16110\t16111\t16112\t16113\t16114\t16115\t16116\t16117\t16118\t16119\t16120\t16121\t16122\t16123\t16124\t16125\t16126\t16127\t16128\t16129\t16130\t16132\t16133\t16134\t16135\t16136\t16137\t16138\t16139\t16140\t16141\t16142\t16143\t16144\t16145\t16146\t16147\t16148\t16149\t16150\t16151\t16152\t16153\t16154\t16155\t16156\t16157\t16158\t16159\t16160\t16161\t16162\t16163\t16164\t16165\t16166\t16167\t16168\t16169\t16170\t16171\t16172\t16173\t16174\t16175\t16176\t16177\t16179\t16180\t16181\t16182\t16183\t16184\t16185\t16186\t16187\t16188\t16189\t16190\t16191\t16192\t16193\t16194\t16195\t16196\t16197\t16198\t16199\t16200\t16201\t16202\t16203\t16204\t16205\t16206\t16207\t16208\t16209\t16210\t16211\t16212\t16213\t16214\t16215\t16216\t16217\t16218\t16219\t16220\t16221\t16222\t16223\t16224\t16225\t16226\t16227\t16228\t16229\t16230\t16231\t16232\t16233\t16234\t16235\t16236\t16237\t16238\t16239\t16240\t16241\t16242\t16243\t16244\t16245\t16246\t16247\t16248\t16249\t16250\t16251\t16252\t16254\t16255\t16256\t16257\t16258\t16259\t16260\t16261\t16262\t16263\t16264\t16265\t16266\t16267\t16268\t16269\t16270\t16271\t16272\t16274\t16275\t16276\t16277\t16278\t16279\t16280\t16281\t16282\t16283\t16284\t16285\t16286\t16287\t16288\t16289\t16290\t16291\t16292\t16293\t16294\t16295\t16296\t16297\t16298\t16299\t16300\t16301\t16302\t16303\t16304\t16305\t16306\t16307\t16308\t16309\t16310\t16311\t16312\t16313\t16314\t16315\t16316\t16317\t16318\t16319\t16320\t16321\t16322\t16323\t16325\t16326\t16327\t16328\t16329\t16330\t16331\t16332\t16333\t16334\t16335\t16336\t16337\t16338\t16339\t16340\t16341\t16342\t16343\t16344\t16345\t16346\t16347\t16348\t16349\t16351\t16352\t16353\t16354\t16355\t16356\t16357\t16358\t16359\t16360\t16361\t16362\t16363\t16365\t16366\t16367\t16368\t16369\t16370\t16371\t16372\t16373\t16374\t16375\t16376\t16377\t16378\t16379\t16380\t16381\t16383\t16384\t16386\t16387\t16388\t16389\t16390\t16391\t16392\t16393\t16394\t16395\t16396\t16397\t16398\t16399\t16400\t16401\t16402\t16403\t16404\t16405\t16406\t16407\t16408\t16409\t16410\t16411\t16412\t16413\t16414\t16415\t16416\t16417\t16418\t16419\t16420\t16421\t16422\t16423\t16424\t16425\t16426\t16427\t16428\t16429\t16430\t16431\t16432\t16433\t16434\t16435\t16436\t16437\t16438\t16439\t16440\t16442\t16443\t16444\t16445\t16446\t16447\t16448\t16449\t16450\t16451\t16452\t16453\t16454\t16455\t16456\t16457\t16458\t16459\t16460\t16461\t16462\t16463\t16464\t16465\t16466\t16467\t16468\t16469\t16470\t16471\t16472\t16473\t16474\t16475\t16476\t16477\t16478\t16479\t16480\t16481\t16482\t16483\t16484\t16485\t16486\t16487\t16488\t16489\t16490\t16491\t16492\t16493\t16494\t16495\t16496\t16497\t16498\t16499\t16500\t16501\t16502\t16503\t16504\t16505\t16506\t16507\t16508\t16509\t16510\t16511\t16512\t16513\t16514\t16515\t16516\t16517\t16518\t16519\t16520\t16521\t16522\t16523\t16524\t16525\t16526\t16527\t16528\t16529\t16530\t16531\t16532\t16533\t16534\t16535\t16536\t16537\t16539\t16540\t16541\t16542\t16543\t16544\t16545\t16546\t16547\t16548\t16549\t16550\t16551\t16552\t16553\t16554\t16555\t16556\t16557\t16558\t16559\t16560\t16561\t16562\t16563\t16564\t16565\t16566\t16567\t16568\t16569\t16570\t16571\t16572\t16573\t16574\t16575\t16576\t16577\t16578\t16579\t16580\t16581\t16582\t16583\t16584\t16585\t16586\t16587\t16588\t16589\t16590\t16591\t16592\t16593\t16594\t16595\t16596\t16597\t16598\t16599\t16600\t16601\t16602\t16603\t16604\t16605\t16606\t16607\t16609\t16610\t16611\t16612\t16613\t16614\t16615\t16616\t16617\t16618\t16619\t16620\t16621\t16622\t16623\t16624\t16625\t16626\t16627\t16628\t16629\t16630\t16631\t16632\t16633\t16634\t16635\t16636\t16637\t16638\t16639\t16640\t16641\t16642\t16643\t16644\t16645\t16646\t16647\t16648\t16649\t16650\t16651\t16652\t16653\t16654\t16655\t16656\t16657\t16658\t16659\t16660\t16661\t16662\t16664\t16665\t16666\t16667\t16668\t16669\t16670\t16671\t16672\t16673\t16674\t16675\t16676\t16677\t16678\t16679\t16680\t16681\t16682\t16683\t16684\t16685\t16686\t16687\t16688\t16689\t16690\t16691\t16692\t16693\t16694\t16695\t16696\t16697\t16698\t16699\t16700\t16701\t16702\t16703\t16704\t16705\t16706\t16707\t16708\t16709\t16710\t16711\t16712\t16713\t16714\t16715\t16716\t16717\t16718\t16719\t16720\t16721\t16722\t16723\t16724\t16725\t16726\t16727\t16728\t16729\t16730\t16731\t16732\t16733\t16734\t16735\t16736\t16737\t16738\t16739\t16740\t16741\t16742\t16743\t16744\t16745\t16746\t16747\t16748\t16749\t16750\t16751\t16752\t16753\t16754\t16755\t16756\t16757\t16759\t16760\t16761\t16762\t16763\t16764\t16765\t16766\t16767\t16768\t16769\t16770\t16771\t16772\t16773\t16774\t16775\t16776\t16777\t16778\t16779\t16780\t16781\t16782\t16783\t16784\t16785\t16786\t16787\t16788\t16789\t16790\t16791\t16792\t16793\t16794\t16795\t16796\t16797\t16798\t16799\t16800\t16801\t16802\t16804\t16805\t16806\t16807\t16808\t16809\t16810\t16811\t16812\t16815\t16816\t16817\t16818\t16819\t16821\t16822\t16823\t16824\t16825\t16826\t16827\t16828\t16829\t16830\t16831\t16832\t16833\t16834\t16835\t16836\t16837\t16838\t16839\t16840\t16841\t16842\t16843\t16844\t16845\t16846\t16847\t16848\t16849\t16850\t16851\t16852\t16853\t16854\t16855\t16856\t16857\t16858\t16859\t16860\t16861\t16862\t16863\t16864\t16865\t16866\t16867\t16868\t16869\t16870\t16871\t16872\t16873\t16874\t16875\t16876\t16877\t16878\t16879\t16880\t16881\t16882\t16883\t16884\t16885\t16886\t16887\t16888\t16889\t16890\t16892\t16893\t16894\t16895\t16896\t16897\t16898\t16899\t16900\t16901\t16902\t16903\t16904\t16905\t16906\t16907\t16908\t16909\t16910\t16911\t16912\t16913\t16914\t16915\t16916\t16917\t16918\t16919\t16920\t16921\t16922\t16923\t16924\t16926\t16927\t16928\t16929\t16930\t16931\t16932\t16933\t16934\t16935\t16936\t16937\t16938\t16939\t16940\t16941\t16942\t16943\t16944\t16945\t16946\t16947\t16948\t16949\t16950\t16951\t16952\t16953\t16954\t16955\t16956\t16957\t16958\t16959\t16960\t16961\t16962\t16963\t16965\t16966\t16967\t16968\t16969\t16970\t16971\t16972\t16973\t16974\t16975\t16976\t16977\t16978\t16979\t16980\t16981\t16982\t16983\t16984\t16986\t16987\t16988\t16989\t16990\t16992\t16993\t16994\t16995\t16996\t16997\t16998\t16999\t17000\t17001\t17002\t17003\t17004\t17005\t17006\t17007\t17008\t17009\t17010\t17011\t17012\t17013\t17014\t17015\t17016\t17017\t17018\t17019\t17020\t17021\t17022\t17023\t17024\t17025\t17026\t17027\t17028\t17029\t17030\t17031\t17032\t17033\t17034\t17035\t17036\t17037\t17038\t17039\t17040\t17041\t17042\t17043\t17044\t17045\t17046\t17047\t17048\t17049\t17050\t17051\t17052\t17053\t17054\t17055\t17057\t17058\t17059\t17060\t17061\t17062\t17063\t17064\t17065\t17066\t17067\t17068\t17069\t17070\t17071\t17072\t17073\t17074\t17075\t17076\t17077\t17078\t17080\t17081\t17082\t17083\t17084\t17085\t17086\t17087\t17088\t17089\t17090\t17091\t17092\t17093\t17094\t17095\t17097\t17098\t17099\t17100\t17101\t17102\t17104\t17105\t17106\t17108\t17109\t17110\t17111\t17112\t17113\t17114\t17115\t17116\t17117\t17118\t17119\t17120\t17121\t17122\t17123\t17124\t17125\t17126\t17127\t17128\t17129\t17130\t17131\t17132\t17133\t17134\t17135\t17136\t17137\t17138\t17139\t17140\t17141\t17142\t17143\t17144\t17145\t17146\t17147\t17148\t17149\t17150\t17151\t17152\t17153\t17154\t17155\t17156\t17157\t17158\t17159\t17160\t17161\t17162\t17163\t17164\t17166\t17167\t17169\t17170\t17171\t17172\t17173\t17174\t17175\t17176\t17177\t17178\t17179\t17181\t17182\t17183\t17184\t17186\t17187\t17188\t17189\t17190\t17191\t17192\t17193\t17194\t17195\t17196\t17197\t17198\t17199\t17200\t17201\t17202\t17203\t17204\t17205\t17206\t17207\t17208\t17209\t17210\t17211\t17213\t17214\t17215\t17217\t17218\t17219\t17220\t17221\t17222\t17223\t17224\t17225\t17226\t17227\t17228\t17229\t17230\t17231\t17232\t17233\t17234\t17235\t17236\t17237\t17238\t17239\t17240\t17241\t17242\t17243\t17244\t17245\t17246\t17247\t17248\t17249\t17250\t17251\t17252\t17253\t17254\t17255\t17256\t17257\t17258\t17259\t17260\t17261\t17262\t17263\t17264\t17265\t17266\t17267\t17268\t17269\t17270\t17271\t17272\t17273\t17274\t17275\t17276\t17277\t17278\t17279\t17280\t17281\t17282\t17283\t17284\t17285\t17286\t17287\t17288\t17289\t17290\t17291\t17292\t17293\t17294\t17295\t17297\t17298\t17299\t17300\t17301\t17302\t17303\t17304\t17305\t17306\t17307\t17308\t17309\t17310\t17311\t17312\t17313\t17314\t17315\t17316\t17317\t17318\t17319\t17320\t17321\t17322\t17323\t17324\t17325\t17326\t17327\t17328\t17329\t17330\t17331\t17332\t17334\t17335\t17336\t17337\t17338\t17339\t17340\t17341\t17342\t17343\t17344\t17345\t17346\t17347\t17348\t17349\t17350\t17351\t17352\t17353\t17354\t17355\t17356\t17357\t17358\t17359\t17360\t17361\t17362\t17363\t17364\t17365\t17366\t17367\t17368\t17369\t17370\t17371\t17372\t17373\t17374\t17375\t17376\t17377\t17378\t17379\t17380\t17381\t17382\t17383\t17384\t17385\t17386\t17387\t17388\t17389\t17390\t17391\t17392\t17393\t17394\t17395\t17396\t17397\t17398\t17399\t17400\t17401\t17402\t17403\t17404\t17405\t17406\t17407\t17408\t17409\t17410\t17411\t17412\t17413\t17414\t17415\t17416\t17417\t17418\t17419\t17420\t17421\t17422\t17423\t17424\t17425\t17426\t17427\t17428\t17429\t17430\t17431\t17432\t17433\t17434\t17435\t17436\t17437\t17438\t17439\t17440\t17441\t17442\t17443\t17444\t17445\t17446\t17447\t17448\t17449\t17450\t17451\t17452\t17453\t17454\t17455\t17456\t17457\t17458\t17459\t17460\t17461\t17462\t17463\t17464\t17465\t17466\t17467\t17468\t17469\t17470\t17471\t17472\t17473\t17474\t17475\t17476\t17477\t17478\t17479\t17480\t17481\t17482\t17483\t17484\t17485\t17486\t17487\t17488\t17489\t17490\t17491\t17492\t17493\t17494\t17495\t17496\t17497\t17498\t17499\t17500\t17501\t17502\t17503\t17504\t17505\t17506\t17507\t17508\t17509\t17510\t17511\t17512\t17513\t17514\t17515\t17516\t17517\t17518\t17519\t17520\t17521\t17522\t17523\t17524\t17525\t17526\t17527\t17528\t17530\t17531\t17532\t17533\t17534\t17535\t17536\t17537\t17538\t17539\t17540\t17541\t17542\t17543\t17544\t17545\t17546\t17547\t17548\t17549\t17550\t17551\t17552\t17553\t17554\t17555\t17556\t17557\t17558\t17559\t17560\t17561\t17562\t17563\t17564\t17565\t17566\t17567\t17568\t17569\t17570\t17571\t17572\t17573\t17574\t17575\t17576\t17577\t17578\t17579\t17580\t17581\t17582\t17583\t17584\t17585\t17586\t17587\t17588\t17589\t17590\t17591\t17592\t17593\t17594\t17595\t17596\t17598\t17599\t17600\t17601\t17602\t17603\t17604\t17605\t17606\t17607\t17608\t17609\t17610\t17611\t17612\t17613\t17614\t17615\t17616\t17617\t17618\t17619\t17620\t17621\t17622\t17623\t17624\t17625\t17626\t17627\t17628\t17629\t17630\t17631\t17632\t17633\t17634\t17635\t17636\t17637\t17638\t17639\t17640\t17642\t17643\t17644\t17645\t17646\t17647\t17648\t17649\t17650\t17651\t17652\t17653\t17654\t17655\t17656\t17657\t17658\t17659\t17660\t17662\t17663\t17664\t17665\t17666\t17667\t17668\t17669\t17670\t17671\t17672\t17673\t17674\t17675\t17676\t17677\t17678\t17679\t17680\t17681\t17682\t17683\t17684\t17685\t17686\t17687\t17688\t17689\t17690\t17691\t17692\t17693\t17694\t17695\t17696\t17697\t17698\t17699\t17700\t17701\t17702\t17703\t17704\t17705\t17706\t17707\t17708\t17709\t17710\t17711\t17712\t17713\t17714\t17715\t17716\t17717\t17718\t17719\t17720\t17722\t17723\t17724\t17725\t17726\t17727\t17728\t17729\t17730\t17731\t17732\t17733\t17734\t17735\t17736\t17737\t17738\t17739\t17740\t17741\t17742\t17743\t17744\t17745\t17746\t17747\t17748\t17749\t17750\t17751\t17752\t17753\t17754\t17755\t17756\t17757\t17758\t17759\t17760\t17761\t17762\t17763\t17765\t17766\t17767\t17768\t17769\t17770\t17771\t17772\t17773\t17774\t17775\t17776\t17778\t17779\t17780\t17781\t17782\t17783\t17784\t17785\t17786\t17787\t17788\t17789\t17790\t17791\t17792\t17793\t17794\t17795\t17796\t17797\t17798\t17799\t17800\t17801\t17802\t17803\t17804\t17805\t17806\t17807\t17808\t17809\t17810\t17811\t17812\t17813\t17814\t17815\t17816\t17817\t17818\t17819\t17820\t17821\t17822\t17824\t17825\t17826\t17827\t17828\t17829\t17830\t17831\t17832\t17833\t17834\t17835\t17836\t17837\t17838\t17839\t17840\t17841\t17842\t17843\t17844\t17845\t17846\t17847\t17848\t17849\t17850\t17851\t17852\t17853\t17854\t17855\t17856\t17857\t17858\t17859\t17860\t17861\t17862\t17863\t17864\t17865\t17866\t17867\t17868\t17869\t17870\t17871\t17872\t17873\t17874\t17875\t17876\t17877\t17878\t17879\t17880\t17881\t17883\t17884\t17885\t17886\t17887\t17888\t17889\t17890\t17891\t17892\t17893\t17894\t17895\t17896\t17897\t17898\t17899\t17900\t17901\t17902\t17903\t17904\t17905\t17906\t17907\t17908\t17909\t17910\t17911\t17912\t17913\t17914\t17915\t17916\t17917\t17918\t17919\t17920\t17921\t17922\t17923\t17924\t17925\t17926\t17927\t17928\t17929\t17930\t17931\t17932\t17933\t17935\t17936\t17937\t17938\t17939\t17940\t17941\t17942\t17943\t17944\t17946\t17947\t17948\t17949\t17950\t17951\t17952\t17953\t17954\t17955\t17956\t17957\t17958\t17959\t17960\t17961\t17962\t17963\t17964\t17965\t17966\t17967\t17968\t17969\t17970\t17971\t17972\t17973\t17974\t17975\t17976\t17977\t17978\t17979\t17980\t17982\t17983\t17984\t17985\t17986\t17987\t17988\t17989\t17990\t17991\t17992\t17993\t17995\t17996\t17997\t17998\t17999\t18000\t18001\t18002\t18003\t18004\t18005\t18006\t18007\t18008\t18009\t18010\t18011\t18012\t18013\t18014\t18015\t18016\t18017\t18018\t18019\t18020\t18021\t18022\t18023\t18024\t18025\t18026\t18027\t18028\t18029\t18030\t18031\t18032\t18033\t18034\t18035\t18037\t18038\t18039\t18040\t18041\t18042\t18043\t18044\t18045\t18046\t18047\t18048\t18049\t18050\t18051\t18052\t18053\t18054\t18055\t18056\t18057\t18058\t18059\t18061\t18062\t18063\t18064\t18065\t18066\t18067\t18068\t18069\t18070\t18071\t18072\t18073\t18074\t18075\t18076\t18077\t18078\t18079\t18080\t18081\t18082\t18083\t18084\t18085\t18086\t18087\t18088\t18089\t18090\t18091\t18092\t18093\t18094\t18095\t18096\t18097\t18098\t18099\t18100\t18101\t18102\t18103\t18104\t18105\t18106\t18107\t18108\t18109\t18110\t18111\t18112\t18113\t18114\t18115\t18116\t18117\t18118\t18119\t18120\t18121\t18122\t18123\t18124\t18125\t18126\t18127\t18128\t18129\t18130\t18131\t18132\t18133\t18134\t18135\t18137\t18138\t18139\t18140\t18141\t18142\t18143\t18144\t18145\t18146\t18147\t18148\t18149\t18150\t18151\t18152\t18153\t18154\t18155\t18156\t18157\t18158\t18159\t18160\t18161\t18162\t18163\t18164\t18166\t18167\t18169\t18170\t18171\t18172\t18173\t18174\t18175\t18176\t18177\t18178\t18179\t18180\t18181\t18182\t18183\t18184\t18185\t18186\t18187\t18188\t18189\t18190\t18191\t18192\t18193\t18194\t18195\t18196\t18197\t18198\t18199\t18200\t18201\t18202\t18203\t18204\t18205\t18206\t18207\t18208\t18209\t18210\t18211\t18212\t18213\t18214\t18215\t18216\t18217\t18218\t18219\t18220\t18221\t18222\t18223\t18224\t18225\t18226\t18227\t18228\t18229\t18230\t18231\t18232\t18233\t18234\t18235\t18236\t18237\t18238\t18239\t18240\t18241\t18242\t18243\t18244\t18245\t18246\t18247\t18248\t18249\t18250\t18251\t18252\t18253\t18254\t18255\t18256\t18257\t18258\t18259\t18260\t18261\t18262\t18263\t18264\t18265\t18266\t18267\t18268\t18269\t18270\t18271\t18272\t18273\t18275\t18276\t18277\t18278\t18279\t18280\t18281\t18283\t18284\t18285\t18286\t18288\t18289\t18290\t18291\t18292\t18293\t18294\t18295\t18296\t18297\t18298\t18299\t18300\t18301\t18302\t18303\t18304\t18305\t18306\t18307\t18308\t18309\t18310\t18311\t18312\t18313\t18314\t18315\t18316\t18317\t18318\t18319\t18320\t18321\t18322\t18323\t18324\t18325\t18326\t18327\t18328\t18329\t18330\t18332\t18333\t18334\t18335\t18336\t18337\t18338\t18339\t18340\t18341\t18342\t18345\t18346\t18348\t18349\t18350\t18351\t18352\t18353\t18354\t18355\t18357\t18358\t18359\t18360\t18361\t18362\t18363\t18364\t18365\t18366\t18367\t18368\t18369\t18370\t18371\t18372\t18373\t18374\t18375\t18376\t18377\t18378\t18379\t18380\t18381\t18382\t18383\t18384\t18385\t18386\t18387\t18389\t18390\t18391\t18392\t18393\t18394\t18395\t18396\t18397\t18398\t18399\t18400\t18401\t18402\t18403\t18404\t18405\t18406\t18407\t18408\t18409\t18410\t18411\t18412\t18413\t18414\t18415\t18417\t18418\t18419\t18420\t18421\t18422\t18424\t18425\t18427\t18428\t18429\t18430\t18431\t18432\t18433\t18434\t18435\t18436\t18437\t18438\t18439\t18440\t18441\t18442\t18443\t18444\t18445\t18446\t18447\t18448\t18449\t18450\t18451\t18452\t18453\t18454\t18456\t18458\t18459\t18460\t18461\t18462\t18463\t18464\t18465\t18466\t18468\t18469\t18470\t18471\t18472\t18473\t18474\t18475\t18476\t18477\t18478\t18479\t18480\t18481\t18482\t18483\t18484\t18485\t18486\t18487\t18488\t18489\t18490\t18491\t18492\t18494\t18495\t18496\t18497\t18498\t18499\t18500\t18501\t18502\t18503\t18504\t18505\t18506\t18507\t18508\t18509\t18511\t18512\t18513\t18514\t18515\t18516\t18517\t18518\t18519\t18520\t18521\t18522\t18523\t18524\t18525\t18526\t18527\t18528\t18529\t18530\t18531\t18532\t18533\t18534\t18535\t18536\t18537\t18538\t18539\t18540\t18541\t18542\t18543\t18544\t18545\t18546\t18547\t18548\t18549\t18550\t18551\t18552\t18553\t18554\t18555\t18556\t18557\t18558\t18559\t18560\t18561\t18562\t18563\t18564\t18565\t18566\t18567\t18568\t18569\t18570\t18571\t18572\t18573\t18574\t18575\t18576\t18577\t18578\t18579\t18580\t18581\t18582\t18583\t18584\t18585\t18586\t18587\t18588\t18589\t18590\t18591\t18592\t18593\t18594\t18595\t18596\t18597\t18598\t18600\t18601\t18602\t18603\t18604\t18605\t18606\t18607\t18608\t18609\t18610\t18611\t18612\t18614\t18615\t18616\t18617\t18618\t18619\t18620\t18621\t18622\t18623\t18624\t18625\t18626\t18627\t18628\t18629\t18630\t18631\t18632\t18633\t18634\t18636\t18637\t18638\t18639\t18640\t18641\t18642\t18643\t18644\t18645\t18646\t18647\t18648\t18649\t18650\t18651\t18652\t18653\t18654\t18655\t18656\t18657\t18658\t18659\t18660\t18661\t18662\t18663\t18664\t18665\t18666\t18667\t18668\t18669\t18670\t18671\t18672\t18674\t18675\t18676\t18677\t18678\t18679\t18680\t18681\t18682\t18683\t18684\t18685\t18686\t18687\t18688\t18689\t18690\t18691\t18692\t18693\t18694\t18695\t18696\t18697\t18698\t18699\t18700\t18701\t18702\t18703\t18704\t18705\t18706\t18707\t18708\t18709\t18710\t18711\t18712\t18713\t18714\t18715\t18716\t18717\t18718\t18719\t18720\t18721\t18722\t18723\t18724\t18725\t18726\t18727\t18728\t18729\t18730\t18731\t18732\t18733\t18734\t18735\t18736\t18737\t18738\t18739\t18740\t18741\t18742\t18743\t18744\t18745\t18746\t18747\t18748\t18749\t18750\t18751\t18752\t18753\t18754\t18755\t18756\t18757\t18758\t18759\t18760\t18761\t18762\t18763\t18764\t18765\t18766\t18767\t18768\t18769\t18770\t18771\t18772\t18773\t18774\t18775\t18776\t18777\t18778\t18779\t18780\t18781\t18782\t18783\t18784\t18785\t18786\t18787\t18788\t18789\t18790\t18791\t18792\t18793\t18794\t18795\t18796\t18797\t18798\t18799\t18800\t18801\t18802\t18803\t18804\t18805\t18806\t18807\t18808\t18809\t18810\t18811\t18812\t18813\t18814\t18815\t18816\t18817\t18818\t18819\t18820\t18821\t18822\t18824\t18825\t18826\t18827\t18828\t18829\t18830\t18831\t18832\t18833\t18834\t18835\t18836\t18837\t18838\t18839\t18840\t18841\t18842\t18843\t18844\t18845\t18846\t18847\t18848\t18849\t18850\t18851\t18852\t18853\t18855\t18856\t18857\t18858\t18859\t18860\t18861\t18862\t18863\t18864\t18865\t18866\t18867\t18868\t18869\t18870\t18871\t18872\t18873\t18874\t18875\t18876\t18877\t18878\t18879\t18880\t18881\t18882\t18883\t18884\t18885\t18886\t18887\t18888\t18889\t18890\t18891\t18892\t18893\t18894\t18895\t18896\t18897\t18898\t18899\t18900\t18901\t18902\t18903\t18904\t18905\t18906\t18907\t18908\t18909\t18910\t18911\t18912\t18913\t18914\t18915\t18916\t18917\t18918\t18919\t18920\t18921\t18922\t18923\t18924\t18925\t18926\t18927\t18928\t18929\t18930\t18931\t18932\t18933\t18934\t18935\t18936\t18938\t18939\t18940\t18941\t18942\t18943\t18944\t18945\t18946\t18947\t18948\t18949\t18950\t18951\t18952\t18954\t18955\t18956\t18957\t18958\t18959\t18960\t18961\t18962\t18963\t18964\t18965\t18966\t18967\t18968\t18969\t18970\t18971\t18972\t18973\t18974\t18975\t18976\t18977\t18978\t18979\t18980\t18981\t18983\t18984\t18985\t18986\t18987\t18988\t18989\t18990\t18991\t18992\t18993\t18994\t18995\t18996\t18997\t18998\t18999\t19000\t19001\t19002\t19003\t19004\t19005\t19006\t19007\t19008\t19009\t19010\t19011\t19012\t19013\t19014\t19015\t19016\t19017\t19018\t19019\t19020\t19021\t19022\t19023\t19024\t19025\t19026\t19027\t19028\t19029\t19030\t19031\t19032\t19033\t19034\t19035\t19036\t19037\t19039\t19040\t19041\t19042\t19043\t19044\t19045\t19046\t19047\t19048\t19049\t19050\t19051\t19052\t19053\t19054\t19055\t19056\t19057\t19058\t19060\t19061\t19062\t19063\t19064\t19065\t19066\t19067\t19068\t19069\t19070\t19071\t19072\t19073\t19074\t19075\t19076\t19077\t19078\t19079\t19080\t19081\t19082\t19083\t19084\t19085\t19086\t19087\t19088\t19089\t19090\t19091\t19092\t19093\t19094\t19095\t19096\t19097\t19098\t19099\t19100\t19101\t19102\t19103\t19104\t19106\t19107\t19108\t19109\t19110\t19112\t19113\t19114\t19115\t19116\t19117\t19118\t19119\t19120\t19121\t19122\t19123\t19124\t19125\t19126\t19127\t19128\t19129\t19130\t19131\t19132\t19133\t19134\t19135\t19136\t19137\t19138\t19139\t19140\t19141\t19142\t19143\t19144\t19145\t19146\t19147\t19148\t19149\t19150\t19151\t19152\t19153\t19154\t19155\t19156\t19157\t19158\t19159\t19160\t19161\t19162\t19163\t19164\t19165\t19166\t19167\t19168\t19169\t19170\t19171\t19172\t19173\t19174\t19175\t19176\t19177\t19178\t19179\t19181\t19182\t19183\t19184\t19185\t19186\t19187\t19188\t19189\t19190\t19191\t19192\t19193\t19194\t19195\t19196\t19197\t19198\t19199\t19200\t19201\t19202\t19203\t19204\t19205\t19206\t19207\t19209\t19210\t19211\t19212\t19213\t19214\t19215\t19216\t19217\t19218\t19219\t19220\t19221\t19222\t19224\t19226\t19227\t19228\t19230\t19231\t19232\t19233\t19234\t19235\t19236\t19237\t19238\t19239\t19240\t19241\t19242\t19243\t19244\t19245\t19246\t19247\t19248\t19249\t19250\t19251\t19252\t19253\t19254\t19255\t19256\t19257\t19258\t19259\t19260\t19261\t19262\t19263\t19264\t19265\t19266\t19267\t19268\t19269\t19270\t19271\t19272\t19273\t19274\t19275\t19276\t19277\t19278\t19279\t19281\t19282\t19283\t19284\t19285\t19286\t19287\t19288\t19289\t19290\t19291\t19292\t19293\t19294\t19295\t19296\t19297\t19298\t19299\t19300\t19301\t19302\t19303\t19304\t19305\t19306\t19307\t19308\t19309\t19310\t19311\t19312\t19313\t19314\t19315\t19316\t19317\t19318\t19319\t19320\t19321\t19322\t19323\t19324\t19325\t19326\t19327\t19328\t19329\t19330\t19331\t19332\t19333\t19334\t19335\t19336\t19337\t19338\t19339\t19340\t19341\t19342\t19343\t19344\t19345\t19346\t19347\t19348\t19349\t19350\t19351\t19352\t19353\t19354\t19355\t19356\t19357\t19358\t19359\t19360\t19361\t19362\t19363\t19364\t19365\t19366\t19367\t19368\t19369\t19370\t19371\t19372\t19373\t19374\t19375\t19376\t19377\t19378\t19379\t19380\t19381\t19382\t19383\t19384\t19385\t19386\t19387\t19388\t19389\t19390\t19391\t19393\t19394\t19395\t19396\t19397\t19398\t19399\t19400\t19401\t19402\t19403\t19404\t19405\t19406\t19407\t19408\t19409\t19410\t19411\t19412\t19413\t19414\t19415\t19416\t19417\t19418\t19419\t19420\t19421\t19423\t19424\t19425\t19426\t19427\t19428\t19429\t19430\t19431\t19432\t19433\t19434\t19435\t19436\t19437\t19438\t19439\t19440\t19441\t19442\t19443\t19444\t19445\t19446\t19447\t19448\t19449\t19450\t19451\t19452\t19453\t19454\t19455\t19456\t19457\t19458\t19459\t19460\t19461\t19462\t19463\t19464\t19465\t19466\t19467\t19468\t19469\t19470\t19471\t19472\t19473\t19474\t19475\t19476\t19477\t19478\t19479\t19480\t19481\t19482\t19483\t19484\t19485\t19486\t19487\t19488\t19489\t19490\t19491\t19492\t19493\t19494\t19495\t19496\t19497\t19498\t19499\t19500\t19501\t19502\t19503\t19504\t19505\t19506\t19507\t19508\t19509\t19510\t19511\t19512\t19513\t19514\t19515\t19516\t19517\t19518\t19519\t19520\t19521\t19522\t19523\t19524\t19525\t19526\t19527\t19528\t19529\t19530\t19531\t19532\t19533\t19534\t19535\t19536\t19537\t19538\t19539\t19540\t19541\t19542\t19543\t19544\t19545\t19546\t19547\t19548\t19550\t19551\t19552\t19553\t19554\t19555\t19556\t19557\t19558\t19559\t19560\t19561\t19562\t19563\t19564\t19565\t19566\t19567\t19568\t19569\t19570\t19571\t19572\t19573\t19574\t19575\t19576\t19577\t19578\t19579\t19580\t19582\t19583\t19584\t19585\t19586\t19587\t19588\t19589\t19590\t19591\t19592\t19593\t19595\t19596\t19597\t19598\t19599\t19600\t19601\t19602\t19603\t19604\t19605\t19606\t19607\t19608\t19609\t19610\t19611\t19612\t19613\t19614\t19615\t19616\t19617\t19618\t19619\t19620\t19621\t19622\t19623\t19624\t19625\t19626\t19627\t19628\t19629\t19630\t19631\t19632\t19633\t19634\t19635\t19636\t19637\t19638\t19639\t19640\t19641\t19642\t19644\t19645\t19646\t19647\t19648\t19649\t19650\t19651\t19652\t19653\t19654\t19655\t19656\t19657\t19658\t19659\t19660\t19661\t19662\t19663\t19664\t19665\t19666\t19667\t19668\t19669\t19670\t19671\t19672\t19673\t19674\t19675\t19676\t19677\t19678\t19679\t19680\t19681\t19682\t19683\t19684\t19685\t19686\t19687\t19688\t19689\t19690\t19691\t19692\t19693\t19694\t19695\t19696\t19697\t19698\t19699\t19700\t19701\t19702\t19703\t19704\t19705\t19706\t19707\t19708\t19709\t19710\t19711\t19712\t19713\t19714\t19715\t19716\t19717\t19718\t19719\t19720\t19721\t19722\t19723\t19724\t19725\t19726\t19727\t19729\t19730\t19731\t19732\t19733\t19734\t19735\t19736\t19737\t19738\t19739\t19740\t19741\t19742\t19743\t19744\t19745\t19746\t19747\t19748\t19749\t19750\t19751\t19752\t19753\t19754\t19755\t19756\t19757\t19758\t19759\t19760\t19761\t19762\t19763\t19764\t19765\t19766\t19767\t19768\t19769\t19770\t19771\t19772\t19773\t19774\t19775\t19776\t19777\t19778\t19779\t19780\t19781\t19782\t19783\t19784\t19785\t19786\t19787\t19788\t19789\t19790\t19791\t19792\t19793\t19794\t19795\t19796\t19797\t19798\t19799\t19800\t19801\t19802\t19803\t19804\t19805\t19806\t19807\t19808\t19809\t19810\t19811\t19812\t19813\t19814\t19815\t19816\t19817\t19818\t19819\t19820\t19821\t19822\t19823\t19824\t19825\t19826\t19827\t19828\t19829\t19830\t19831\t19832\t19833\t19834\t19835\t19837\t19838\t19839\t19840\t19841\t19842\t19843\t19844\t19845\t19847\t19848\t19849\t19850\t19851\t19852\t19853\t19854\t19855\t19856\t19857\t19858\t19859\t19860\t19861\t19862\t19863\t19864\t19865\t19866\t19867\t19868\t19869\t19870\t19871\t19872\t19873\t19874\t19875\t19876\t19877\t19878\t19879\t19880\t19881\t19882\t19883\t19884\t19885\t19886\t19887\t19888\t19889\t19890\t19891\t19892\t19893\t19894\t19895\t19896\t19897\t19898\t19899\t19900\t19901\t19902\t19903\t19904\t19905\t19906\t19907\t19908\t19909\t19910\t19911\t19912\t19913\t19914\t19915\t19916\t19917\t19918\t19919\t19920\t19921\t19922\t19923\t19924\t19925\t19926\t19927\t19928\t19929\t19930\t19931\t19932\t19933\t19934\t19935\t19936\t19937\t19938\t19939\t19940\t19941\t19942\t19943\t19944\t19945\t19946\t19947\t19948\t19949\t19950\t19951\t19952\t19953\t19954\t19956\t19957\t19958\t19959\t19960\t19961\t19962\t19963\t19964\t19965\t19966\t19967\t19968\t19969\t19970\t19971\t19972\t19973\t19974\t19975\t19976\t19977\t19978\t19979\t19980\t19981\t19982\t19983\t19984\t19985\t19986\t19987\t19988\t19989\t19990\t19991\t19992\t19993\t19994\t19995\t19996\t19997\t19998\t19999\t20000\t20001\t20002\t20003\t20005\t20006\t20007\t20008\t20009\t20011\t20012\t20013\t20014\t20015\t20016\t20017\t20018\t20019\t20020\t20021\t20022\t20023\t20024\t20025\t20026\t20027\t20028\t20029\t20030\t20031\t20032\t20033\t20034\t20035\t20036\t20037\t20038\t20039\t20040\t20041\t20042\t20043\t20044\t20045\t20046\t20047\t20048\t20049\t20050\t20051\t20052\t20053\t20054\t20055\t20056\t20057\t20058\t20059\t20060\t20061\t20062\t20063\t20064\t20065\t20066\t20067\t20068\t20069\t20070\t20071\t20072\t20073\t20074\t20075\t20076\t20077\t20078\t20079\t20080\t20081\t20082\t20083\t20084\t20085\t20086\t20087\t20088\t20089\t20091\t20092\t20093\t20094\t20095\t20096\t20097\t20098\t20099\t20100\t20101\t20102\t20103\t20104\t20105\t20106\t20107\t20108\t20109\t20110\t20111\t20112\t20113\t20114\t20115\t20116\t20117\t20118\t20119\t20120\t20121\t20122\t20123\t20124\t20125\t20126\t20127\t20128\t20129\t20130\t20131\t20132\t20133\t20134\t20135\t20136\t20137\t20138\t20139\t20140\t20141\t20142\t20143\t20144\t20146\t20147\t20148\t20149\t20150\t20151\t20152\t20153\t20154\t20155\t20156\t20157\t20158\t20159\t20160\t20161\t20162\t20163\t20164\t20165\t20166\t20167\t20168\t20169\t20170\t20172\t20173\t20174\t20175\t20176\t20177\t20178\t20179\t20180\t20181\t20182\t20183\t20184\t20185\t20186\t20187\t20188\t20189\t20190\t20191\t20192\t20193\t20194\t20195\t20196\t20197\t20198\t20199\t20200\t20201\t20202\t20203\t20204\t20205\t20207\t20208\t20209\t20210\t20211\t20212\t20213\t20214\t20215\t20216\t20217\t20218\t20219\t20220\t20221\t20222\t20223\t20224\t20225\t20226\t20227\t20228\t20229\t20230\t20231\t20232\t20233\t20235\t20236\t20237\t20238\t20239\t20240\t20241\t20242\t20243\t20244\t20245\t20246\t20247\t20248\t20249\t20250\t20251\t20252\t20253\t20254\t20255\t20256\t20257\t20258\t20259\t20260\t20261\t20262\t20263\t20264\t20265\t20266\t20267\t20268\t20269\t20270\t20271\t20272\t20273\t20274\t20275\t20276\t20277\t20278\t20279\t20280\t20281\t20282\t20283\t20284\t20285\t20286\t20287\t20288\t20289\t20290\t20291\t20292\t20293\t20294\t20295\t20296\t20297\t20298\t20299\t20300\t20301\t20302\t20303\t20304\t20305\t20306\t20307\t20308\t20309\t20310\t20311\t20312\t20313\t20315\t20316\t20317\t20318\t20319\t20320\t20321\t20322\t20323\t20324\t20325\t20326\t20327\t20328\t20329\t20330\t20331\t20332\t20333\t20334\t20335\t20336\t20337\t20338\t20339\t20340\t20341\t20342\t20343\t20344\t20345\t20346\t20347\t20348\t20349\t20350\t20351\t20352\t20353\t20354\t20355\t20356\t20357\t20358\t20359\t20360\t20361\t20362\t20363\t20364\t20365\t20366\t20367\t20368\t20369\t20370\t20371\t20372\t20373\t20374\t20375\t20376\t20377\t20378\t20379\t20380\t20381\t20382\t20383\t20384\t20385\t20386\t20387\t20388\t20389\t20390\t20391\t20392\t20393\t20394\t20395\t20396\t20397\t20398\t20399\t20400\t20401\t20402\t20403\t20404\t20405\t20406\t20408\t20409\t20410\t20411\t20412\t20413\t20414\t20415\t20416\t20417\t20418\t20419\t20421\t20422\t20423\t20424\t20426\t20427\t20429\t20430\t20431\t20432\t20433\t20434\t20435\t20436\t20437\t20438\t20439\t20440\t20441\t20442\t20443\t20444\t20445\t20446\t20447\t20448\t20449\t20450\t20451\t20452\t20453\t20454\t20455\t20456\t20457\t20458\t20459\t20460\t20461\t20462\t20463\t20464\t20465\t20466\t20467\t20468\t20469\t20470\t20471\t20472\t20473\t20474\t20475\t20476\t20477\t20478\t20479\t20480\t20481\t20482\t20483\t20484\t20485\t20486\t20487\t20488\t20489\t20490\t20491\t20492\t20493\t20494\t20495\t20496\t20497\t20498\t20499\t20500\t20501\t20502\t20503\t20504\t20505\t20506\t20507\t20508\t20509\t20510\t20511\t20512\t20513\t20514\t20515\t20517\t20518\t20519\t20520\t20521\t20522\t20523\t20524\t20525\t20526\t20527\t20528\t20529\t20530\t20531\t20532\t20533\t20534\t20535\t20536\t20537\t20538\t20539\t20540\t20541\t20542\t20543\t20544\t20545\t20546\t20547\t20548\t20549\t20550\t20551\t20552\t20553\t20554\t20555\t20556\t20557\t20558\t20559\t20560\t20561\t20562\t20563\t20564\t20565\t20566\t20567\t20568\t20569\t20570\t20571\t20572\t20573\t20574\t20575\t20576\t20577\t20579\t20580\t20581\t20582\t20583\t20584\t20585\t20586\t20587\t20588\t20589\t20590\t20591\t20592\t20593\t20594\t20595\t20596\t20597\t20598\t20600\t20601\t20602\t20603\t20604\t20605\t20606\t20607\t20608\t20609\t20610\t20611\t20612\t20613\t20614\t20616\t20617\t20618\t20619\t20620\t20621\t20622\t20623\t20624\t20625\t20626\t20627\t20628\t20629\t20630\t20631\t20632\t20633\t20634\t20635\t20636\t20637\t20638\t20639\t20640\t20641\t20642\t20643\t20644\t20645\t20646\t20647\t20648\t20649\t20650\t20651\t20652\t20653\t20654\t20655\t20656\t20657\t20658\t20659\t20660\t20661\t20662\t20663\t20664\t20665\t20666\t20667\t20668\t20669\t20670\t20671\t20672\t20673\t20674\t20675\t20676\t20677\t20678\t20679\t20680\t20681\t20682\t20683\t20684\t20685\t20687\t20688\t20689\t20690\t20691\t20692\t20693\t20694\t20695\t20696\t20697\t20698\t20699\t20700\t20701\t20702\t20703\t20704\t20705\t20706\t20707\t20709\t20710\t20711\t20712\t20713\t20714\t20715\t20716\t20717\t20718\t20719\t20720\t20721\t20722\t20723\t20724\t20725\t20726\t20727\t20728\t20729\t20730\t20731\t20732\t20733\t20734\t20735\t20736\t20737\t20738\t20739\t20740\t20741\t20742\t20743\t20744\t20745\t20746\t20747\t20748\t20749\t20750\t20751\t20752\t20753\t20754\t20755\t20756\t20757\t20758\t20759\t20760\t20761\t20762\t20763\t20764\t20765\t20766\t20767\t20768\t20769\t20770\t20771\t20772\t20773\t20774\t20775\t20776\t20777\t20778\t20779\t20780\t20781\t20782\t20783\t20784\t20785\t20786\t20787\t20788\t20789\t20790\t20791\t20792\t20793\t20794\t20795\t20796\t20797\t20798\t20799\t20800\t20801\t20802\t20803\t20804\t20805\t20807\t20808\t20809\t20810\t20811\t20812\t20813\t20814\t20815\t20816\t20817\t20818\t20819\t20820\t20821\t20822\t20823\t20824\t20825\t20826\t20827\t20828\t20829\t20831\t20832\t20833\t20834\t20835\t20836\t20837\t20838\t20839\t20840\t20841\t20842\t20843\t20845\t20846\t20847\t20848\t20849\t20850\t20851\t20852\t20853\t20854\t20855\t20856\t20857\t20858\t20859\t20860\t20861\t20862\t20863\t20864\t20865\t20866\t20867\t20869\t20870\t20871\t20872\t20873\t20874\t20875\t20876\t20877\t20878\t20879\t20880\t20881\t20882\t20883\t20884\t20885\t20886\t20887\t20888\t20889\t20890\t20891\t20892\t20893\t20894\t20895\t20896\t20897\t20898\t20899\t20900\t20901\t20902\t20903\t20904\t20905\t20906\t20907\t20908\t20909\t20910\t20911\t20912\t20913\t20914\t20915\t20916\t20917\t20918\t20919\t20921\t20922\t20923\t20924\t20925\t20926\t20927\t20928\t20930\t20931\t20932\t20933\t20934\t20935\t20937\t20938\t20939\t20940\t20941\t20942\t20943\t20944\t20945\t20946\t20947\t20948\t20949\t20950\t20951\t20952\t20953\t20955\t20956\t20957\t20958\t20959\t20960\t20961\t20962\t20963\t20964\t20965\t20966\t20967\t20968\t20969\t20970\t20971\t20972\t20973\t20974\t20976\t20977\t20978\t20979\t20980\t20981\t20982\t20983\t20984\t20985\t20986\t20987\t20988\t20989\t20990\t20991\t20992\t20993\t20994\t20995\t20996\t20997\t20998\t20999\t21000\t21001\t21002\t21003\t21004\t21005\t21007\t21008\t21009\t21010\t21011\t21012\t21013\t21014\t21015\t21016\t21017\t21018\t21019\t21021\t21022\t21023\t21024\t21025\t21026\t21027\t21028\t21029\t21030\t21031\t21032\t21033\t21034\t21035\t21036\t21038\t21039\t21040\t21041\t21042\t21043\t21044\t21045\t21046\t21047\t21048\t21049\t21050\t21051\t21052\t21053\t21054\t21055\t21056\t21057\t21058\t21059\t21060\t21061\t21062\t21063\t21064\t21065\t21067\t21068\t21069\t21070\t21071\t21072\t21073\t21074\t21075\t21076\t21077\t21078\t21079\t21080\t21081\t21082\t21083\t21084\t21085\t21086\t21087\t21088\t21089\t21090\t21091\t21092\t21093\t21094\t21095\t21096\t21097\t21098\t21099\t21100\t21101\t21102\t21103\t21104\t21105\t21106\t21108\t21109\t21110\t21111\t21112\t21113\t21114\t21115\t21116\t21117\t21118\t21119\t21120\t21121\t21122\t21123\t21124\t21125\t21126\t21127\t21129\t21130\t21131\t21132\t21133\t21134\t21135\t21136\t21137\t21138\t21139\t21140\t21141\t21142\t21143\t21144\t21145\t21146\t21147\t21148\t21149\t21150\t21151\t21152\t21153\t21154\t21155\t21156\t21157\t21158\t21159\t21160\t21161\t21163\t21164\t21165\t21166\t21167\t21168\t21169\t21170\t21171\t21172\t21173\t21174\t21175\t21176\t21177\t21178\t21179\t21180\t21181\t21182\t21183\t21184\t21185\t21186\t21187\t21188\t21189\t21190\t21191\t21192\t21193\t21194\t21195\t21196\t21197\t21198\t21199\t21200\t21201\t21202\t21203\t21204\t21205\t21206\t21207\t21208\t21209\t21210\t21211\t21212\t21213\t21214\t21215\t21216\t21217\t21218\t21219\t21220\t21221\t21222\t21223\t21224\t21225\t21226\t21227\t21228\t21229\t21230\t21231\t21232\t21233\t21234\t21235\t21236\t21237\t21239\t21240\t21241\t21242\t21243\t21244\t21245\t21246\t21247\t21248\t21249\t21250\t21251\t21252\t21253\t21254\t21255\t21256\t21258\t21259\t21260\t21261\t21262\t21263\t21264\t21265\t21266\t21267\t21268\t21269\t21270\t21271\t21272\t21273\t21275\t21276\t21277\t21278\t21279\t21280\t21281\t21282\t21283\t21284\t21285\t21286\t21287\t21288\t21290\t21291\t21292\t21293\t21294\t21295\t21296\t21297\t21298\t21299\t21300\t21301\t21302\t21303\t21304\t21305\t21306\t21307\t21308\t21309\t21310\t21311\t21312\t21313\t21314\t21315\t21316\t21317\t21319\t21320\t21321\t21322\t21323\t21324\t21325\t21326\t21327\t21328\t21329\t21330\t21331\t21332\t21333\t21334\t21335\t21336\t21337\t21338\t21339\t21340\t21341\t21342\t21343\t21345\t21346\t21347\t21348\t21349\t21350\t21351\t21352\t21353\t21354\t21355\t21356\t21357\t21358\t21359\t21360\t21361\t21362\t21363\t21364\t21365\t21366\t21367\t21368\t21369\t21370\t21371\t21372\t21373\t21374\t21375\t21376\t21377\t21378\t21379\t21380\t21381\t21382\t21383\t21384\t21385\t21386\t21388\t21389\t21390\t21391\t21392\t21393\t21394\t21395\t21396\t21397\t21398\t21399\t21400\t21401\t21402\t21403\t21404\t21405\t21406\t21407\t21408\t21409\t21410\t21412\t21414\t21415\t21416\t21417\t21418\t21419\t21420\t21421\t21422\t21423\t21424\t21425\t21426\t21427\t21428\t21429\t21430\t21431\t21432\t21433\t21434\t21435\t21436\t21437\t21438\t21439\t21440\t21441\t21442\t21443\t21444\t21445\t21446\t21447\t21448\t21450\t21451\t21452\t21453\t21454\t21455\t21456\t21457\t21458\t21459\t21460\t21461\t21462\t21463\t21464\t21465\t21466\t21468\t21469\t21470\t21471\t21472\t21473\t21474\t21475\t21476\t21477\t21478\t21479\t21480\t21481\t21482\t21483\t21484\t21485\t21486\t21487\t21488\t21489\t21490\t21491\t21492\t21493\t21494\t21495\t21496\t21497\t21498\t21499\t21500\t21501\t21502\t21503\t21504\t21506\t21507\t21508\t21509\t21510\t21511\t21512\t21513\t21514\t21515\t21516\t21517\t21518\t21519\t21520\t21521\t21522\t21523\t21524\t21525\t21526\t21527\t21528\t21529\t21530\t21531\t21532\t21533\t21534\t21535\t21536\t21538\t21539\t21540\t21541\t21542\t21543\t21544\t21545\t21546\t21547\t21548\t21549\t21550\t21551\t21552\t21553\t21554\t21555\t21556\t21557\t21558\t21559\t21560\t21561\t21562\t21563\t21564\t21565\t21566\t21567\t21568\t21569\t21570\t21571\t21572\t21573\t21574\t21575\t21576\t21577\t21578\t21579\t21580\t21581\t21582\t21583\t21584\t21585\t21586\t21587\t21588\t21589\t21590\t21591\t21592\t21593\t21594\t21595\t21596\t21597\t21598\t21599\t21600\t21601\t21602\t21603\t21604\t21605\t21606\t21607\t21608\t21609\t21610\t21611\t21612\t21613\t21614\t21615\t21616\t21617\t21618\t21619\t21620\t21621\t21622\t21623\t21624\t21625\t21626\t21627\t21628\t21629\t21630\t21631\t21632\t21633\t21634\t21635\t21636\t21637\t21638\t21639\t21640\t21641\t21642\t21643\t21644\t21645\t21646\t21647\t21648\t21649\t21650\t21651\t21652\t21653\t21654\t21655\t21656\t21657\t21658\t21659\t21660\t21661\t21662\t21663\t21664\t21665\t21666\t21667\t21668\t21669\t21670\t21671\t21673\t21675\t21676\t21677\t21678\t21679\t21680\t21681\t21682\t21683\t21684\t21685\t21686\t21687\t21688\t21689\t21690\t21691\t21692\t21693\t21694\t21695\t21696\t21697\t21698\t21699\t21700\t21701\t21702\t21703\t21704\t21705\t21706\t21707\t21708\t21709\t21710\t21711\t21712\t21713\t21714\t21715\t21716\t21717\t21718\t21719\t21720\t21721\t21722\t21723\t21724\t21725\t21726\t21727\t21728\t21729\t21730\t21731\t21732\t21733\t21734\t21735\t21736\t21737\t21738\t21739\t21740\t21741\t21742\t21743\t21744\t21745\t21746\t21747\t21748\t21749\t21750\t21751\t21752\t21753\t21754\t21755\t21756\t21757\t21758\t21759\t21760\t21761\t21762\t21763\t21764\t21765\t21766\t21767\t21768\t21769\t21770\t21771\t21772\t21773\t21774\t21775\t21776\t21777\t21778\t21779\t21780\t21781\t21782\t21783\t21784\t21785\t21786\t21787\t21788\t21789\t21790\t21791\t21792\t21793\t21794\t21795\t21796\t21797\t21798\t21799\t21800\t21801\t21802\t21803\t21804\t21805\t21806\t21807\t21808\t21809\t21810\t21811\t21812\t21813\t21814\t21816\t21817\t21818\t21819\t21820\t21821\t21822\t21823\t21824\t21825\t21826\t21827\t21828\t21829\t21830\t21831\t21832\t21833\t21835\t21836\t21837\t21838\t21839\t21840\t21841\t21842\t21843\t21844\t21845\t21846\t21847\t21849\t21850\t21851\t21852\t21853\t21854\t21855\t21856\t21857\t21858\t21859\t21860\t21861\t21862\t21863\t21864\t21865\t21866\t21867\t21868\t21869\t21870\t21871\t21872\t21874\t21875\t21876\t21877\t21878\t21879\t21880\t21881\t21882\t21883\t21884\t21885\t21886\t21887\t21888\t21889\t21890\t21891\t21892\t21893\t21894\t21895\t21896\t21897\t21898\t21899\t21900\t21901\t21902\t21903\t21904\t21905\t21906\t21907\t21908\t21909\t21910\t21911\t21912\t21913\t21914\t21915\t21916\t21917\t21918\t21919\t21920\t21921\t21922\t21923\t21924\t21925\t21926\t21927\t21929\t21930\t21931\t21932\t21933\t21934\t21935\t21936\t21937\t21939\t21940\t21941\t21942\t21943\t21945\t21946\t21947\t21948\t21949\t21950\t21951\t21952\t21953\t21954\t21955\t21956\t21957\t21958\t21959\t21960\t21961\t21962\t21963\t21964\t21965\t21966\t21967\t21968\t21969\t21970\t21971\t21972\t21973\t21974\t21975\t21976\t21977\t21978\t21979\t21980\t21981\t21982\t21983\t21984\t21985\t21986\t21987\t21988\t21989\t21990\t21991\t21992\t21993\t21994\t21995\t21996\t21997\t21998\t21999\t22000\t22001\t22002\t22003\t22004\t22005\t22006\t22007\t22009\t22010\t22011\t22012\t22013\t22014\t22015\t22016\t22017\t22018\t22019\t22020\t22021\t22022\t22024\t22025\t22026\t22027\t22028\t22029\t22030\t22031\t22032\t22033\t22034\t22035\t22036\t22037\t22038\t22039\t22040\t22041\t22042\t22043\t22044\t22045\t22046\t22047\t22048\t22049\t22050\t22051\t22052\t22053\t22054\t22055\t22056\t22057\t22058\t22059\t22060\t22061\t22062\t22063\t22064\t22065\t22066\t22067\t22068\t22069\t22070\t22071\t22072\t22073\t22074\t22075\t22076\t22078\t22079\t22080\t22081\t22082\t22083\t22084\t22085\t22086\t22087\t22088\t22089\t22090\t22091\t22092\t22093\t22094\t22095\t22096\t22097\t22098\t22099\t22100\t22101\t22102\t22103\t22104\t22105\t22107\t22108\t22109\t22110\t22111\t22112\t22113\t22114\t22115\t22116\t22117\t22118\t22119\t22120\t22121\t22122\t22124\t22125\t22126\t22127\t22128\t22129\t22130\t22131\t22132\t22133\t22134\t22135\t22136\t22137\t22138\t22139\t22140\t22141\t22142\t22143\t22144\t22145\t22146\t22147\t22148\t22149\t22150\t22151\t22152\t22153\t22154\t22155\t22156\t22157\t22158\t22159\t22160\t22161\t22162\t22163\t22164\t22165\t22166\t22167\t22168\t22169\t22170\t22171\t22172\t22174\t22175\t22176\t22177\t22178\t22179\t22180\t22181\t22182\t22183\t22184\t22186\t22187\t22188\t22189\t22190\t22191\t22192\t22193\t22194\t22195\t22196\t22197\t22198\t22199\t22200\t22201\t22202\t22203\t22204\t22205\t22206\t22207\t22208\t22209\t22210\t22211\t22212\t22213\t22215\t22216\t22217\t22218\t22219\t22220\t22221\t22222\t22223\t22224\t22225\t22226\t22227\t22228\t22229\t22230\t22231\t22232\t22233\t22234\t22235\t22236\t22237\t22238\t22239\t22240\t22241\t22243\t22244\t22245\t22246\t22247\t22248\t22249\t22250\t22251\t22252\t22254\t22255\t22256\t22257\t22258\t22259\t22260\t22261\t22262\t22263\t22264\t22265\t22266\t22267\t22268\t22269\t22270\t22271\t22272\t22273\t22274\t22275\t22276\t22277\t22278\t22279\t22280\t22281\t22282\t22283\t22284\t22285\t22286\t22287\t22288\t22289\t22290\t22291\t22292\t22293\t22295\t22296\t22297\t22298\t22299\t22300\t22301\t22302\t22303\t22304\t22305\t22306\t22307\t22308\t22309\t22310\t22311\t22312\t22313\t22314\t22315\t22316\t22317\t22318\t22319\t22320\t22321\t22322\t22323\t22324\t22325\t22326\t22327\t22328\t22329\t22330\t22331\t22332\t22333\t22334\t22335\t22336\t22337\t22338\t22339\t22340\t22341\t22342\t22343\t22344\t22346\t22347\t22348\t22349\t22350\t22351\t22352\t22353\t22354\t22355\t22356\t22357\t22358\t22359\t22360\t22361\t22362\t22363\t22364\t22365\t22366\t22367\t22368\t22369\t22370\t22371\t22372\t22373\t22374\t22375\t22376\t22377\t22378\t22379\t22380\t22381\t22382\t22383\t22384\t22385\t22386\t22387\t22388\t22389\t22390\t22391\t22392\t22393\t22394\t22395\t22396\t22397\t22398\t22399\t22400\t22401\t22402\t22403\t22404\t22405\t22406\t22407\t22408\t22409\t22410\t22411\t22412\t22413\t22414\t22415\t22416\t22417\t22418\t22419\t22420\t22421\t22423\t22424\t22425\t22426\t22427\t22428\t22429\t22430\t22431\t22432\t22433\t22434\t22435\t22436\t22437\t22438\t22439\t22440\t22441\t22442\t22443\t22444\t22445\t22446\t22447\t22448\t22449\t22450\t22451\t22452\t22453\t22454\t22455\t22456\t22457\t22458\t22459\t22460\t22461\t22462\t22463\t22464\t22465\t22466\t22467\t22469\t22470\t22471\t22472\t22473\t22474\t22475\t22476\t22477\t22478\t22480\t22481\t22482\t22483\t22484\t22485\t22486\t22487\t22488\t22489\t22490\t22491\t22492\t22493\t22494\t22495\t22496\t22497\t22498\t22499\t22500\t22501\t22502\t22503\t22504\t22505\t22506\t22507\t22508\t22509\t22510\t22511\t22512\t22513\t22514\t22515\t22516\t22517\t22518\t22519\t22520\t22521\t22522\t22523\t22524\t22525\t22526\t22527\t22528\t22529\t22530\t22531\t22532\t22533\t22534\t22535\t22536\t22537\t22538\t22539\t22540\t22541\t22542\t22543\t22544\t22545\t22546\t22547\t22548\t22549\t22550\t22551\t22552\t22553\t22554\t22555\t22556\t22557\t22558\t22559\t22560\t22561\t22562\t22563\t22564\t22565\t22566\t22567\t22568\t22569\t22570\t22571\t22572\t22573\t22574\t22575\t22576\t22577\t22578\t22579\t22580\t22581\t22582\t22583\t22584\t22585\t22586\t22587\t22588\t22589\t22590\t22591\t22592\t22593\t22594\t22595\t22596\t22597\t22598\t22599\t22600\t22601\t22602\t22603\t22604\t22605\t22606\t22607\t22608\t22609\t22610\t22611\t22612\t22613\t22614\t22615\t22616\t22617\t22618\t22619\t22620\t22621\t22622\t22623\t22624\t22625\t22626\t22627\t22628\t22629\t22630\t22631\t22632\t22633\t22634\t22635\t22636\t22637\t22638\t22639\t22640\t22641\t22642\t22643\t22644\t22645\t22646\t22647\t22648\t22649\t22650\t22651\t22652\t22653\t22654\t22655\t22656\t22657\t22658\t22659\t22660\t22661\t22662\t22663\t22664\t22665\t22666\t22667\t22668\t22669\t22670\t22671\t22672\t22673\t22674\t22675\t22676\t22677\t22678\t22679\t22680\t22681\t22682\t22683\t22684\t22685\t22686\t22687\t22688\t22689\t22690\t22691\t22692\t22693\t22694\t22695\t22696\t22697\t22698\t22699\t22700\t22701\t22702\t22703\t22704\t22705\t22706\t22707\t22708\t22709\t22710\t22711\t22712\t22713\t22714\t22715\t22716\t22717\t22718\t22719\t22720\t22721\t22722\t22723\t22724\t22725\t22726\t22727\t22728\t22729\t22730\t22731\t22732\t22733\t22734\t22735\t22736\t22737\t22738\t22739\t22740\t22741\t22742\t22743\t22744\t22745\t22746\t22747\t22748\t22749\t22750\t22751\t22752\t22753\t22754\t22755\t22756\t22757\t22758\t22759\t22760\t22761\t22762\t22763\t22764\t22765\t22766\t22767\t22768\t22769\t22770\t22771\t22772\t22773\t22774\t22775\t22776\t22777\t22778\t22780\t22781\t22782\t22783\t22784\t22785\t22786\t22787\t22788\t22789\t22790\t22791\t22792\t22793\t22794\t22795\t22796\t22797\t22798\t22799\t22800\t22801\t22802\t22803\t22804\t22805\t22806\t22807\t22808\t22809\t22810\t22811\t22812\t22813\t22814\t22815\t22816\t22817\t22818\t22819\t22820\t22821\t22822\t22823\t22824\t22825\t22826\t22827\t22828\t22829\t22830\t22831\t22832\t22833\t22834\t22835\t22836\t22837\t22838\t22839\t22840\t22841\t22842\t22843\t22844\t22845\t22846\t22847\t22848\t22849\t22850\t22851\t22852\t22853\t22854\t22855\t22857\t22858\t22859\t22860\t22861\t22863\t22864\t22865\t22866\t22867\t22868\t22869\t22870\t22871\t22872\t22873\t22875\t22876\t22877\t22878\t22879\t22880\t22881\t22882\t22883\t22884\t22885\t22886\t22887\t22888\t22889\t22890\t22891\t22892\t22893\t22894\t22895\t22896\t22897\t22898\t22899\t22900\t22901\t22902\t22903\t22904\t22905\t22906\t22907\t22908\t22909\t22910\t22911\t22912\t22913\t22914\t22915\t22916\t22917\t22918\t22919\t22920\t22921\t22922\t22923\t22925\t22926\t22927\t22928\t22929\t22930\t22931\t22933\t22934\t22935\t22936\t22937\t22938\t22939\t22940\t22941\t22942\t22943\t22944\t22945\t22946\t22947\t22948\t22949\t22950\t22951\t22952\t22953\t22954\t22955\t22956\t22957\t22958\t22959\t22960\t22961\t22962\t22963\t22964\t22965\t22966\t22967\t22968\t22969\t22970\t22971\t22972\t22973\t22974\t22975\t22976\t22977\t22978\t22979\t22980\t22981\t22982\t22983\t22984\t22985\t22986\t22987\t22988\t22989\t22990\t22991\t22992\t22993\t22994\t22995\t22996\t22997\t22998\t22999\t23000\t23001\t23002\t23003\t23004\t23005\t23006\t23007\t23008\t23009\t23010\t23011\t23012\t23013\t23014\t23015\t23016\t23017\t23019\t23020\t23021\t23022\t23023\t23024\t23025\t23026\t23027\t23028\t23030\t23031\t23032\t23033\t23034\t23035\t23036\t23037\t23038\t23039\t23040\t23041\t23042\t23043\t23044\t23045\t23046\t23047\t23048\t23049\t23050\t23051\t23052\t23053\t23054\t23055\t23056\t23057\t23058\t23059\t23060\t23061\t23062\t23063\t23064\t23065\t23067\t23068\t23069\t23070\t23071\t23072\t23073\t23074\t23076\t23077\t23078\t23079\t23080\t23081\t23083\t23084\t23085\t23086\t23087\t23088\t23089\t23090\t23091\t23092\t23093\t23094\t23095\t23096\t23097\t23098\t23099\t23100\t23101\t23102\t23103\t23104\t23105\t23106\t23108\t23109\t23110\t23111\t23112\t23113\t23114\t23115\t23116\t23117\t23118\t23119\t23120\t23121\t23122\t23123\t23124\t23125\t23126\t23127\t23128\t23129\t23130\t23131\t23132\t23133\t23134\t23135\t23136\t23137\t23138\t23139\t23140\t23141\t23142\t23143\t23144\t23145\t23146\t23147\t23148\t23149\t23150\t23151\t23152\t23153\t23154\t23155\t23156\t23157\t23158\t23159\t23160\t23161\t23162\t23163\t23164\t23165\t23166\t23167\t23168\t23169\t23170\t23171\t23172\t23173\t23174\t23175\t23176\t23177\t23178\t23180\t23181\t23182\t23183\t23184\t23185\t23187\t23188\t23189\t23190\t23191\t23192\t23193\t23194\t23195\t23196\t23197\t23198\t23199\t23200\t23201\t23202\t23203\t23204\t23205\t23206\t23207\t23208\t23209\t23210\t23211\t23212\t23213\t23214\t23215\t23216\t23217\t23218\t23219\t23220\t23221\t23222\t23223\t23224\t23225\t23226\t23227\t23228\t23229\t23230\t23231\t23232\t23233\t23234\t23235\t23236\t23237\t23238\t23239\t23240\t23241\t23242\t23243\t23244\t23245\t23246\t23247\t23249\t23250\t23251\t23252\t23253\t23254\t23255\t23256\t23257\t23258\t23259\t23260\t23261\t23262\t23263\t23264\t23265\t23266\t23267\t23268\t23269\t23270\t23271\t23272\t23273\t23274\t23275\t23276\t23277\t23278\t23279\t23280\t23281\t23282\t23283\t23284\t23285\t23286\t23287\t23288\t23289\t23290\t23291\t23292\t23293\t23295\t23296\t23297\t23298\t23299\t23300\t23301\t23302\t23303\t23304\t23305\t23306\t23307\t23308\t23309\t23310\t23311\t23312\t23313\t23314\t23315\t23316\t23317\t23318\t23319\t23320\t23321\t23322\t23323\t23324\t23325\t23326\t23327\t23328\t23329\t23330\t23331\t23332\t23333\t23334\t23335\t23336\t23337\t23338\t23339\t23340\t23341\t23342\t23343\t23344\t23345\t23346\t23347\t23348\t23349\t23350\t23351\t23352\t23353\t23354\t23355\t23356\t23357\t23358\t23359\t23360\t23361\t23362\t23364\t23365\t23366\t23367\t23368\t23369\t23370\t23371\t23372\t23373\t23374\t23375\t23376\t23377\t23378\t23379\t23380\t23381\t23382\t23383\t23384\t23385\t23386\t23387\t23388\t23389\t23390\t23391\t23392\t23393\t23394\t23395\t23396\t23397\t23398\t23399\t23400\t23401\t23402\t23404\t23405\t23406\t23407\t23408\t23409\t23410\t23411\t23412\t23413\t23414\t23415\t23416\t23417\t23418\t23419\t23420\t23421\t23422\t23423\t23424\t23425\t23426\t23427\t23428\t23430\t23431\t23432\t23433\t23434\t23435\t23438\t23439\t23440\t23441\t23442\t23443\t23444\t23445\t23446\t23447\t23448\t23449\t23450\t23451\t23452\t23453\t23454\t23455\t23456\t23457\t23458\t23459\t23460\t23461\t23462\t23463\t23464\t23465\t23466\t23467\t23468\t23469\t23470\t23471\t23472\t23473\t23474\t23475\t23476\t23477\t23478\t23479\t23480\t23481\t23482\t23483\t23484\t23485\t23486\t23487\t23488\t23489\t23490\t23491\t23492\t23493\t23494\t23495\t23496\t23497\t23498\t23499\t23500\t23501\t23502\t23503\t23504\t23505\t23506\t23507\t23508\t23509\t23510\t23511\t23512\t23513\t23514\t23515\t23516\t23517\t23518\t23519\t23520\t23521\t23522\t23523\t23524\t23525\t23526\t23527\t23528\t23529\t23530\t23531\t23532\t23533\t23534\t23535\t23536\t23537\t23538\t23539\t23540\t23541\t23542\t23543\t23544\t23545\t23546\t23547\t23548\t23549\t23550\t23551\t23552\t23553\t23554\t23555\t23556\t23557\t23558\t23559\t23560\t23562\t23563\t23564\t23565\t23566\t23567\t23568\t23570\t23571\t23572\t23573\t23574\t23575\t23576\t23577\t23579\t23580\t23581\t23582\t23583\t23584\t23585\t23586\t23587\t23588\t23589\t23590\t23591\t23592\t23593\t23594\t23595\t23596\t23597\t23598\t23599\t23600\t23601\t23602\t23603\t23604\t23605\t23606\t23607\t23608\t23609\t23610\t23611\t23612\t23613\t23614\t23615\t23616\t23617\t23618\t23619\t23620\t23621\t23622\t23623\t23624\t23625\t23626\t23627\t23628\t23629\t23630\t23631\t23632\t23633\t23634\t23635\t23636\t23637\t23638\t23639\t23640\t23641\t23642\t23643\t23644\t23645\t23646\t23647\t23648\t23649\t23650\t23652\t23653\t23654\t23655\t23656\t23657\t23658\t23659\t23660\t23661\t23662\t23663\t23664\t23665\t23666\t23667\t23668\t23669\t23670\t23671\t23672\t23673\t23674\t23675\t23676\t23677\t23678\t23679\t23680\t23681\t23682\t23683\t23684\t23685\t23686\t23687\t23688\t23689\t23690\t23691\t23692\t23693\t23694\t23695\t23696\t23697\t23698\t23699\t23700\t23701\t23702\t23703\t23704\t23705\t23706\t23707\t23708\t23709\t23710\t23711\t23712\t23713\t23714\t23715\t23716\t23717\t23718\t23719\t23720\t23721\t23722\t23723\t23724\t23725\t23726\t23727\t23728\t23729\t23730\t23731\t23732\t23733\t23734\t23735\t23736\t23737\t23738\t23739\t23740\t23741\t23742\t23743\t23744\t23745\t23746\t23747\t23748\t23749\t23750\t23751\t23752\t23753\t23754\t23755\t23757\t23758\t23759\t23760\t23761\t23762\t23763\t23764\t23765\t23766\t23767\t23768\t23769\t23770\t23771\t23772\t23773\t23774\t23775\t23776\t23777\t23778\t23779\t23780\t23781\t23782\t23783\t23784\t23785\t23786\t23787\t23788\t23789\t23790\t23791\t23792\t23793\t23794\t23795\t23796\t23797\t23798\t23799\t23800\t23801\t23802\t23803\t23804\t23805\t23806\t23807\t23808\t23809\t23810\t23811\t23812\t23813\t23814\t23815\t23816\t23817\t23818\t23819\t23820\t23821\t23822\t23823\t23824\t23825\t23826\t23827\t23828\t23829\t23830\t23831\t23832\t23833\t23834\t23835\t23836\t23837\t23838\t23839\t23840\t23841\t23842\t23843\t23844\t23845\t23846\t23847\t23848\t23849\t23850\t23851\t23852\t23853\t23854\t23855\t23856\t23857\t23858\t23859\t23860\t23861\t23862\t23863\t23864\t23865\t23866\t23867\t23868\t23869\t23870\t23871\t23872\t23873\t23874\t23875\t23876\t23877\t23878\t23879\t23880\t23881\t23882\t23883\t23884\t23885\t23886\t23887\t23888\t23889\t23890\t23891\t23892\t23893\t23894\t23895\t23896\t23897\t23898\t23899\t23900\t23901\t23902\t23903\t23904\t23905\t23906\t23907\t23908\t23909\t23910\t23911\t23912\t23913\t23914\t23915\t23916\t23917\t23918\t23919\t23920\t23921\t23922\t23923\t23924\t23925\t23926\t23927\t23928\t23929\t23930\t23931\t23932\t23933\t23934\t23935\t23936\t23937\t23938\t23939\t23940\t23941\t23942\t23943\t23944\t23945\t23946\t23947\t23948\t23949\t23950\t23951\t23952\t23953\t23954\t23955\t23956\t23957\t23958\t23959\t23960\t23961\t23962\t23963\t23964\t23965\t23966\t23967\t23968\t23969\t23970\t23971\t23972\t23973\t23974\t23975\t23976\t23977\t23978\t23979\t23980\t23981\t23982\t23983\t23984\t23985\t23986\t23987\t23988\t23989\t23990\t23991\t23992\t23993\t23994\t23995\t23996\t23997\t23998\t23999\t24000\t24001\t24002\t24003\t24004\t24005\t24006\t24007\t24008\t24009\t24010\t24011\t24012\t24013\t24014\t24015\t24017\t24018\t24019\t24020\t24021\t24022\t24023\t24024\t24025\t24026\t24027\t24028\t24029\t24030\t24031\t24032\t24033\t24034\t24035\t24036\t24037\t24038\t24039\t24040\t24041\t24042\t24043\t24044\t24045\t24046\t24047\t24048\t24050\t24051\t24052\t24053\t24054\t24055\t24056\t24057\t24058\t24059\t24060\t24061\t24062\t24063\t24064\t24065\t24066\t24067\t24068\t24069\t24070\t24071\t24072\t24073\t24074\t24076\t24077\t24078\t24079\t24080\t24081\t24082\t24083\t24084\t24085\t24086\t24087\t24088\t24089\t24090\t24091\t24092\t24093\t24094\t24095\t24096\t24097\t24098\t24099\t24100\t24101\t24102\t24103\t24104\t24105\t24106\t24107\t24108\t24109\t24110\t24111\t24112\t24113\t24114\t24115\t24116\t24118\t24119\t24120\t24121\t24122\t24123\t24124\t24126\t24127\t24128\t24129\t24130\t24131\t24132\t24133\t24134\t24135\t24136\t24137\t24138\t24139\t24140\t24141\t24142\t24143\t24144\t24145\t24146\t24147\t24148\t24149\t24150\t24151\t24153\t24154\t24155\t24156\t24157\t24158\t24159\t24160\t24161\t24163\t24164\t24165\t24167\t24168\t24169\t24170\t24171\t24172\t24173\t24174\t24175\t24176\t24177\t24178\t24179\t24180\t24181\t24182\t24183\t24184\t24185\t24186\t24187\t24188\t24189\t24191\t24192\t24193\t24194\t24195\t24196\t24197\t24198\t24199\t24200\t24201\t24202\t24203\t24204\t24205\t24206\t24207\t24208\t24209\t24210\t24211\t24212\t24213\t24214\t24215\t24216\t24217\t24218\t24219\t24220\t24221\t24222\t24223\t24224\t24225\t24226\t24227\t24228\t24229\t24230\t24231\t24232\t24233\t24234\t24235\t24236\t24237\t24238\t24239\t24240\t24241\t24242\t24243\t24244\t24245\t24246\t24247\t24248\t24250\t24251\t24252\t24253\t24254\t24255\t24256\t24257\t24258\t24259\t24260\t24261\t24262\t24263\t24264\t24265\t24266\t24267\t24268\t24269\t24270\t24271\t24272\t24273\t24274\t24275\t24276\t24277\t24278\t24279\t24280\t24281\t24282\t24283\t24284\t24285\t24286\t24287\t24288\t24289\t24290\t24291\t24292\t24293\t24294\t24295\t24296\t24297\t24298\t24299\t24300\t24301\t24302\t24303\t24304\t24305\t24306\t24307\t24308\t24309\t24310\t24311\t24312\t24313\t24314\t24315\t24316\t24317\t24318\t24319\t24320\t24321\t24322\t24323\t24324\t24325\t24326\t24327\t24328\t24329\t24330\t24331\t24332\t24333\t24334\t24335\t24336\t24337\t24338\t24339\t24341\t24342\t24343\t24344\t24345\t24346\t24347\t24348\t24349\t24350\t24351\t24352\t24353\t24354\t24355\t24356\t24357\t24358\t24359\t24360\t24361\t24362\t24363\t24364\t24365\t24366\t24367\t24368\t24369\t24370\t24371\t24372\t24373\t24374\t24375\t24376\t24377\t24378\t24380\t24381\t24382\t24383\t24384\t24385\t24386\t24387\t24388\t24389\t24390\t24391\t24392\t24393\t24394\t24395\t24396\t24397\t24398\t24399\t24400\t24401\t24402\t24403\t24404\t24405\t24406\t24408\t24410\t24411\t24412\t24413\t24414\t24415\t24416\t24417\t24418\t24419\t24420\t24421\t24422\t24423\t24424\t24425\t24426\t24427\t24428\t24429\t24430\t24431\t24432\t24433\t24434\t24435\t24436\t24437\t24438\t24439\t24440\t24441\t24442\t24443\t24444\t24445\t24446\t24447\t24448\t24449\t24450\t24451\t24452\t24453\t24454\t24455\t24456\t24457\t24458\t24459\t24460\t24461\t24462\t24463\t24464\t24465\t24466\t24467\t24468\t24469\t24470\t24471\t24472\t24473\t24474\t24475\t24476\t24477\t24478\t24479\t24480\t24481\t24482\t24483\t24484\t24485\t24486\t24487\t24488\t24489\t24490\t24492\t24493\t24494\t24495\t24496\t24497\t24498\t24499\t24500\t24501\t24502\t24503\t24504\t24505\t24506\t24507\t24508\t24509\t24510\t24511\t24512\t24513\t24514\t24515\t24516\t24517\t24518\t24519\t24520\t24521\t24522\t24523\t24524\t24525\t24526\t24527\t24528\t24529\t24530\t24531\t24532\t24533\t24534\t24535\t24536\t24537\t24538\t24539\t24540\t24541\t24542\t24543\t24544\t24545\t24546\t24547\t24548\t24549\t24550\t24551\t24552\t24553\t24554\t24555\t24556\t24557\t24558\t24559\t24560\t24561\t24562\t24563\t24564\t24565\t24566\t24567\t24568\t24569\t24570\t24571\t24572\t24573\t24574\t24575\t24576\t24578\t24579\t24580\t24581\t24582\t24583\t24584\t24585\t24586\t24587\t24588\t24589\t24590\t24591\t24592\t24593\t24594\t24595\t24596\t24597\t24598\t24599\t24600\t24601\t24602\t24603\t24604\t24605\t24606\t24607\t24608\t24609\t24610\t24611\t24612\t24613\t24614\t24615\t24616\t24617\t24618\t24619\t24620\t24621\t24622\t24623\t24624\t24625\t24626\t24627\t24628\t24629\t24630\t24631\t24632\t24633\t24634\t24635\t24636\t24638\t24639\t24640\t24641\t24642\t24643\t24644\t24645\t24646\t24647\t24648\t24649\t24650\t24651\t24652\t24653\t24654\t24655\t24656\t24657\t24658\t24659\t24660\t24661\t24662\t24663\t24664\t24666\t24667\t24668\t24669\t24670\t24671\t24672\t24673\t24674\t24675\t24676\t24677\t24678\t24679\t24680\t24681\t24682\t24683\t24684\t24685\t24686\t24687\t24688\t24689\t24690\t24691\t24692\t24693\t24694\t24695\t24696\t24697\t24698\t24699\t24700\t24701\t24702\t24703\t24704\t24705\t24706\t24707\t24708\t24709\t24710\t24711\t24712\t24714\t24715\t24716\t24717\t24718\t24719\t24720\t24721\t24722\t24723\t24724\t24725\t24726\t24727\t24728\t24729\t24730\t24731\t24732\t24733\t24734\t24735\t24736\t24737\t24738\t24739\t24740\t24742\t24743\t24744\t24745\t24746\t24747\t24748\t24749\t24750\t24751\t24752\t24753\t24754\t24755\t24756\t24757\t24758\t24759\t24760\t24761\t24762\t24763\t24764\t24765\t24766\t24768\t24769\t24770\t24771\t24772\t24773\t24774\t24775\t24776\t24777\t24778\t24779\t24780\t24781\t24782\t24783\t24784\t24785\t24786\t24787\t24788\t24790\t24791\t24792\t24793\t24794\t24795\t24796\t24797\t24798\t24799\t24800\t24801\t24802\t24803\t24804\t24805\t24806\t24807\t24808\t24809\t24810\t24811\t24812\t24813\t24814\t24815\t24816\t24817\t24818\t24819\t24820\t24821\t24822\t24823\t24824\t24825\t24826\t24827\t24828\t24829\t24830\t24831\t24832\t24833\t24834\t24835\t24836\t24837\t24838\t24839\t24840\t24841\t24842\t24843\t24844\t24845\t24846\t24847\t24848\t24849\t24850\t24851\t24852\t24853\t24854\t24855\t24856\t24857\t24858\t24859\t24860\t24861\t24862\t24863\t24864\t24865\t24866\t24867\t24868\t24869\t24870\t24871\t24873\t24874\t24875\t24876\t24877\t24878\t24879\t24880\t24881\t24882\t24883\t24884\t24885\t24886\t24887\t24888\t24889\t24890\t24891\t24892\t24894\t24895\t24896\t24897\t24898\t24899\t24900\t24901\t24902\t24903\t24904\t24905\t24906\t24907\t24908\t24909\t24910\t24911\t24912\t24913\t24914\t24915\t24916\t24918\t24919\t24920\t24921\t24922\t24923\t24924\t24925\t24926\t24927\t24928\t24929\t24930\t24931\t24932\t24933\t24934\t24935\t24936\t24937\t24938\t24939\t24940\t24941\t24942\t24943\t24944\t24945\t24946\t24947\t24948\t24949\t24950\t24951\t24952\t24953\t24954\t24955\t24956\t24957\t24958\t24959\t24960\t24961\t24962\t24963\t24964\t24965\t24966\t24967\t24968\t24969\t24970\t24971\t24972\t24973\t24974\t24975\t24976\t24977\t24978\t24979\t24980\t24981\t24982\t24983\t24984\t24985\t24986\t24987\t24988\t24989\t24990\t24991\t24992\t24993\t24994\t24995\t24996\t24997\t24998\t24999\t25000\t25001\t25002\t25003\t25004\t25005\t25006\t25007\t25008\t25009\t25011\t25012\t25013\t25014\t25015\t25016\t25017\t25018\t25019\t25020\t25021\t25022\t25023\t25024\t25025\t25026\t25027\t25028\t25029\t25030\t25031\t25032\t25033\t25034\t25035\t25036\t25037\t25038\t25039\t25040\t25041\t25042\t25043\t25044\t25045\t25046\t25047\t25048\t25049\t25050\t25051\t25052\t25053\t25054\t25055\t25056\t25058\t25059\t25060\t25061\t25062\t25063\t25064\t25065\t25066\t25067\t25068\t25069\t25070\t25071\t25072\t25073\t25074\t25075\t25076\t25077\t25078\t25079\t25080\t25081\t25082\t25083\t25084\t25085\t25086\t25088\t25089\t25090\t25091\t25092\t25093\t25094\t25095\t25096\t25097\t25098\t25099\t25100\t25101\t25102\t25103\t25104\t25105\t25106\t25107\t25108\t25109\t25110\t25111\t25112\t25113\t25114\t25115\t25116\t25117\t25118\t25119\t25120\t25121\t25122\t25123\t25124\t25125\t25126\t25127\t25128\t25129\t25130\t25131\t25132\t25133\t25134\t25135\t25136\t25137\t25138\t25139\t25140\t25141\t25142\t25143\t25144\t25145\t25146\t25147\t25148\t25149\t25150\t25151\t25152\t25153\t25154\t25155\t25156\t25157\t25158\t25159\t25160\t25161\t25162\t25163\t25164\t25165\t25166\t25167\t25168\t25169\t25170\t25171\t25172\t25173\t25174\t25175\t25176\t25177\t25178\t25179\t25180\t25181\t25182\t25183\t25184\t25185\t25186\t25187\t25188\t25189\t25190\t25191\t25192\t25193\t25194\t25195\t25196\t25197\t25198\t25199\t25200\t25201\t25202\t25203\t25204\t25205\t25206\t25207\t25208\t25209\t25210\t25211\t25212\t25213\t25214\t25215\t25216\t25217\t25218\t25220\t25221\t25222\t25223\t25224\t25225\t25226\t25227\t25228\t25229\t25230\t25231\t25232\t25233\t25234\t25235\t25236\t25237\t25238\t25239\t25240\t25241\t25242\t25243\t25244\t25245\t25246\t25247\t25248\t25249\t25250\t25252\t25254\t25255\t25257\t25258\t25259\t25260\t25261\t25262\t25263\t25264\t25265\t25266\t25267\t25268\t25269\t25270\t25271\t25272\t25273\t25274\t25275\t25276\t25277\t25278\t25279\t25280\t25281\t25282\t25283\t25284\t25285\t25286\t25287\t25288\t25289\t25290\t25291\t25292\t25293\t25294\t25295\t25296\t25297\t25298\t25299\t25300\t25301\t25302\t25303\t25305\t25306\t25308\t25309\t25310\t25311\t25312\t25313\t25314\t25315\t25316\t25317\t25318\t25319\t25320\t25321\t25322\t25323\t25324\t25325\t25326\t25327\t25328\t25329\t25330\t25331\t25332\t25333\t25334\t25335\t25336\t25337\t25338\t25339\t25340\t25341\t25343\t25344\t25345\t25346\t25347\t25348\t25349\t25350\t25351\t25352\t25353\t25354\t25355\t25356\t25357\t25358\t25359\t25360\t25361\t25362\t25363\t25364\t25365\t25366\t25367\t25368\t25369\t25370\t25371\t25372\t25373\t25374\t25375\t25376\t25377\t25378\t25379\t25380\t25381\t25382\t25383\t25384\t25385\t25386\t25387\t25388\t25389\t25390\t25391\t25392\t25393\t25394\t25395\t25396\t25397\t25398\t25399\t25400\t25401\t25402\t25403\t25404\t25405\t25406\t25407\t25408\t25409\t25410\t25411\t25412\t25413\t25414\t25415\t25416\t25417\t25418\t25419\t25420\t25421\t25422\t25423\t25424\t25425\t25426\t25427\t25428\t25429\t25430\t25431\t25432\t25433\t25434\t25435\t25436\t25437\t25438\t25439\t25440\t25441\t25443\t25444\t25445\t25446\t25447\t25448\t25449\t25450\t25451\t25452\t25453\t25454\t25455\t25456\t25457\t25458\t25459\t25460\t25461\t25462\t25463\t25464\t25465\t25466\t25467\t25468\t25469\t25470\t25471\t25472\t25473\t25474\t25475\t25476\t25477\t25478\t25479\t25480\t25481\t25482\t25483\t25484\t25485\t25486\t25487\t25488\t25489\t25490\t25491\t25492\t25493\t25494\t25495\t25496\t25497\t25498\t25499\t25500\t25501\t25502\t25503\t25504\t25505\t25506\t25507\t25508\t25509\t25510\t25511\t25512\t25513\t25514\t25515\t25516\t25517\t25518\t25519\t25520\t25521\t25522\t25523\t25524\t25525\t25526\t25527\t25528\t25529\t25531\t25532\t25533\t25534\t25535\t25536\t25537\t25538\t25539\t25540\t25541\t25542\t25543\t25544\t25545\t25546\t25547\t25548\t25549\t25550\t25551\t25552\t25553\t25554\t25555\t25556\t25557\t25558\t25559\t25560\t25561\t25562\t25563\t25564\t25565\t25566\t25567\t25568\t25569\t25570\t25571\t25572\t25573\t25574\t25575\t25576\t25577\t25578\t25579\t25580\t25581\t25582\t25583\t25584\t25585\t25586\t25587\t25588\t25589\t25590\t25591\t25592\t25593\t25594\t25595\t25596\t25597\t25598\t25599\t25600\t25601\t25602\t25603\t25604\t25605\t25606\t25607\t25608\t25610\t25611\t25612\t25613\t25614\t25615\t25616\t25617\t25618\t25619\t25620\t25621\t25622\t25623\t25624\t25625\t25626\t25627\t25628\t25629\t25630\t25631\t25632\t25633\t25634\t25635\t25636\t25637\t25638\t25639\t25640\t25641\t25642\t25643\t25644\t25645\t25646\t25647\t25648\t25649\t25650\t25651\t25652\t25653\t25654\t25655\t25656\t25657\t25658\t25659\t25660\t25661\t25662\t25663\t25664\t25665\t25666\t25667\t25668\t25669\t25670\t25671\t25672\t25674\t25675\t25676\t25677\t25678\t25679\t25680\t25681\t25682\t25683\t25684\t25685\t25686\t25687\t25688\t25689\t25690\t25691\t25692\t25693\t25694\t25696\t25697\t25698\t25699\t25700\t25702\t25703\t25704\t25705\t25706\t25707\t25708\t25709\t25710\t25711\t25712\t25713\t25714\t25715\t25716\t25717\t25718\t25719\t25720\t25721\t25722\t25723\t25724\t25725\t25726\t25727\t25728\t25729\t25730\t25731\t25732\t25733\t25734\t25735\t25736\t25737\t25738\t25739\t25740\t25741\t25742\t25743\t25744\t25745\t25746\t25747\t25748\t25749\t25751\t25752\t25753\t25754\t25755\t25756\t25757\t25758\t25759\t25760\t25761\t25762\t25763\t25764\t25765\t25766\t25767\t25768\t25769\t25770\t25771\t25772\t25773\t25774\t25775\t25776\t25777\t25778\t25779\t25780\t25781\t25782\t25783\t25784\t25785\t25786\t25787\t25788\t25789\t25790\t25791\t25792\t25793\t25794\t25795\t25797\t25798\t25799\t25800\t25801\t25802\t25803\t25804\t25805\t25806\t25807\t25808\t25809\t25810\t25811\t25812\t25813\t25814\t25815\t25817\t25818\t25819\t25820\t25821\t25822\t25823\t25824\t25825\t25826\t25827\t25828\t25829\t25830\t25831\t25832\t25833\t25834\t25835\t25836\t25837\t25838\t25839\t25840\t25841\t25842\t25844\t25845\t25846\t25847\t25848\t25849\t25850\t25851\t25852\t25853\t25854\t25855\t25856\t25857\t25858\t25859\t25860\t25861\t25862\t25863\t25864\t25866\t25867\t25868\t25869\t25870\t25871\t25872\t25873\t25874\t25875\t25876\t25877\t25878\t25879\t25880\t25881\t25882\t25883\t25884\t25885\t25886\t25887\t25888\t25889\t25890\t25891\t25892\t25893\t25894\t25895\t25896\t25897\t25898\t25899\t25900\t25901\t25902\t25903\t25904\t25905\t25906\t25907\t25908\t25909\t25910\t25911\t25912\t25913\t25914\t25915\t25916\t25917\t25918\t25919\t25920\t25921\t25922\t25923\t25924\t25925\t25926\t25927\t25928\t25929\t25930\t25931\t25932\t25933\t25934\t25936\t25937\t25938\t25939\t25940\t25941\t25942\t25943\t25944\t25945\t25946\t25947\t25948\t25949\t25950\t25951\t25952\t25953\t25954\t25955\t25956\t25957\t25958\t25959\t25960\t25961\t25962\t25963\t25964\t25965\t25966\t25967\t25968\t25969\t25970\t25971\t25972\t25974\t25975\t25976\t25977\t25978\t25979\t25980\t25981\t25982\t25983\t25984\t25985\t25986\t25987\t25988\t25989\t25990\t25991\t25992\t25993\t25994\t25995\t25996\t25997\t25998\t25999\t26000\t26001\t26002\t26003\t26004\t26005\t26006\t26007\t26008\t26009\t26010\t26011\t26012\t26013\t26014\t26015\t26016\t26017\t26018\t26019\t26020\t26021\t26022\t26023\t26024\t26025\t26026\t26027\t26028\t26029\t26030\t26031\t26032\t26033\t26034\t26035\t26036\t26037\t26038\t26039\t26040\t26041\t26042\t26043\t26044\t26045\t26046\t26047\t26048\t26049\t26050\t26051\t26052\t26053\t26054\t26055\t26056\t26057\t26058\t26059\t26060\t26061\t26062\t26063\t26064\t26065\t26066\t26067\t26068\t26069\t26070\t26071\t26072\t26073\t26074\t26075\t26076\t26077\t26078\t26079\t26080\t26081\t26082\t26083\t26084\t26086\t26087\t26088\t26089\t26090\t26091\t26092\t26093\t26094\t26095\t26096\t26097\t26098\t26099\t26100\t26101\t26102\t26103\t26104\t26105\t26106\t26107\t26108\t26109\t26110\t26111\t26112\t26113\t26114\t26115\t26116\t26117\t26118\t26119\t26120\t26121\t26122\t26123\t26124\t26125\t26126\t26127\t26128\t26129\t26130\t26131\t26132\t26133\t26134\t26135\t26136\t26137\t26138\t26139\t26140\t26141\t26142\t26143\t26144\t26145\t26146\t26147\t26150\t26151\t26152\t26153\t26154\t26155\t26156\t26158\t26159\t26160\t26161\t26162\t26163\t26164\t26165\t26166\t26167\t26168\t26169\t26170\t26171\t26172\t26173\t26174\t26175\t26176\t26177\t26178\t26179\t26180\t26181\t26182\t26183\t26184\t26185\t26186\t26187\t26188\t26189\t26190\t26191\t26192\t26193\t26194\t26195\t26196\t26197\t26198\t26199\t26200\t26201\t26202\t26203\t26204\t26205\t26206\t26207\t26208\t26209\t26210\t26211\t26212\t26213\t26214\t26215\t26216\t26217\t26218\t26219\t26220\t26221\t26222\t26223\t26224\t26225\t26226\t26227\t26228\t26229\t26230\t26231\t26232\t26233\t26234\t26235\t26236\t26237\t26238\t26239\t26240\t26241\t26242\t26243\t26244\t26245\t26246\t26247\t26248\t26249\t26250\t26251\t26252\t26253\t26254\t26255\t26256\t26257\t26258\t26259\t26260\t26261\t26262\t26263\t26264\t26265\t26266\t26267\t26268\t26269\t26270\t26271\t26272\t26273\t26274\t26275\t26277\t26278\t26279\t26280\t26281\t26283\t26284\t26285\t26286\t26287\t26288\t26289\t26290\t26291\t26292\t26293\t26294\t26295\t26296\t26297\t26298\t26299\t26300\t26301\t26302\t26303\t26304\t26305\t26306\t26307\t26308\t26309\t26310\t26311\t26312\t26313\t26314\t26315\t26316\t26317\t26318\t26319\t26320\t26321\t26322\t26323\t26324\t26325\t26327\t26328\t26329\t26330\t26331\t26332\t26333\t26334\t26335\t26336\t26337\t26338\t26339\t26340\t26341\t26342\t26343\t26344\t26345\t26346\t26347\t26348\t26349\t26350\t26351\t26352\t26353\t26354\t26355\t26356\t26357\t26358\t26359\t26360\t26361\t26362\t26363\t26364\t26365\t26366\t26367\t26368\t26369\t26370\t26371\t26372\t26373\t26374\t26375\t26376\t26377\t26378\t26379\t26380\t26381\t26382\t26383\t26384\t26385\t26386\t26387\t26388\t26389\t26390\t26391\t26392\t26393\t26394\t26395\t26396\t26399\t26401\t26402\t26403\t26404\t26405\t26406\t26407\t26408\t26409\t26410\t26411\t26412\t26413\t26414\t26415\t26416\t26417\t26418\t26419\t26420\t26421\t26422\t26423\t26424\t26425\t26426\t26427\t26428\t26429\t26430\t26431\t26432\t26433\t26434\t26435\t26436\t26437\t26438\t26439\t26440\t26441\t26442\t26443\t26444\t26445\t26446\t26447\t26448\t26449\t26450\t26451\t26452\t26453\t26454\t26455\t26456\t26457\t26458\t26459\t26460\t26461\t26462\t26463\t26464\t26465\t26466\t26467\t26468\t26469\t26470\t26471\t26472\t26473\t26474\t26475\t26476\t26477\t26478\t26479\t26480\t26481\t26482\t26484\t26485\t26486\t26487\t26488\t26489\t26490\t26491\t26492\t26493\t26494\t26495\t26496\t26497\t26498\t26499\t26500\t26501\t26502\t26503\t26504\t26505\t26506\t26507\t26508\t26509\t26510\t26511\t26512\t26513\t26514\t26515\t26516\t26517\t26518\t26519\t26520\t26521\t26522\t26523\t26524\t26525\t26526\t26527\t26528\t26529\t26530\t26531\t26532\t26533\t26534\t26535\t26536\t26537\t26538\t26539\t26540\t26541\t26542\t26543\t26544\t26545\t26546\t26547\t26548\t26549\t26550\t26551\t26552\t26553\t26554\t26555\t26557\t26558\t26559\t26560\t26561\t26562\t26563\t26564\t26565\t26566\t26567\t26568\t26569\t26570\t26571\t26572\t26573\t26574\t26575\t26576\t26577\t26578\t26579\t26580\t26581\t26582\t26583\t26584\t26585\t26586\t26587\t26588\t26589\t26590\t26591\t26592\t26593\t26594\t26595\t26596\t26597\t26598\t26600\t26601\t26602\t26603\t26604\t26605\t26606\t26607\t26608\t26609\t26610\t26611\t26612\t26613\t26614\t26615\t26616\t26617\t26618\t26619\t26620\t26621\t26622\t26623\t26624\t26625\t26626\t26627\t26628\t26629\t26630\t26631\t26632\t26633\t26635\t26636\t26637\t26638\t26639\t26640\t26641\t26642\t26643\t26645\t26646\t26647\t26648\t26649\t26650\t26651\t26652\t26653\t26654\t26655\t26656\t26657\t26658\t26659\t26661\t26662\t26663\t26664\t26665\t26666\t26667\t26668\t26669\t26670\t26671\t26672\t26673\t26674\t26675\t26676\t26677\t26678\t26679\t26680\t26681\t26682\t26683\t26684\t26685\t26686\t26687\t26689\t26690\t26691\t26692\t26693\t26694\t26695\t26696\t26697\t26698\t26699\t26700\t26701\t26702\t26703\t26704\t26705\t26706\t26707\t26708\t26709\t26710\t26711\t26712\t26713\t26714\t26715\t26716\t26717\t26718\t26719\t26720\t26722\t26723\t26724\t26726\t26727\t26728\t26729\t26730\t26731\t26732\t26733\t26734\t26735\t26736\t26737\t26738\t26739\t26740\t26741\t26742\t26743\t26744\t26745\t26746\t26747\t26748\t26749\t26750\t26751\t26752\t26753\t26754\t26755\t26756\t26757\t26759\t26760\t26761\t26762\t26763\t26764\t26765\t26766\t26767\t26768\t26769\t26770\t26771\t26772\t26773\t26774\t26775\t26776\t26777\t26778\t26779\t26780\t26781\t26782\t26783\t26784\t26785\t26786\t26787\t26788\t26789\t26790\t26791\t26792\t26793\t26794\t26795\t26796\t26797\t26798\t26799\t26801\t26802\t26803\t26804\t26805\t26806\t26807\t26808\t26809\t26810\t26811\t26812\t26813\t26814\t26815\t26816\t26817\t26818\t26819\t26820\t26821\t26822\t26823\t26824\t26825\t26826\t26827\t26828\t26829\t26830\t26831\t26832\t26833\t26834\t26835\t26836\t26837\t26838\t26839\t26840\t26841\t26842\t26843\t26844\t26845\t26846\t26847\t26848\t26849\t26850\t26851\t26852\t26853\t26854\t26855\t26856\t26857\t26858\t26859\t26860\t26861\t26862\t26863\t26864\t26865\t26866\t26867\t26868\t26869\t26870\t26871\t26872\t26873\t26874\t26875\t26876\t26877\t26878\t26879\t26880\t26881\t26882\t26883\t26884\t26885\t26886\t26887\t26888\t26889\t26890\t26891\t26892\t26893\t26894\t26895\t26896\t26897\t26898\t26899\t26900\t26901\t26902\t26903\t26904\t26905\t26906\t26907\t26908\t26909\t26911\t26912\t26913\t26914\t26915\t26916\t26917\t26918\t26919\t26920\t26921\t26922\t26923\t26924\t26925\t26926\t26927\t26928\t26929\t26930\t26931\t26932\t26933\t26934\t26935\t26936\t26937\t26938\t26939\t26940\t26941\t26942\t26943\t26944\t26945\t26946\t26947\t26948\t26949\t26950\t26951\t26952\t26953\t26954\t26955\t26956\t26957\t26958\t26959\t26960\t26961\t26962\t26963\t26964\t26965\t26966\t26967\t26968\t26969\t26970\t26971\t26972\t26973\t26974\t26975\t26976\t26977\t26978\t26979\t26980\t26981\t26982\t26983\t26984\t26985\t26986\t26987\t26988\t26989\t26990\t26991\t26992\t26993\t26994\t26995\t26996\t26997\t26998\t26999\t27000\t27001\t27002\t27003\t27004\t27005\t27006\t27007\t27008\t27009\t27010\t27011\t27012\t27013\t27014\t27015\t27016\t27017\t27018\t27019\t27020\t27021\t27022\t27023\t27024\t27025\t27026\t27027\t27028\t27029\t27030\t27031\t27032\t27033\t27034\t27035\t27036\t27038\t27039\t27040\t27041\t27042\t27043\t27044\t27045\t27046\t27047\t27048\t27049\t27050\t27051\t27052\t27053\t27054\t27055\t27056\t27057\t27058\t27059\t27060\t27061\t27062\t27063\t27064\t27065\t27066\t27067\t27068\t27069\t27070\t27071\t27072\t27073\t27074\t27075\t27076\t27077\t27078\t27079\t27080\t27081\t27082\t27083\t27084\t27085\t27086\t27087\t27088\t27089\t27090\t27091\t27092\t27093\t27094\t27096\t27097\t27098\t27099\t27100\t27101\t27102\t27103\t27104\t27105\t27106\t27107\t27108\t27109\t27110\t27111\t27112\t27113\t27114\t27115\t27116\t27117\t27118\t27119\t27120\t27121\t27122\t27123\t27124\t27125\t27126\t27127\t27128\t27129\t27130\t27132\t27133\t27134\t27135\t27136\t27137\t27139\t27140\t27141\t27142\t27143\t27144\t27145\t27146\t27147\t27148\t27149\t27150\t27151\t27152\t27153\t27154\t27155\t27156\t27157\t27158\t27159\t27160\t27161\t27162\t27163\t27164\t27165\t27166\t27167\t27168\t27169\t27170\t27171\t27172\t27173\t27174\t27175\t27176\t27177\t27178\t27179\t27180\t27181\t27182\t27183\t27184\t27185\t27186\t27187\t27188\t27189\t27191\t27192\t27193\t27194\t27195\t27196\t27197\t27198\t27199\t27200\t27201\t27202\t27203\t27204\t27205\t27206\t27207\t27208\t27209\t27210\t27211\t27212\t27213\t27214\t27215\t27216\t27217\t27218\t27219\t27220\t27221\t27222\t27223\t27224\t27225\t27226\t27227\t27228\t27229\t27230\t27231\t27232\t27233\t27234\t27235\t27236\t27237\t27239\t27240\t27241\t27242\t27243\t27244\t27246\t27247\t27248\t27249\t27250\t27251\t27252\t27253\t27254\t27255\t27256\t27257\t27258\t27259\t27260\t27261\t27262\t27263\t27264\t27265\t27266\t27267\t27268\t27269\t27270\t27271\t27272\t27273\t27274\t27275\t27276\t27277\t27278\t27279\t27280\t27281\t27282\t27283\t27285\t27286\t27287\t27288\t27289\t27290\t27291\t27292\t27293\t27294\t27295\t27296\t27297\t27298\t27299\t27300\t27301\t27302\t27303\t27304\t27305\t27306\t27307\t27308\t27309\t27310\t27311\t27312\t27313\t27314\t27315\t27316\t27317\t27318\t27320\t27321\t27322\t27323\t27324\t27325\t27326\t27327\t27328\t27330\t27331\t27332\t27333\t27334\t27335\t27336\t27337\t27338\t27339\t27340\t27341\t27342\t27343\t27344\t27345\t27346\t27347\t27348\t27349\t27350\t27351\t27352\t27353\t27354\t27355\t27356\t27357\t27358\t27359\t27360\t27361\t27362\t27363\t27364\t27365\t27366\t27367\t27368\t27369\t27370\t27371\t27372\t27373\t27374\t27375\t27376\t27377\t27378\t27379\t27380\t27381\t27382\t27383\t27384\t27386\t27387\t27388\t27389\t27390\t27391\t27392\t27393\t27394\t27395\t27396\t27397\t27398\t27399\t27400\t27401\t27402\t27403\t27404\t27405\t27406\t27407\t27408\t27409\t27410\t27411\t27412\t27413\t27414\t27415\t27416\t27417\t27418\t27419\t27420\t27421\t27422\t27423\t27424\t27425\t27426\t27427\t27428\t27429\t27430\t27431\t27432\t27433\t27434\t27435\t27436\t27437\t27438\t27439\t27440\t27441\t27442\t27443\t27444\t27445\t27446\t27447\t27448\t27449\t27450\t27451\t27452\t27453\t27454\t27455\t27456\t27457\t27458\t27459\t27460\t27461\t27462\t27463\t27465\t27466\t27467\t27468\t27469\t27470\t27471\t27472\t27473\t27474\t27475\t27476\t27477\t27478\t27479\t27480\t27481\t27482\t27483\t27484\t27485\t27486\t27487\t27488\t27489\t27490\t27491\t27492\t27493\t27494\t27495\t27497\t27498\t27499\t27500\t27501\t27502\t27503\t27504\t27505\t27506\t27507\t27508\t27509\t27510\t27511\t27512\t27513\t27514\t27515\t27516\t27517\t27518\t27519\t27520\t27521\t27522\t27523\t27524\t27525\t27526\t27527\t27528\t27529\t27530\t27531\t27532\t27533\t27535\t27536\t27537\t27538\t27539\t27540\t27541\t27542\t27543\t27544\t27545\t27546\t27547\t27548\t27549\t27550\t27551\t27552\t27553\t27554\t27555\t27556\t27557\t27558\t27559\t27560\t27561\t27562\t27563\t27564\t27565\t27566\t27567\t27568\t27569\t27570\t27571\t27572\t27573\t27574\t27575\t27576\t27577\t27578\t27579\t27580\t27581\t27582\t27583\t27584\t27585\t27586\t27587\t27588\t27589\t27590\t27591\t27592\t27593\t27594\t27595\t27596\t27598\t27599\t27600\t27601\t27602\t27603\t27604\t27606\t27607\t27608\t27609\t27610\t27611\t27612\t27613\t27614\t27615\t27616\t27617\t27618\t27619\t27620\t27621\t27622\t27623\t27624\t27625\t27626\t27627\t27628\t27629\t27631\t27632\t27633\t27634\t27635\t27636\t27637\t27638\t27639\t27640\t27641\t27642\t27643\t27644\t27645\t27646\t27647\t27648\t27649\t27650\t27651\t27652\t27653\t27654\t27655\t27656\t27657\t27658\t27659\t27661\t27662\t27663\t27664\t27665\t27666\t27667\t27668\t27669\t27670\t27671\t27672\t27673\t27674\t27675\t27676\t27677\t27678\t27679\t27680\t27681\t27682\t27683\t27684\t27686\t27687\t27688\t27689\t27690\t27691\t27692\t27693\t27694\t27695\t27696\t27697\t27698\t27699\t27700\t27701\t27702\t27703\t27704\t27705\t27706\t27707\t27708\t27709\t27710\t27711\t27712\t27713\t27714\t27715\t27716\t27717\t27718\t27719\t27720\t27721\t27722\t27723\t27724\t27725\t27726\t27727\t27728\t27729\t27730\t27731\t27732\t27733\t27735\t27736\t27737\t27738\t27739\t27740\t27741\t27742\t27743\t27744\t27745\t27746\t27747\t27748\t27749\t27750\t27751\t27752\t27753\t27754\t27755\t27756\t27757\t27758\t27759\t27760\t27761\t27762\t27763\t27764\t27765\t27766\t27767\t27768\t27769\t27770\t27771\t27772\t27775\t27776\t27777\t27778\t27779\t27780\t27781\t27782\t27783\t27784\t27785\t27786\t27787\t27788\t27789\t27790\t27791\t27792\t27793\t27794\t27795\t27796\t27797\t27798\t27799\t27800\t27801\t27802\t27803\t27804\t27805\t27806\t27807\t27808\t27809\t27810\t27811\t27812\t27814\t27815\t27816\t27817\t27818\t27819\t27820\t27821\t27822\t27823\t27824\t27825\t27826\t27827\t27828\t27829\t27830\t27831\t27832\t27833\t27834\t27835\t27836\t27837\t27838\t27839\t27840\t27841\t27842\t27843\t27844\t27845\t27846\t27847\t27848\t27849\t27850\t27852\t27853\t27854\t27855\t27856\t27857\t27858\t27859\t27860\t27861\t27862\t27863\t27864\t27865\t27866\t27867\t27868\t27869\t27870\t27872\t27873\t27874\t27875\t27876\t27877\t27878\t27879\t27880\t27881\t27882\t27883\t27884\t27885\t27886\t27887\t27888\t27889\t27890\t27891\t27892\t27893\t27894\t27895\t27896\t27897\t27898\t27899\t27900\t27901\t27902\t27904\t27905\t27906\t27907\t27908\t27909\t27910\t27911\t27912\t27913\t27914\t27915\t27916\t27917\t27918\t27919\t27920\t27921\t27922\t27923\t27924\t27925\t27926\t27927\t27928\t27929\t27930\t27931\t27932\t27933\t27934\t27935\t27936\t27937\t27938\t27939\t27940\t27941\t27942\t27943\t27944\t27945\t27946\t27947\t27948\t27949\t27950\t27951\t27952\t27953\t27954\t27955\t27956\t27957\t27958\t27959\t27960\t27961\t27962\t27963\t27964\t27965\t27966\t27967\t27968\t27969\t27970\t27971\t27972\t27973\t27974\t27975\t27976\t27977\t27978\t27979\t27980\t27981\t27982\t27983\t27984\t27985\t27986\t27987\t27988\t27989\t27990\t27991\t27992\t27993\t27994\t27995\t27996\t27997\t27998\t27999\t28000\t28001\t28002\t28003\t28004\t28005\t28006\t28007\t28008\t28009\t28010\t28011\t28012\t28013\t28014\t28015\t28016\t28017\t28018\t28019\t28020\t28021\t28022\t28023\t28024\t28025\t28026\t28027\t28028\t28029\t28030\t28031\t28032\t28033\t28034\t28035\t28036\t28037\t28038\t28039\t28040\t28041\t28042\t28043\t28044\t28045\t28046\t28047\t28049\t28050\t28051\t28052\t28053\t28054\t28055\t28056\t28057\t28058\t28059\t28060\t28061\t28062\t28063\t28064\t28065\t28066\t28067\t28068\t28069\t28070\t28071\t28072\t28073\t28074\t28075\t28076\t28077\t28078\t28079\t28080\t28081\t28082\t28083\t28084\t28085\t28086\t28087\t28088\t28089\t28090\t28091\t28092\t28093\t28094\t28095\t28096\t28097\t28098\t28099\t28100\t28101\t28102\t28103\t28104\t28105\t28106\t28107\t28108\t28109\t28110\t28111\t28112\t28113\t28114\t28115\t28116\t28117\t28118\t28119\t28120\t28121\t28122\t28123\t28124\t28125\t28126\t28127\t28128\t28129\t28130\t28131\t28132\t28133\t28134\t28135\t28136\t28137\t28138\t28139\t28140\t28141\t28142\t28143\t28144\t28145\t28146\t28147\t28148\t28149\t28150\t28151\t28152\t28153\t28154\t28155\t28156\t28157\t28158\t28159\t28160\t28161\t28162\t28163\t28164\t28165\t28166\t28167\t28168\t28169\t28170\t28171\t28172\t28173\t28174\t28175\t28176\t28177\t28178\t28179\t28180\t28181\t28182\t28183\t28184\t28185\t28186\t28187\t28188\t28189\t28190\t28191\t28192\t28193\t28194\t28195\t28196\t28197\t28198\t28199\t28200\t28201\t28202\t28203\t28204\t28205\t28206\t28207\t28208\t28209\t28210\t28211\t28212\t28213\t28214\t28215\t28216\t28217\t28218\t28219\t28220\t28221\t28222\t28223\t28224\t28225\t28226\t28227\t28228\t28229\t28230\t28231\t28232\t28233\t28234\t28235\t28236\t28237\t28238\t28239\t28240\t28241\t28242\t28243\t28244\t28245\t28246\t28247\t28248\t28249\t28250\t28251\t28252\t28253\t28254\t28255\t28256\t28257\t28258\t28259\t28260\t28261\t28262\t28263\t28264\t28265\t28266\t28267\t28268\t28269\t28270\t28271\t28272\t28273\t28274\t28275\t28276\t28277\t28278\t28279\t28280\t28281\t28282\t28283\t28284\t28285\t28286\t28287\t28288\t28289\t28290\t28291\t28293\t28294\t28296\t28297\t28298\t28299\t28300\t28301\t28302\t28303\t28304\t28305\t28306\t28307\t28308\t28309\t28310\t28311\t28312\t28313\t28314\t28315\t28316\t28317\t28318\t28319\t28320\t28321\t28322\t28323\t28324\t28325\t28326\t28327\t28328\t28329\t28330\t28331\t28332\t28333\t28334\t28335\t28336\t28337\t28338\t28339\t28340\t28341\t28342\t28343\t28344\t28345\t28346\t28347\t28348\t28349\t28350\t28351\t28352\t28353\t28354\t28355\t28356\t28357\t28358\t28359\t28360\t28361\t28362\t28363\t28364\t28365\t28366\t28367\t28368\t28369\t28370\t28371\t28372\t28373\t28374\t28375\t28376\t28377\t28378\t28379\t28380\t28381\t28382\t28383\t28384\t28385\t28386\t28387\t28388\t28389\t28390\t28391\t28392\t28393\t28394\t28395\t28396\t28397\t28398\t28399\t28400\t28401\t28402\t28403\t28405\t28406\t28407\t28408\t28409\t28410\t28411\t28412\t28413\t28414\t28415\t28416\t28417\t28418\t28419\t28420\t28421\t28422\t28423\t28424\t28425\t28426\t28427\t28429\t28430\t28431\t28432\t28433\t28434\t28435\t28436\t28437\t28438\t28439\t28440\t28441\t28442\t28443\t28444\t28445\t28446\t28447\t28448\t28449\t28450\t28452\t28453\t28454\t28455\t28456\t28457\t28458\t28459\t28460\t28461\t28462\t28463\t28464\t28465\t28466\t28467\t28468\t28469\t28470\t28471\t28472\t28473\t28474\t28475\t28476\t28477\t28478\t28479\t28480\t28481\t28482\t28483\t28484\t28485\t28486\t28487\t28488\t28489\t28490\t28491\t28492\t28493\t28494\t28495\t28496\t28497\t28498\t28499\t28500\t28501\t28502\t28503\t28504\t28505\t28506\t28507\t28508\t28509\t28510\t28511\t28512\t28513\t28514\t28515\t28516\t28517\t28518\t28519\t28520\t28521\t28522\t28523\t28524\t28525\t28526\t28527\t28528\t28529\t28530\t28531\t28532\t28533\t28534\t28535\t28536\t28537\t28538\t28539\t28540\t28541\t28542\t28543\t28544\t28545\t28546\t28547\t28548\t28549\t28550\t28551\t28552\t28553\t28554\t28555\t28556\t28557\t28558\t28559\t28560\t28561\t28562\t28563\t28564\t28565\t28566\t28567\t28568\t28569\t28570\t28571\t28572\t28573\t28574\t28575\t28576\t28577\t28578\t28579\t28581\t28582\t28583\t28584\t28585\t28586\t28587\t28588\t28589\t28590\t28591\t28592\t28593\t28594\t28595\t28596\t28597\t28598\t28599\t28600\t28601\t28602\t28603\t28604\t28605\t28606\t28607\t28608\t28609\t28610\t28611\t28612\t28614\t28615\t28616\t28617\t28618\t28619\t28620\t28621\t28622\t28623\t28624\t28625\t28626\t28627\t28628\t28629\t28630\t28631\t28632\t28633\t28634\t28635\t28636\t28637\t28638\t28639\t28640\t28641\t28642\t28643\t28644\t28645\t28646\t28647\t28648\t28649\t28650\t28651\t28652\t28653\t28654\t28655\t28656\t28657\t28658\t28659\t28660\t28661\t28662\t28663\t28664\t28665\t28666\t28667\t28668\t28669\t28670\t28671\t28672\t28673\t28674\t28675\t28676\t28677\t28678\t28679\t28680\t28681\t28682\t28683\t28684\t28685\t28686\t28687\t28688\t28689\t28690\t28691\t28692\t28693\t28694\t28695\t28696\t28697\t28698\t28699\t28700\t28701\t28702\t28703\t28704\t28705\t28706\t28707\t28708\t28709\t28710\t28711\t28712\t28713\t28714\t28715\t28717\t28718\t28719\t28720\t28722\t28723\t28724\t28725\t28726\t28727\t28728\t28729\t28730\t28731\t28732\t28733\t28734\t28735\t28736\t28737\t28738\t28739\t28740\t28742\t28743\t28744\t28745\t28746\t28747\t28748\t28749\t28750\t28751\t28752\t28753\t28754\t28755\t28756\t28757\t28758\t28759\t28760\t28761\t28762\t28763\t28764\t28765\t28766\t28767\t28768\t28769\t28770\t28771\t28772\t28773\t28774\t28775\t28776\t28777\t28778\t28779\t28780\t28781\t28782\t28783\t28784\t28785\t28786\t28787\t28788\t28789\t28790\t28791\t28793\t28794\t28795\t28796\t28797\t28798\t28799\t28800\t28801\t28802\t28803\t28804\t28805\t28806\t28807\t28808\t28809\t28810\t28811\t28812\t28813\t28814\t28815\t28816\t28817\t28818\t28819\t28820\t28821\t28822\t28823\t28824\t28825\t28826\t28827\t28828\t28829\t28830\t28831\t28832\t28833\t28834\t28835\t28836\t28837\t28838\t28839\t28840\t28841\t28842\t28843\t28844\t28845\t28846\t28847\t28848\t28849\t28850\t28851\t28852\t28853\t28854\t28855\t28856\t28857\t28858\t28859\t28860\t28861\t28862\t28863\t28864\t28865\t28866\t28867\t28868\t28869\t28871\t28872\t28874\t28875\t28876\t28877\t28878\t28879\t28880\t28881\t28882\t28883\t28884\t28885\t28886\t28887\t28888\t28889\t28890\t28891\t28892\t28893\t28894\t28895\t28896\t28897\t28898\t28899\t28900\t28901\t28902\t28903\t28904\t28905\t28906\t28907\t28908\t28909\t28910\t28911\t28912\t28913\t28914\t28915\t28916\t28917\t28918\t28919\t28920\t28921\t28922\t28923\t28924\t28925\t28926\t28927\t28928\t28929\t28930\t28931\t28933\t28934\t28935\t28936\t28937\t28938\t28939\t28940\t28941\t28942\t28943\t28944\t28945\t28946\t28947\t28948\t28949\t28950\t28951\t28952\t28953\t28954\t28955\t28956\t28957\t28958\t28959\t28960\t28961\t28962\t28963\t28964\t28965\t28966\t28967\t28968\t28969\t28970\t28971\t28972\t28973\t28974\t28975\t28976\t28977\t28978\t28979\t28980\t28981\t28982\t28983\t28984\t28985\t28986\t28987\t28988\t28989\t28990\t28991\t28992\t28993\t28994\t28995\t28996\t28997\t28998\t28999\t29000\t29001\t29002\t29003\t29004\t29005\t29006\t29007\t29008\t29009\t29010\t29011\t29012\t29013\t29014\t29015\t29016\t29018\t29019\t29020\t29021\t29022\t29023\t29024\t29025\t29026\t29027\t29028\t29029\t29030\t29031\t29032\t29033\t29034\t29035\t29036\t29037\t29038\t29039\t29040\t29041\t29042\t29043\t29045\t29046\t29047\t29048\t29049\t29050\t29051\t29052\t29053\t29054\t29055\t29056\t29057\t29058\t29059\t29060\t29061\t29062\t29063\t29064\t29065\t29066\t29067\t29068\t29069\t29070\t29071\t29072\t29073\t29074\t29075\t29076\t29077\t29078\t29079\t29080\t29081\t29082\t29083\t29084\t29085\t29086\t29087\t29088\t29089\t29090\t29091\t29092\t29093\t29094\t29096\t29097\t29098\t29099\t29100\t29101\t29102\t29103\t29104\t29105\t29106\t29107\t29108\t29109\t29110\t29111\t29112\t29113\t29114\t29115\t29116\t29117\t29118\t29119\t29120\t29121\t29122\t29123\t29124\t29125\t29126\t29127\t29128\t29129\t29130\t29131\t29132\t29133\t29134\t29135\t29136\t29137\t29138\t29139\t29140\t29141\t29142\t29143\t29144\t29145\t29146\t29147\t29148\t29149\t29150\t29151\t29152\t29153\t29154\t29155\t29156\t29157\t29158\t29159\t29160\t29161\t29162\t29163\t29164\t29165\t29166\t29167\t29168\t29169\t29170\t29171\t29172\t29173\t29174\t29175\t29176\t29177\t29178\t29179\t29180\t29181\t29182\t29183\t29184\t29185\t29186\t29187\t29188\t29189\t29190\t29191\t29192\t29193\t29194\t29195\t29196\t29197\t29198\t29199\t29200\t29201\t29202\t29203\t29204\t29205\t29206\t29207\t29208\t29209\t29210\t29211\t29212\t29213\t29214\t29215\t29216\t29217\t29218\t29219\t29220\t29221\t29222\t29223\t29224\t29225\t29226\t29227\t29228\t29229\t29230\t29231\t29232\t29233\t29234\t29235\t29236\t29237\t29238\t29239\t29240\t29241\t29242\t29243\t29244\t29245\t29246\t29247\t29248\t29249\t29250\t29251\t29252\t29253\t29254\t29255\t29256\t29257\t29258\t29259\t29260\t29261\t29262\t29263\t29264\t29265\t29266\t29267\t29268\t29269\t29270\t29271\t29272\t29273\t29274\t29275\t29276\t29277\t29278\t29279\t29280\t29281\t29282\t29283\t29284\t29285\t29286\t29287\t29288\t29289\t29290\t29291\t29292\t29293\t29294\t29295\t29296\t29297\t29298\t29299\t29300\t29301\t29302\t29303\t29304\t29305\t29306\t29307\t29308\t29309\t29310\t29311\t29312\t29313\t29314\t29315\t29316\t29317\t29318\t29319\t29320\t29321\t29322\t29323\t29324\t29325\t29326\t29327\t29328\t29329\t29330\t29331\t29332\t29333\t29334\t29335\t29336\t29337\t29338\t29339\t29340\t29341\t29342\t29343\t29344\t29345\t29346\t29347\t29348\t29349\t29350\t29351\t29352\t29353\t29354\t29355\t29356\t29357\t29358\t29359\t29360\t29361\t29362\t29363\t29364\t29365\t29366\t29368\t29369\t29370\t29371\t29372\t29373\t29374\t29375\t29376\t29377\t29378\t29379\t29380\t29381\t29382\t29383\t29384\t29385\t29386\t29387\t29388\t29389\t29390\t29391\t29392\t29393\t29394\t29395\t29396\t29397\t29398\t29399\t29400\t29401\t29402\t29403\t29404\t29405\t29406\t29407\t29408\t29409\t29410\t29411\t29412\t29413\t29414\t29415\t29416\t29417\t29418\t29419\t29420\t29421\t29422\t29423\t29424\t29425\t29426\t29427\t29428\t29429\t29430\t29431\t29432\t29433\t29434\t29435\t29436\t29437\t29438\t29439\t29440\t29441\t29442\t29443\t29444\t29445\t29446\t29447\t29448\t29449\t29450\t29451\t29452\t29453\t29454\t29455\t29456\t29457\t29458\t29459\t29460\t29461\t29462\t29463\t29464\t29465\t29466\t29467\t29468\t29469\t29470\t29471\t29472\t29473\t29474\t29475\t29476\t29477\t29478\t29479\t29480\t29481\t29482\t29483\t29484\t29485\t29486\t29487\t29488\t29489\t29490\t29491\t29492\t29493\t29494\t29495\t29496\t29497\t29498\t29499\t29500\t29501\t29502\t29503\t29504\t29505\t29506\t29507\t29508\t29509\t29510\t29511\t29512\t29513\t29514\t29515\t29516\t29517\t29518\t29519\t29520\t29521\t29522\t29523\t29524\t29525\t29526\t29527\t29528\t29529\t29530\t29531\t29534\t29535\t29536\t29537\t29538\t29539\t29540\t29541\t29542\t29543\t29544\t29545\t29546\t29547\t29548\t29549\t29550\t29552\t29553\t29554\t29555\t29556\t29557\t29558\t29559\t29560\t29561\t29562\t29563\t29564\t29565\t29566\t29567\t29568\t29569\t29570\t29571\t29572\t29573\t29574\t29575\t29576\t29577\t29578\t29579\t29580\t29581\t29582\t29583\t29584\t29585\t29586\t29587\t29588\t29589\t29590\t29591\t29592\t29593\t29594\t29595\t29596\t29597\t29598\t29599\t29600\t29601\t29602\t29603\t29604\t29605\t29606\t29607\t29608\t29609\t29610\t29611\t29612\t29613\t29614\t29615\t29616\t29617\t29618\t29619\t29620\t29621\t29622\t29623\t29624\t29625\t29626\t29627\t29628\t29629\t29630\t29631\t29632\t29633\t29634\t29635\t29636\t29637\t29638\t29639\t29640\t29641\t29643\t29644\t29645\t29646\t29647\t29648\t29649\t29650\t29651\t29652\t29653\t29654\t29655\t29656\t29657\t29658\t29660\t29661\t29662\t29663\t29664\t29665\t29666\t29667\t29668\t29669\t29670\t29671\t29672\t29673\t29674\t29675\t29676\t29677\t29678\t29679\t29680\t29681\t29683\t29684\t29685\t29686\t29687\t29688\t29689\t29690\t29691\t29692\t29693\t29694\t29695\t29696\t29698\t29699\t29700\t29701\t29702\t29703\t29704\t29705\t29706\t29707\t29708\t29710\t29711\t29712\t29714\t29715\t29716\t29717\t29718\t29719\t29720\t29721\t29722\t29723\t29724\t29725\t29726\t29727\t29728\t29729\t29730\t29731\t29732\t29733\t29734\t29735\t29736\t29737\t29738\t29739\t29740\t29741\t29742\t29743\t29744\t29745\t29746\t29747\t29748\t29749\t29750\t29751\t29752\t29753\t29754\t29755\t29756\t29757\t29758\t29759\t29760\t29761\t29762\t29763\t29764\t29765\t29766\t29767\t29768\t29769\t29770\t29771\t29772\t29773\t29774\t29775\t"
     ]
    }
   ],
   "source": [
    "for x in range(len(yhat)):\n",
    "   if (yhat[x] == 0):\n",
    "      print(x, end=\"\\t\") #indexes of all rows (machines) that are NORMAL"
   ]
  },
  {
   "cell_type": "code",
   "execution_count": 40,
   "id": "741b6d27",
   "metadata": {},
   "outputs": [
    {
     "name": "stdout",
     "output_type": "stream",
     "text": [
      "22008\t"
     ]
    }
   ],
   "source": [
    "for x in range(len(yhat)):\n",
    "   if (yhat[x] == 2):\n",
    "      print(x, end=\"\\t\") #indexes of all rows (machines) that are BROKEN"
   ]
  },
  {
   "cell_type": "code",
   "execution_count": 41,
   "id": "c15f43fd",
   "metadata": {},
   "outputs": [
    {
     "name": "stdout",
     "output_type": "stream",
     "text": [
      "28\t128\t179\t191\t236\t315\t436\t469\t470\t472\t499\t540\t567\t570\t589\t821\t873\t876\t899\t939\t1089\t1133\t1180\t1182\t1197\t1234\t1293\t1310\t1361\t1364\t1387\t1396\t1464\t1488\t1492\t1530\t1612\t1615\t1688\t1712\t1787\t1792\t1804\t1834\t2006\t2028\t2062\t2086\t2159\t2178\t2202\t2222\t2250\t2292\t2297\t2348\t2405\t2422\t2469\t2578\t2595\t2629\t2641\t2750\t2757\t2806\t2821\t2883\t2891\t2957\t3075\t3124\t3133\t3152\t3157\t3161\t3166\t3167\t3314\t3333\t3343\t3457\t3497\t3509\t3523\t3625\t3656\t3663\t3734\t3766\t3782\t3794\t3816\t3882\t3940\t3943\t3969\t3973\t3978\t4020\t4043\t4052\t4113\t4142\t4152\t4178\t4228\t4440\t4463\t4488\t4493\t4494\t4507\t4532\t4609\t4730\t4771\t4777\t4846\t4868\t5038\t5048\t5060\t5067\t5080\t5088\t5141\t5159\t5183\t5228\t5244\t5249\t5349\t5388\t5395\t5511\t5573\t5595\t5641\t5799\t5804\t5818\t5872\t5875\t5879\t6025\t6083\t6119\t6204\t6207\t6263\t6324\t6351\t6422\t6475\t6532\t6556\t6615\t6689\t6702\t6754\t6765\t6785\t6817\t6828\t6854\t6896\t6901\t6910\t6911\t6929\t7117\t7137\t7150\t7160\t7203\t7218\t7222\t7240\t7259\t7275\t7277\t7298\t7330\t7341\t7392\t7463\t7599\t7612\t7618\t7662\t7752\t7769\t7779\t7831\t7878\t7898\t7933\t7968\t7999\t8010\t8075\t8124\t8172\t8179\t8203\t8229\t8260\t8263\t8329\t8383\t8386\t8519\t8580\t8639\t8672\t8719\t8748\t8763\t8816\t8844\t8924\t8926\t8949\t9073\t9219\t9253\t9294\t9299\t9377\t9423\t9443\t9453\t9455\t9465\t9472\t9550\t9570\t9606\t9671\t9683\t9698\t9700\t9736\t9825\t9852\t9862\t9864\t9890\t9926\t9970\t10134\t10143\t10176\t10224\t10236\t10273\t10293\t10324\t10379\t10415\t10432\t10523\t10646\t10649\t10651\t10658\t10668\t10682\t10810\t10821\t10837\t10851\t10867\t10901\t10910\t10938\t10981\t11043\t11044\t11054\t11069\t11104\t11115\t11158\t11198\t11213\t11329\t11353\t11372\t11431\t11438\t11442\t11488\t11568\t11665\t11749\t11784\t11787\t11789\t11866\t11878\t11911\t11919\t11977\t12010\t12143\t12180\t12184\t12211\t12282\t12366\t12379\t12402\t12417\t12462\t12474\t12553\t12554\t12593\t12624\t12628\t12639\t12652\t12744\t12915\t12940\t12976\t13018\t13042\t13049\t13114\t13156\t13175\t13192\t13260\t13302\t13325\t13343\t13455\t13515\t13525\t13542\t13571\t13572\t13632\t13729\t13731\t13791\t13801\t13861\t13881\t13914\t13927\t14015\t14030\t14075\t14110\t14147\t14197\t14223\t14225\t14284\t14292\t14346\t14350\t14356\t14424\t14523\t14527\t14545\t14549\t14568\t14609\t14722\t14739\t14741\t14755\t14763\t14786\t14798\t14867\t15039\t15122\t15125\t15139\t15185\t15189\t15218\t15234\t15248\t15294\t15420\t15435\t15447\t15467\t15531\t15578\t15584\t15615\t15671\t15712\t15717\t15761\t15852\t16028\t16035\t16131\t16178\t16253\t16273\t16324\t16350\t16364\t16382\t16385\t16441\t16538\t16608\t16663\t16758\t16803\t16813\t16814\t16820\t16891\t16925\t16964\t16985\t16991\t17056\t17079\t17096\t17103\t17107\t17165\t17168\t17180\t17185\t17212\t17216\t17296\t17333\t17529\t17597\t17641\t17661\t17721\t17764\t17777\t17823\t17882\t17934\t17945\t17981\t17994\t18036\t18060\t18136\t18165\t18168\t18274\t18282\t18287\t18331\t18343\t18344\t18347\t18356\t18388\t18416\t18423\t18426\t18455\t18457\t18467\t18493\t18510\t18599\t18613\t18635\t18673\t18823\t18854\t18937\t18953\t18982\t19038\t19059\t19105\t19111\t19180\t19208\t19223\t19225\t19229\t19280\t19392\t19422\t19549\t19581\t19594\t19643\t19728\t19836\t19846\t19955\t20004\t20010\t20090\t20145\t20171\t20206\t20234\t20314\t20407\t20420\t20425\t20428\t20516\t20578\t20599\t20615\t20686\t20708\t20806\t20830\t20844\t20868\t20920\t20929\t20936\t20954\t20975\t21006\t21020\t21037\t21066\t21107\t21128\t21162\t21238\t21257\t21274\t21289\t21318\t21344\t21387\t21411\t21413\t21449\t21467\t21505\t21537\t21672\t21674\t21815\t21834\t21848\t21873\t21928\t21938\t21944\t22023\t22077\t22106\t22123\t22173\t22185\t22214\t22242\t22253\t22294\t22345\t22422\t22468\t22479\t22779\t22856\t22862\t22874\t22924\t22932\t23018\t23029\t23066\t23075\t23082\t23107\t23179\t23186\t23248\t23294\t23363\t23403\t23429\t23436\t23437\t23561\t23569\t23578\t23651\t23756\t24016\t24049\t24075\t24117\t24125\t24152\t24162\t24166\t24190\t24249\t24340\t24379\t24407\t24409\t24491\t24577\t24637\t24665\t24713\t24741\t24767\t24789\t24872\t24893\t24917\t25010\t25057\t25087\t25219\t25251\t25253\t25256\t25304\t25307\t25342\t25442\t25530\t25609\t25673\t25695\t25701\t25750\t25796\t25816\t25843\t25865\t25935\t25973\t26085\t26148\t26149\t26157\t26276\t26282\t26326\t26397\t26398\t26400\t26483\t26556\t26599\t26634\t26644\t26660\t26688\t26721\t26725\t26758\t26800\t26910\t27037\t27095\t27131\t27138\t27190\t27238\t27245\t27284\t27319\t27329\t27385\t27464\t27496\t27534\t27597\t27605\t27630\t27660\t27685\t27734\t27773\t27774\t27813\t27851\t27871\t27903\t28048\t28292\t28295\t28404\t28428\t28451\t28580\t28613\t28716\t28721\t28741\t28792\t28870\t28873\t28932\t29017\t29044\t29095\t29367\t29532\t29533\t29551\t29642\t29659\t29682\t29697\t29709\t29713\t"
     ]
    }
   ],
   "source": [
    "for x in range(len(yhat)):\n",
    "   if (yhat[x] == 1):\n",
    "      print(x, end=\"\\t\") #indexes of all rows (machines) that are RECOVERED"
   ]
  },
  {
   "cell_type": "code",
   "execution_count": 57,
   "id": "636aa537",
   "metadata": {},
   "outputs": [
    {
     "data": {
      "text/plain": [
       "array([[9.99374796e-01, 6.21681009e-04, 3.52289115e-06],\n",
       "       [9.99991905e-01, 1.27168613e-09, 8.09407947e-06],\n",
       "       [9.99968046e-01, 3.07567215e-05, 1.19717080e-06],\n",
       "       ...,\n",
       "       [9.99180871e-01, 8.16609951e-04, 2.51896247e-06],\n",
       "       [9.99989759e-01, 1.85141813e-09, 1.02387189e-05],\n",
       "       [9.99977968e-01, 1.87271219e-05, 3.30507000e-06]])"
      ]
     },
     "execution_count": 57,
     "metadata": {},
     "output_type": "execute_result"
    }
   ],
   "source": [
    "y_pred = model_1.predict_proba(X_test) #our ouput as probabiity distribution\n",
    "y_pred"
   ]
  },
  {
   "cell_type": "code",
   "execution_count": 48,
   "id": "1283c69a",
   "metadata": {},
   "outputs": [
    {
     "data": {
      "text/plain": [
       "array([[0.57588784, 0.21212162, 0.21199054],\n",
       "       [0.57611392, 0.21194218, 0.2119439 ],\n",
       "       [0.57610518, 0.21195054, 0.21194428],\n",
       "       ...,\n",
       "       [0.57581678, 0.21217794, 0.21200528],\n",
       "       [0.57611313, 0.21194235, 0.21194452],\n",
       "       [0.57610881, 0.21194723, 0.21194396]])"
      ]
     },
     "execution_count": 48,
     "metadata": {},
     "output_type": "execute_result"
    }
   ],
   "source": [
    "softmax(y_pred, axis = 1) #normalized"
   ]
  }
 ],
 "metadata": {
  "kernelspec": {
   "display_name": "Python 3 (ipykernel)",
   "language": "python",
   "name": "python3"
  },
  "language_info": {
   "codemirror_mode": {
    "name": "ipython",
    "version": 3
   },
   "file_extension": ".py",
   "mimetype": "text/x-python",
   "name": "python",
   "nbconvert_exporter": "python",
   "pygments_lexer": "ipython3",
   "version": "3.11.3"
  }
 },
 "nbformat": 4,
 "nbformat_minor": 5
}
